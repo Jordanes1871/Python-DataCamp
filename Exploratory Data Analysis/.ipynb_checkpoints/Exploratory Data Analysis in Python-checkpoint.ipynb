{
 "cells": [
  {
   "cell_type": "markdown",
   "metadata": {},
   "source": [
    "# Exploratory Data Analysis in Python\n"
   ]
  },
  {
   "cell_type": "markdown",
   "metadata": {},
   "source": [
    "## 1. Getting to Know a Dataset"
   ]
  },
  {
   "cell_type": "markdown",
   "metadata": {},
   "source": [
    "### Functions for initial explorations\n",
    "You are researching unemployment rates worldwide and have been given a new dataset to work with. The data has been saved and loaded for you as a pandas DataFrame called unemployment. You've never seen the data before, so your first task is to use a few pandas functions to learn about this new data."
   ]
  },
  {
   "cell_type": "code",
   "execution_count": 2,
   "metadata": {},
   "outputs": [
    {
     "name": "stdout",
     "output_type": "stream",
     "text": [
      "------------------------------------------------------------\n",
      "country_code\n",
      "country_name\n",
      "continent\n",
      "2010\n",
      "2011\n",
      "2012\n",
      "2013\n",
      "2014\n",
      "2015\n",
      "2016\n",
      "2017\n",
      "2018\n",
      "2019\n",
      "2020\n",
      "2021\n"
     ]
    }
   ],
   "source": [
    "import pandas as pd\n",
    "#import unemployment.xlsx to pd dataframe\n",
    "unemployment = pd.read_excel('unemployment.xlsx')\n",
    "#see datatypes for columns\n",
    "unemployment.dtypes\n",
    "\n",
    "print(\"--\" * 30)\n",
    "\n",
    "# see columns in df\n",
    "for cols in unemployment.columns:\n",
    "    print(cols)"
   ]
  },
  {
   "cell_type": "code",
   "execution_count": 3,
   "metadata": {},
   "outputs": [
    {
     "name": "stdout",
     "output_type": "stream",
     "text": [
      "  country_code          country_name      continent   2010   2011   2012  \\\n",
      "0          AFG           Afghanistan           Asia  11.35  11.05  11.34   \n",
      "1          AGO                Angola         Africa   9.43   7.36   7.35   \n",
      "2          ALB               Albania         Europe  14.09  13.48  13.38   \n",
      "3          ARE  United Arab Emirates           Asia   2.48   2.30   2.18   \n",
      "4          ARG             Argentina  South America   7.71   7.18   7.22   \n",
      "\n",
      "    2013   2014   2015   2016   2017   2018   2019   2020   2021  \n",
      "0  11.19  11.14  11.13  11.16  11.18  11.15  11.22  11.71  13.28  \n",
      "1   7.37   7.37   7.39   7.41   7.41   7.42   7.42   8.33   8.53  \n",
      "2  15.87  18.05  17.19  15.42  13.62  12.30  11.47  13.33  11.82  \n",
      "3   2.04   1.91   1.77   1.64   2.46   2.35   2.23   3.19   3.36  \n",
      "4   7.10   7.27   7.52   8.11   8.35   9.22   9.84  11.46  10.90  \n"
     ]
    }
   ],
   "source": [
    "# Print the first five rows of unemployment\n",
    "print(unemployment.head(5))"
   ]
  },
  {
   "cell_type": "code",
   "execution_count": 4,
   "metadata": {},
   "outputs": [
    {
     "name": "stdout",
     "output_type": "stream",
     "text": [
      "             2010        2011        2012        2013        2014        2015  \\\n",
      "count  182.000000  182.000000  182.000000  182.000000  182.000000  182.000000   \n",
      "mean     8.409286    8.315440    8.317967    8.344780    8.179670    8.058901   \n",
      "std      6.248887    6.266795    6.367270    6.416041    6.284241    6.161170   \n",
      "min      0.450000    0.320000    0.480000    0.250000    0.200000    0.170000   \n",
      "25%      4.015000    3.775000    3.742500    3.692500    3.625000    3.662500   \n",
      "50%      6.965000    6.805000    6.690000    6.395000    6.450000    6.170000   \n",
      "75%     10.957500   11.045000   11.285000   11.310000   10.695000   10.215000   \n",
      "max     32.020000   31.380000   31.020000   29.000000   28.030000   27.690000   \n",
      "\n",
      "             2016        2017        2018        2019        2020        2021  \n",
      "count  182.000000  182.000000  182.000000  182.000000  182.000000  182.000000  \n",
      "mean     7.925879    7.668626    7.426429    7.243736    8.420934    8.390879  \n",
      "std      6.045439    5.902152    5.818915    5.696573    6.040915    6.067192  \n",
      "min      0.150000    0.140000    0.110000    0.100000    0.210000    0.260000  \n",
      "25%      3.800000    3.690000    3.625000    3.487500    4.285000    4.335000  \n",
      "50%      5.925000    5.650000    5.375000    5.240000    6.695000    6.425000  \n",
      "75%     10.245000   10.315000    9.257500    9.445000   11.155000   10.840000  \n",
      "max     26.540000   27.040000   26.910000   28.470000   29.220000   33.560000  \n"
     ]
    }
   ],
   "source": [
    "# Print summary statistics for numerical columns in unemployment\n",
    "print(unemployment.describe())"
   ]
  },
  {
   "cell_type": "markdown",
   "metadata": {},
   "source": [
    "### Counting categorical values\n",
    "Recall from the previous exercise that the unemployment DataFrame contains 182 rows of country data including country_code, country_name, continent, and unemployment percentages from 2010 through 2021.\n",
    "\n",
    "You'd now like to explore the categorical data contained in unemployment to understand the data that it contains related to each continent."
   ]
  },
  {
   "cell_type": "code",
   "execution_count": 5,
   "metadata": {},
   "outputs": [
    {
     "name": "stdout",
     "output_type": "stream",
     "text": [
      "continent    \n",
      "Africa           53\n",
      "Asia             47\n",
      "Europe           39\n",
      "North America    18\n",
      "South America    12\n",
      "Oceania           8\n",
      "dtype: int64\n"
     ]
    }
   ],
   "source": [
    "# Count the values associated with each continent in unemployment\n",
    "print(unemployment.value_counts([\"continent\"]))"
   ]
  },
  {
   "cell_type": "markdown",
   "metadata": {},
   "source": [
    "### Global unemployment in 2021\n",
    "It's time to explore some of the numerical data in unemployment! What was typical unemployment in a given year? What was the minimum and maximum unemployment rate, and what did the distribution of the unemployment rates look like across the world? A histogram is a great way to get a sense of the answers to these questions.\n",
    "\n",
    "Your task in this exercise is to create a histogram showing the distribution of global unemployment rates in 2021."
   ]
  },
  {
   "cell_type": "code",
   "execution_count": 6,
   "metadata": {},
   "outputs": [
    {
     "name": "stdout",
     "output_type": "stream",
     "text": [
      "country_code\n",
      "country_name\n",
      "continent\n",
      "2010\n",
      "2011\n",
      "2012\n",
      "2013\n",
      "2014\n",
      "2015\n",
      "2016\n",
      "2017\n",
      "2018\n",
      "2019\n",
      "2020\n",
      "2021\n"
     ]
    }
   ],
   "source": [
    "# adjusting column names due to 2021 column not being accepted as x value below\n",
    "unemployment.columns = ['country_code', 'country_name', 'continent',\n",
    "                       \"2010\", \"2011\", \"2012\", \"2013\", \"2014\",\n",
    "                       \"2015\", \"2016\", \"2017\", \"2018\", \"2019\",\n",
    "                       \"2020\", \"2021\"]\n",
    "for cols in unemployment.columns:\n",
    "    print(cols)"
   ]
  },
  {
   "cell_type": "code",
   "execution_count": 7,
   "metadata": {},
   "outputs": [
    {
     "data": {
      "image/png": "[encoded data removed]",
      "text/plain": [
       "<Figure size 432x288 with 1 Axes>"
      ]
     },
     "metadata": {
      "needs_background": "light"
     },
     "output_type": "display_data"
    }
   ],
   "source": [
    "# Import the required visualization libraries\n",
    "import seaborn as sns\n",
    "import matplotlib.pyplot as plt\n",
    "\n",
    "# Create a histogram of 2021 unemployment; show a full percent in each bin\n",
    "sns.histplot(data=unemployment, x='2021', binwidth = 1)\n",
    "plt.show()"
   ]
  },
  {
   "cell_type": "markdown",
   "metadata": {},
   "source": [
    "### Detecting data types\n",
    "A column has been changed in the unemployment DataFrame and it now has the wrong data type! This data type will stop you from performing effective exploration and analysis, so your task is to identify which column has the wrong data type and then fix it.\n"
   ]
  },
  {
   "cell_type": "code",
   "execution_count": 8,
   "metadata": {},
   "outputs": [
    {
     "data": {
      "text/plain": [
       "country_code     object\n",
       "country_name     object\n",
       "continent        object\n",
       "2010            float64\n",
       "2011            float64\n",
       "2012            float64\n",
       "2013            float64\n",
       "2014            float64\n",
       "2015            float64\n",
       "2016            float64\n",
       "2017            float64\n",
       "2018            float64\n",
       "2019             object\n",
       "2020            float64\n",
       "2021            float64\n",
       "dtype: object"
      ]
     },
     "execution_count": 8,
     "metadata": {},
     "output_type": "execute_result"
    }
   ],
   "source": [
    "# Pretend to change datatype of 2019 column\n",
    "unemployment['2019'] = unemployment['2019'].astype(str)\n",
    "#inspect datatypes\n",
    "unemployment.dtypes # 2019"
   ]
  },
  {
   "cell_type": "code",
   "execution_count": 9,
   "metadata": {},
   "outputs": [
    {
     "name": "stdout",
     "output_type": "stream",
     "text": [
      "country_code     object\n",
      "country_name     object\n",
      "continent        object\n",
      "2010            float64\n",
      "2011            float64\n",
      "2012            float64\n",
      "2013            float64\n",
      "2014            float64\n",
      "2015            float64\n",
      "2016            float64\n",
      "2017            float64\n",
      "2018            float64\n",
      "2019            float64\n",
      "2020            float64\n",
      "2021            float64\n",
      "dtype: object\n"
     ]
    }
   ],
   "source": [
    "# Update the data type of the 2019 column to a float\n",
    "unemployment[\"2019\"] = unemployment[\"2019\"].astype(float)\n",
    "# Print the dtypes to check your work\n",
    "print(unemployment.dtypes)"
   ]
  },
  {
   "cell_type": "markdown",
   "metadata": {},
   "source": [
    "### Validating continents\n",
    "Your colleague has informed you that the data on unemployment from countries in Oceania is not reliable, and you'd like to identify and exclude these countries from your unemployment data. The .isin() function can help with that!\n",
    "\n",
    "Your task is to use .isin() to identify countries that are not in Oceania. These countries should return True while countries in Oceania should return False. This will set you up to use the results of .isin() to quickly filter out Oceania countries using Boolean indexing."
   ]
  },
  {
   "cell_type": "code",
   "execution_count": 10,
   "metadata": {},
   "outputs": [
    {
     "name": "stdout",
     "output_type": "stream",
     "text": [
      "0      True\n",
      "1      True\n",
      "2      True\n",
      "3      True\n",
      "4      True\n",
      "       ... \n",
      "178    True\n",
      "179    True\n",
      "180    True\n",
      "181    True\n",
      "182    True\n",
      "Name: continent, Length: 183, dtype: bool\n"
     ]
    }
   ],
   "source": [
    "# Define a Series describing whether each continent is outside of Oceania\n",
    "# option+n = ~\n",
    "not_oceania = ~unemployment['continent'].isin(['Oceania'])\n",
    "print(not_oceania)"
   ]
  },
  {
   "cell_type": "code",
   "execution_count": 11,
   "metadata": {},
   "outputs": [
    {
     "name": "stdout",
     "output_type": "stream",
     "text": [
      "    country_code          country_name      continent   2010   2011   2012  \\\n",
      "0            AFG           Afghanistan           Asia  11.35  11.05  11.34   \n",
      "1            AGO                Angola         Africa   9.43   7.36   7.35   \n",
      "2            ALB               Albania         Europe  14.09  13.48  13.38   \n",
      "3            ARE  United Arab Emirates           Asia   2.48   2.30   2.18   \n",
      "4            ARG             Argentina  South America   7.71   7.18   7.22   \n",
      "..           ...                   ...            ...    ...    ...    ...   \n",
      "178          YEM           Yemen, Rep.           Asia  12.83  13.23  13.17   \n",
      "179          ZAF                 South         Africa  24.68  24.64  24.73   \n",
      "180          ZMB                Zambia         Africa  13.19  10.55   7.85   \n",
      "181          ZWE              Zimbabwe         Africa   5.21   5.37   5.15   \n",
      "182         [1]:                   NaN            NaN    NaN    NaN    NaN   \n",
      "\n",
      "      2013   2014   2015   2016   2017   2018   2019   2020   2021  \n",
      "0    11.19  11.14  11.13  11.16  11.18  11.15  11.22  11.71  13.28  \n",
      "1     7.37   7.37   7.39   7.41   7.41   7.42   7.42   8.33   8.53  \n",
      "2    15.87  18.05  17.19  15.42  13.62  12.30  11.47  13.33  11.82  \n",
      "3     2.04   1.91   1.77   1.64   2.46   2.35   2.23   3.19   3.36  \n",
      "4     7.10   7.27   7.52   8.11   8.35   9.22   9.84  11.46  10.90  \n",
      "..     ...    ...    ...    ...    ...    ...    ...    ...    ...  \n",
      "178  13.27  13.47  13.77  13.43  13.30  13.15  13.06  13.39  13.57  \n",
      "179  24.56  24.89  25.15  26.54  27.04  26.91  28.47  29.22  33.56  \n",
      "180   8.61   9.36  10.13  10.87  11.63  12.01  12.52  12.85  13.03  \n",
      "181   4.98   4.77   4.78   4.79   4.78   4.80   4.83   5.35   5.17  \n",
      "182    NaN    NaN    NaN    NaN    NaN    NaN    NaN    NaN    NaN  \n",
      "\n",
      "[175 rows x 15 columns]\n"
     ]
    }
   ],
   "source": [
    "# Print unemployment without records related to countries in Oceania\n",
    "print(unemployment[not_oceania])"
   ]
  },
  {
   "cell_type": "markdown",
   "metadata": {},
   "source": [
    "### Validating range\n",
    "Now it's time to validate our numerical data. We saw in the previous lesson using .describe() that the largest unemployment rate during 2021 was nearly 34 percent, while the lowest was just above zero.\n",
    "\n",
    "Your task in this exercise is to get much more detailed information about the range of unemployment data using Seaborn's boxplot, and you'll also visualize the range of unemployment rates in each continent to understand geographical range differences."
   ]
  },
  {
   "cell_type": "code",
   "execution_count": 12,
   "metadata": {},
   "outputs": [
    {
     "name": "stdout",
     "output_type": "stream",
     "text": [
      "0.26 33.56\n"
     ]
    },
    {
     "data": {
      "image/png": "[encoded data removed]",
      "text/plain": [
       "<Figure size 432x288 with 1 Axes>"
      ]
     },
     "metadata": {
      "needs_background": "light"
     },
     "output_type": "display_data"
    }
   ],
   "source": [
    "# Print the minimum and maximum unemployment rates during 2021\n",
    "print(unemployment['2021'].min(), unemployment['2021'].max())\n",
    "\n",
    "# Create a boxplot of 2021 unemployment rates, broken down by continent\n",
    "sns.boxplot(data = unemployment, x = '2021', y = 'continent')\n",
    "plt.show()"
   ]
  },
  {
   "cell_type": "markdown",
   "metadata": {},
   "source": [
    "### Summaries with .groupby() and .agg()\n",
    "In this exercise, you'll explore the means and standard deviations of the yearly unemployment data. First, you'll find means and standard deviations regardless of the continent to observe worldwide unemployment trends. Then, you'll check unemployment trends broken down by continent."
   ]
  },
  {
   "cell_type": "code",
   "execution_count": 13,
   "metadata": {},
   "outputs": [
    {
     "name": "stdout",
     "output_type": "stream",
     "text": [
      "          2010      2011      2012      2013      2014      2015      2016  \\\n",
      "mean  8.409286  8.315440  8.317967  8.344780  8.179670  8.058901  7.925879   \n",
      "std   6.248887  6.266795  6.367270  6.416041  6.284241  6.161170  6.045439   \n",
      "\n",
      "          2017      2018      2019      2020      2021  \n",
      "mean  7.668626  7.426429  7.243736  8.420934  8.390879  \n",
      "std   5.902152  5.818915  5.696573  6.040915  6.067192  \n"
     ]
    }
   ],
   "source": [
    "# Print the mean and standard deviation of rates by year\n",
    "print(unemployment.agg(['mean', 'std']))"
   ]
  },
  {
   "cell_type": "code",
   "execution_count": 14,
   "metadata": {},
   "outputs": [
    {
     "name": "stdout",
     "output_type": "stream",
     "text": [
      "                    2010                 2011                 2012            \\\n",
      "                    mean       std       mean       std       mean       std   \n",
      "continent                                                                      \n",
      "Africa          9.343585  7.411259   9.369245  7.401556   9.240755  7.264542   \n",
      "Asia            6.240638  5.146175   5.942128  4.779575   5.835319  4.756904   \n",
      "Europe         11.008205  6.392063  10.947949  6.539538  11.325641  7.003527   \n",
      "North America   8.663333  5.115805   8.563333  5.377041   8.448889  5.495819   \n",
      "Oceania         3.622500  2.054721   3.647500  2.008466   4.103750  2.723118   \n",
      "South America   6.870833  2.807058   6.518333  2.801577   6.410833  2.936508   \n",
      "\n",
      "                    2013                 2014            ...      2017  \\\n",
      "                    mean       std       mean       std  ...      mean   \n",
      "continent                                                ...             \n",
      "Africa          9.132453  7.309285   9.121321  7.291359  ...  9.284528   \n",
      "Asia            5.852128  4.668405   5.853191  4.681301  ...  6.171277   \n",
      "Europe         11.466667  6.969209  10.971282  6.759765  ...  8.359744   \n",
      "North America   8.840556  6.081829   8.512222  5.801927  ...  7.391111   \n",
      "Oceania         3.980000  2.640119   3.976250  2.659205  ...  3.872500   \n",
      "South America   6.335000  2.808780   6.347500  2.834332  ...  7.281667   \n",
      "\n",
      "                             2018                2019                 2020  \\\n",
      "                    std      mean       std      mean       std       mean   \n",
      "continent                                                                    \n",
      "Africa         7.407620  9.237925  7.358425  9.264340  7.455293  10.307736   \n",
      "Asia           5.277201  6.090213  5.409128  5.949149  5.254008   7.012340   \n",
      "Europe         5.177845  7.427436  4.738206  6.764359  4.124734   7.470513   \n",
      "North America  5.326446  7.281111  5.253180  7.095000  4.770490   9.297778   \n",
      "Oceania        2.492834  3.851250  2.455893  3.773750  2.369068   4.273750   \n",
      "South America  3.398994  7.496667  3.408856  7.719167  3.379845  10.275000   \n",
      "\n",
      "                              2021            \n",
      "                    std       mean       std  \n",
      "continent                                     \n",
      "Africa         7.928166  10.473585  8.131636  \n",
      "Asia           5.699609   6.906170  5.414745  \n",
      "Europe         4.071218   7.414872  3.947825  \n",
      "North America  4.963045   9.155000  5.076482  \n",
      "Oceania        2.617490   4.280000  2.671522  \n",
      "South America  3.411263   9.924167  3.611624  \n",
      "\n",
      "[6 rows x 24 columns]\n"
     ]
    }
   ],
   "source": [
    "# Print yearly mean and standard deviation grouped by continent\n",
    "print(unemployment.groupby('continent').agg(['mean', 'std']))"
   ]
  },
  {
   "cell_type": "markdown",
   "metadata": {},
   "source": [
    "### Named aggregations\n",
    "You've seen how .groupby() and .agg() can be combined to show summaries across categories. Sometimes, it's helpful to name new columns when aggregating so that it's clear in the code output what aggregations are being applied and where.\n",
    "\n",
    "Your task is to create a DataFrame called continent_summary which shows a row for each continent. The DataFrame columns will contain the mean unemployment rate for each continent in 2021 as well as the standard deviation of the 2021 employment rate. And of course, you'll rename the columns so that their contents are clear!"
   ]
  },
  {
   "cell_type": "code",
   "execution_count": 15,
   "metadata": {},
   "outputs": [
    {
     "name": "stdout",
     "output_type": "stream",
     "text": [
      "               mean_rate_2021  std_rate_2021\n",
      "continent                                   \n",
      "Africa              10.473585       8.131636\n",
      "Asia                 6.906170       5.414745\n",
      "Europe               7.414872       3.947825\n",
      "North America        9.155000       5.076482\n",
      "Oceania              4.280000       2.671522\n",
      "South America        9.924167       3.611624\n"
     ]
    }
   ],
   "source": [
    "continent_summary = unemployment.groupby(\"continent\").agg(\n",
    "    # Create the mean_rate_2021 column\n",
    "    mean_rate_2021 = ('2021', 'mean'),\n",
    "    # Create the std_rate_2021 column\n",
    "    std_rate_2021 = ('2021', 'std'),\n",
    ")\n",
    "print(continent_summary)"
   ]
  },
  {
   "cell_type": "markdown",
   "metadata": {},
   "source": [
    "### Visualizing categorical summaries\n",
    "In Seaborn, bar plots include a vertical bar indicating the 95% confidence interval for the categorical mean. Since confidence intervals are calculated using both the number of values and the variability of those values, they give a helpful indication of how much data can be relied upon.\n",
    "\n",
    "Your task is to create a bar plot to visualize the means and confidence intervals of unemployment rates across the different continents."
   ]
  },
  {
   "cell_type": "code",
   "execution_count": 16,
   "metadata": {},
   "outputs": [
    {
     "data": {
      "image/png": "[encoded data removed]",
      "text/plain": [
       "<Figure size 432x288 with 1 Axes>"
      ]
     },
     "metadata": {
      "needs_background": "light"
     },
     "output_type": "display_data"
    }
   ],
   "source": [
    "# Create a bar plot of continents and their average unemployment\n",
    "sns.barplot(data = unemployment, x = 'continent', y = '2021')\n",
    "plt.show()"
   ]
  },
  {
   "cell_type": "markdown",
   "metadata": {},
   "source": [
    "## 2. Data Cleaning and Imputation"
   ]
  },
  {
   "cell_type": "markdown",
   "metadata": {},
   "source": [
    "### Dealing with missing data\n",
    "It is important to deal with missing data before starting your analysis.\n",
    "\n",
    "One approach is to drop missing values if they account for a small proportion, typically five percent, of your data.\n",
    "\n",
    "Working with a dataset on plane ticket prices, stored as a pandas DataFrame called planes, you'll need to count the number of missing values across all columns, calculate five percent of all values, use this threshold to remove observations, and check how many missing values remain in the dataset."
   ]
  },
  {
   "cell_type": "code",
   "execution_count": 17,
   "metadata": {},
   "outputs": [
    {
     "name": "stdout",
     "output_type": "stream",
     "text": [
      "       Airline Date_of_Journey    Source Destination                  Route  \\\n",
      "0  Jet Airways       9/06/2019     Delhi      Cochin  DEL → LKO → BOM → COK   \n",
      "1       IndiGo      12/05/2019   Kolkata    Banglore        CCU → NAG → BLR   \n",
      "2       IndiGo      01/03/2019  Banglore   New Delhi        BLR → NAG → DEL   \n",
      "3     SpiceJet      24/06/2019   Kolkata    Banglore              CCU → BLR   \n",
      "4  Jet Airways      12/03/2019  Banglore   New Delhi        BLR → BOM → DEL   \n",
      "\n",
      "  Dep_Time  Arrival_Time Duration Total_Stops              Additional_Info  \\\n",
      "0    09:25  04:25 10 Jun      19h     2 stops                      No info   \n",
      "1    18:05         23:30   5h 25m      1 stop                      No info   \n",
      "2    16:50         21:35   4h 45m      1 stop                      No info   \n",
      "3    09:00         11:25   2h 25m    non-stop                      No info   \n",
      "4    18:55  10:25 13 Mar  15h 30m      1 stop  In-flight meal not included   \n",
      "\n",
      "     Price  \n",
      "0  13882.0  \n",
      "1   6218.0  \n",
      "2  13302.0  \n",
      "3   3873.0  \n",
      "4  11087.0  \n"
     ]
    }
   ],
   "source": [
    "#import planes.csv\n",
    "planes = pd.read_csv('planes.csv')\n",
    "print(planes.head())"
   ]
  },
  {
   "cell_type": "code",
   "execution_count": 18,
   "metadata": {},
   "outputs": [
    {
     "name": "stdout",
     "output_type": "stream",
     "text": [
      "Airline            427\n",
      "Date_of_Journey    322\n",
      "Source             187\n",
      "Destination        347\n",
      "Route              256\n",
      "Dep_Time           260\n",
      "Arrival_Time       194\n",
      "Duration           214\n",
      "Total_Stops        212\n",
      "Additional_Info    589\n",
      "Price              616\n",
      "dtype: int64\n",
      "Airline              0\n",
      "Date_of_Journey      0\n",
      "Source               0\n",
      "Destination          0\n",
      "Route                0\n",
      "Dep_Time             0\n",
      "Arrival_Time         0\n",
      "Duration             0\n",
      "Total_Stops          0\n",
      "Additional_Info    300\n",
      "Price              368\n",
      "dtype: int64\n"
     ]
    }
   ],
   "source": [
    "# Count the number of missing values in each column\n",
    "print(planes.isna().sum())\n",
    "\n",
    "# Find the five percent threshold\n",
    "threshold = len(planes) * 0.05\n",
    "\n",
    "# Create a filter\n",
    "cols_to_drop = planes.columns[planes.isna().sum() <= threshold]\n",
    "\n",
    "# Drop missing values for columns below the threshold\n",
    "planes.dropna(subset=cols_to_drop, inplace=True)\n",
    "\n",
    "print(planes.isna().sum())"
   ]
  },
  {
   "cell_type": "markdown",
   "metadata": {},
   "source": [
    "### Strategies for remaining missing data\n",
    "The five percent rule has worked nicely for your planes dataset, eliminating missing values from nine out of 11 columns!\n",
    "\n",
    "Now, you need to decide what to do with the \"Additional_Info\" and \"Price\" columns, which are missing 300 and 368 values respectively.\n",
    "\n",
    "You'll first take a look at what \"Additional_Info\" contains, then visualize the price of plane tickets by different airlines."
   ]
  },
  {
   "cell_type": "code",
   "execution_count": 19,
   "metadata": {},
   "outputs": [
    {
     "name": "stdout",
     "output_type": "stream",
     "text": [
      "No info                         6399\n",
      "In-flight meal not included     1525\n",
      "No check-in baggage included     258\n",
      "1 Long layover                    14\n",
      "Change airports                    7\n",
      "No Info                            2\n",
      "Red-eye flight                     1\n",
      "2 Long layover                     1\n",
      "Business class                     1\n",
      "Name: Additional_Info, dtype: int64\n"
     ]
    },
    {
     "data": {
      "image/png": "[encoded data removed]",
      "text/plain": [
       "<Figure size 432x288 with 1 Axes>"
      ]
     },
     "metadata": {
      "needs_background": "light"
     },
     "output_type": "display_data"
    }
   ],
   "source": [
    "# Check the values of the Additional_Info column\n",
    "print(planes[\"Additional_Info\"].value_counts())\n",
    "\n",
    "# Create a box plot of Price by Airline\n",
    "sns.boxplot(data=planes, x='Airline', y='Price')\n",
    "\n",
    "plt.show()"
   ]
  },
  {
   "cell_type": "markdown",
   "metadata": {},
   "source": [
    "How should you deal with the missing values in \"Additional_Info\" and \"Price\"?\n",
    "\n",
    "- Remove the additional_info column and input the median by Airline Column for missing values of Price"
   ]
  },
  {
   "cell_type": "markdown",
   "metadata": {},
   "source": [
    "### Imputing missing plane prices\n",
    "You've removed the \"Additional_Info\" column from planes—the last step is to impute the missing data in the \"Price\" column of the dataset.\n",
    "\n",
    "As a reminder, you generated this boxplot, which suggested that imputing the median price based on the \"Airline\" is a solid approach!"
   ]
  },
  {
   "cell_type": "code",
   "execution_count": 20,
   "metadata": {},
   "outputs": [
    {
     "name": "stdout",
     "output_type": "stream",
     "text": [
      "Airline\n",
      "Date_of_Journey\n",
      "Source\n",
      "Destination\n",
      "Route\n",
      "Dep_Time\n",
      "Arrival_Time\n",
      "Duration\n",
      "Total_Stops\n",
      "Price\n"
     ]
    }
   ],
   "source": [
    "#remove Additional_Info from df 19\n",
    "planes.drop('Additional_Info', axis=1, inplace=True)\n",
    "\n",
    "for column_headers in planes.columns: \n",
    "    print(column_headers)"
   ]
  },
  {
   "cell_type": "code",
   "execution_count": 21,
   "metadata": {},
   "outputs": [
    {
     "name": "stdout",
     "output_type": "stream",
     "text": [
      "Airline\n",
      "Air Asia              5192.0\n",
      "Air India             9443.0\n",
      "GoAir                 5003.5\n",
      "IndiGo                5054.0\n",
      "Jet Airways          11507.0\n",
      "Multiple carriers    10197.0\n",
      "SpiceJet              3873.0\n",
      "Vistara               8028.0\n",
      "Name: Price, dtype: float64\n",
      "Airline            0\n",
      "Date_of_Journey    0\n",
      "Source             0\n",
      "Destination        0\n",
      "Route              0\n",
      "Dep_Time           0\n",
      "Arrival_Time       0\n",
      "Duration           0\n",
      "Total_Stops        0\n",
      "Price              0\n",
      "dtype: int64\n"
     ]
    }
   ],
   "source": [
    "# Calculate median plane ticket prices by Airline\n",
    "airline_prices = planes.groupby(\"Airline\")[\"Price\"].median()\n",
    "\n",
    "print(airline_prices)\n",
    "\n",
    "# Convert to a dictionary\n",
    "prices_dict = airline_prices.to_dict()\n",
    "\n",
    "# Map the dictionary to missing values of Price by Airline\n",
    "planes[\"Price\"] = planes[\"Price\"].fillna(planes[\"Airline\"].map(prices_dict))\n",
    "\n",
    "# Check for missing values\n",
    "print(planes.isna().sum())"
   ]
  },
  {
   "cell_type": "markdown",
   "metadata": {},
   "source": [
    "### Finding the number of unique values\n",
    "You would like to practice some of the categorical data manipulation and analysis skills that you've just seen. To help identify which data could be reformatted to extract value, you are going to find out which non-numeric columns in the planes dataset have a large number of unique values."
   ]
  },
  {
   "cell_type": "code",
   "execution_count": 22,
   "metadata": {},
   "outputs": [
    {
     "name": "stdout",
     "output_type": "stream",
     "text": [
      "Number of unique values in Airline column:  8\n",
      "Number of unique values in Date_of_Journey column:  44\n",
      "Number of unique values in Source column:  5\n",
      "Number of unique values in Destination column:  6\n",
      "Number of unique values in Route column:  122\n",
      "Number of unique values in Dep_Time column:  218\n",
      "Number of unique values in Arrival_Time column:  1220\n",
      "Number of unique values in Duration column:  362\n",
      "Number of unique values in Total_Stops column:  5\n"
     ]
    }
   ],
   "source": [
    "# Filter the DataFrame for object columns\n",
    "non_numeric = planes.select_dtypes(\"object\")\n",
    "\n",
    "# Loop through columns\n",
    "for col in non_numeric.columns:\n",
    "  \n",
    "  # Print the number of unique values\n",
    "  print(f\"Number of unique values in {col} column: \", non_numeric[col].nunique())"
   ]
  },
  {
   "cell_type": "markdown",
   "metadata": {},
   "source": [
    "### Flight duration categories\n",
    "As you saw, there are 362 unique values in the \"Duration\" column of planes. Calling planes[\"Duration\"].head(), we see the following values:\n",
    "\n",
    "Looks like this won't be simple to convert to numbers. However, you could categorize flights by duration and examine the frequency of different flight lengths!\n",
    "\n",
    "You'll create a \"Duration_Category\" column in the planes DataFrame. Before you can do this you'll need to create a list of the values you would like to insert into the DataFrame, followed by the existing values that these should be created from."
   ]
  },
  {
   "cell_type": "code",
   "execution_count": 23,
   "metadata": {},
   "outputs": [],
   "source": [
    "# Create a list of categories\n",
    "flight_categories = [\"Short-haul\", \"Medium\", \"Long-haul\"]\n",
    "\n",
    "# Create short_flights\n",
    "# You'll need to include a pipe | inside your strings between any values you would like to capture.\n",
    "\n",
    "short_flights = \"^0h|^1h|^2h|^3h|^4h\"\n",
    "\n",
    "# Create medium_flights\n",
    "medium_flights = \"^5h|^6h|^7h|^8h|^9h\"\n",
    "\n",
    "# Create long_flights\n",
    "long_flights = \"10h|11h|12h|13h|14h|15h|16h\""
   ]
  },
  {
   "cell_type": "markdown",
   "metadata": {},
   "source": [
    "### Adding duration categories\n",
    "Now that you've set up the categories and values you want to capture, it's time to build a new column to analyze the frequency of flights by duration!\n",
    "\n",
    "The variables flight_categories, short_flights, medium_flights, and long_flights that you previously created are available to you."
   ]
  },
  {
   "cell_type": "code",
   "execution_count": 24,
   "metadata": {},
   "outputs": [
    {
     "data": {
      "image/png": "[encoded data removed]",
      "text/plain": [
       "<Figure size 432x288 with 1 Axes>"
      ]
     },
     "metadata": {
      "needs_background": "light"
     },
     "output_type": "display_data"
    }
   ],
   "source": [
    "import numpy as np\n",
    "\n",
    "# Create conditions for values in flight_categories to be created\n",
    "conditions = [\n",
    "    (planes[\"Duration\"].str.contains(short_flights)),\n",
    "    (planes[\"Duration\"].str.contains(medium_flights)),\n",
    "    (planes[\"Duration\"].str.contains(long_flights))\n",
    "]\n",
    "\n",
    "# Apply the conditions list to the flight_categories\n",
    "planes[\"Duration_Category\"] = np.select(conditions, \n",
    "                                        flight_categories,\n",
    "                                        default=\"Extreme duration\")\n",
    "\n",
    "# Plot the counts of each category\n",
    "sns.countplot(data=planes, x=\"Duration_Category\")\n",
    "plt.show()"
   ]
  },
  {
   "cell_type": "code",
   "execution_count": null,
   "metadata": {},
   "outputs": [],
   "source": []
  },
  {
   "cell_type": "code",
   "execution_count": null,
   "metadata": {},
   "outputs": [],
   "source": []
  },
  {
   "cell_type": "code",
   "execution_count": null,
   "metadata": {},
   "outputs": [],
   "source": []
  },
  {
   "cell_type": "code",
   "execution_count": null,
   "metadata": {},
   "outputs": [],
   "source": []
  },
  {
   "cell_type": "code",
   "execution_count": null,
   "metadata": {},
   "outputs": [],
   "source": []
  },
  {
   "cell_type": "markdown",
   "metadata": {},
   "source": [
    "## 3. Relationships in Data"
   ]
  },
  {
   "cell_type": "code",
   "execution_count": null,
   "metadata": {},
   "outputs": [],
   "source": []
  },
  {
   "cell_type": "code",
   "execution_count": null,
   "metadata": {},
   "outputs": [],
   "source": []
  },
  {
   "cell_type": "code",
   "execution_count": null,
   "metadata": {},
   "outputs": [],
   "source": []
  },
  {
   "cell_type": "code",
   "execution_count": null,
   "metadata": {},
   "outputs": [],
   "source": []
  },
  {
   "cell_type": "code",
   "execution_count": null,
   "metadata": {},
   "outputs": [],
   "source": []
  },
  {
   "cell_type": "code",
   "execution_count": null,
   "metadata": {},
   "outputs": [],
   "source": []
  },
  {
   "cell_type": "code",
   "execution_count": null,
   "metadata": {},
   "outputs": [],
   "source": []
  },
  {
   "cell_type": "code",
   "execution_count": null,
   "metadata": {},
   "outputs": [],
   "source": []
  },
  {
   "cell_type": "code",
   "execution_count": null,
   "metadata": {},
   "outputs": [],
   "source": []
  },
  {
   "cell_type": "code",
   "execution_count": null,
   "metadata": {},
   "outputs": [],
   "source": []
  },
  {
   "cell_type": "code",
   "execution_count": null,
   "metadata": {},
   "outputs": [],
   "source": []
  },
  {
   "cell_type": "markdown",
   "metadata": {},
   "source": [
    "## 4. Turning Exploratoty Analysis into Action"
   ]
  },
  {
   "cell_type": "code",
   "execution_count": null,
   "metadata": {},
   "outputs": [],
   "source": []
  },
  {
   "cell_type": "code",
   "execution_count": null,
   "metadata": {},
   "outputs": [],
   "source": []
  },
  {
   "cell_type": "code",
   "execution_count": null,
   "metadata": {},
   "outputs": [],
   "source": []
  },
  {
   "cell_type": "code",
   "execution_count": null,
   "metadata": {},
   "outputs": [],
   "source": []
  },
  {
   "cell_type": "code",
   "execution_count": null,
   "metadata": {},
   "outputs": [],
   "source": []
  },
  {
   "cell_type": "code",
   "execution_count": null,
   "metadata": {},
   "outputs": [],
   "source": []
  },
  {
   "cell_type": "code",
   "execution_count": null,
   "metadata": {},
   "outputs": [],
   "source": []
  },
  {
   "cell_type": "code",
   "execution_count": null,
   "metadata": {},
   "outputs": [],
   "source": []
  },
  {
   "cell_type": "code",
   "execution_count": null,
   "metadata": {},
   "outputs": [],
   "source": []
  },
  {
   "cell_type": "code",
   "execution_count": null,
   "metadata": {},
   "outputs": [],
   "source": []
  },
  {
   "cell_type": "code",
   "execution_count": null,
   "metadata": {},
   "outputs": [],
   "source": []
  },
  {
   "cell_type": "code",
   "execution_count": null,
   "metadata": {},
   "outputs": [],
   "source": []
  },
  {
   "cell_type": "code",
   "execution_count": null,
   "metadata": {},
   "outputs": [],
   "source": []
  },
  {
   "cell_type": "code",
   "execution_count": null,
   "metadata": {},
   "outputs": [],
   "source": []
  },
  {
   "cell_type": "code",
   "execution_count": null,
   "metadata": {},
   "outputs": [],
   "source": []
  },
  {
   "cell_type": "code",
   "execution_count": null,
   "metadata": {},
   "outputs": [],
   "source": []
  },
  {
   "cell_type": "code",
   "execution_count": null,
   "metadata": {},
   "outputs": [],
   "source": []
  },
  {
   "cell_type": "code",
   "execution_count": null,
   "metadata": {},
   "outputs": [],
   "source": []
  },
  {
   "cell_type": "code",
   "execution_count": null,
   "metadata": {},
   "outputs": [],
   "source": []
  },
  {
   "cell_type": "code",
   "execution_count": null,
   "metadata": {},
   "outputs": [],
   "source": []
  },
  {
   "cell_type": "code",
   "execution_count": null,
   "metadata": {},
   "outputs": [],
   "source": []
  },
  {
   "cell_type": "code",
   "execution_count": null,
   "metadata": {},
   "outputs": [],
   "source": []
  },
  {
   "cell_type": "code",
   "execution_count": null,
   "metadata": {},
   "outputs": [],
   "source": []
  },
  {
   "cell_type": "code",
   "execution_count": null,
   "metadata": {},
   "outputs": [],
   "source": []
  },
  {
   "cell_type": "code",
   "execution_count": null,
   "metadata": {},
   "outputs": [],
   "source": []
  },
  {
   "cell_type": "code",
   "execution_count": null,
   "metadata": {},
   "outputs": [],
   "source": []
  },
  {
   "cell_type": "code",
   "execution_count": null,
   "metadata": {},
   "outputs": [],
   "source": []
  },
  {
   "cell_type": "code",
   "execution_count": null,
   "metadata": {},
   "outputs": [],
   "source": []
  },
  {
   "cell_type": "code",
   "execution_count": null,
   "metadata": {},
   "outputs": [],
   "source": []
  },
  {
   "cell_type": "code",
   "execution_count": null,
   "metadata": {},
   "outputs": [],
   "source": []
  },
  {
   "cell_type": "code",
   "execution_count": null,
   "metadata": {},
   "outputs": [],
   "source": []
  },
  {
   "cell_type": "code",
   "execution_count": null,
   "metadata": {},
   "outputs": [],
   "source": []
  },
  {
   "cell_type": "code",
   "execution_count": null,
   "metadata": {},
   "outputs": [],
   "source": []
  },
  {
   "cell_type": "code",
   "execution_count": null,
   "metadata": {},
   "outputs": [],
   "source": []
  },
  {
   "cell_type": "code",
   "execution_count": null,
   "metadata": {},
   "outputs": [],
   "source": []
  },
  {
   "cell_type": "code",
   "execution_count": null,
   "metadata": {},
   "outputs": [],
   "source": []
  },
  {
   "cell_type": "code",
   "execution_count": null,
   "metadata": {},
   "outputs": [],
   "source": []
  }
 ],
 "metadata": {
  "kernelspec": {
   "display_name": "Python 3",
   "language": "python",
   "name": "python3"
  },
  "language_info": {
   "codemirror_mode": {
    "name": "ipython",
    "version": 3
   },
   "file_extension": ".py",
   "mimetype": "text/x-python",
   "name": "python",
   "nbconvert_exporter": "python",
   "pygments_lexer": "ipython3",
   "version": "3.8.5"
  }
 },
 "nbformat": 4,
 "nbformat_minor": 4
}
