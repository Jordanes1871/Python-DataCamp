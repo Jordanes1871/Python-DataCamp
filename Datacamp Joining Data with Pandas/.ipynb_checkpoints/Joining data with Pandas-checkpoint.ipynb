{
 "cells": [
  {
   "cell_type": "markdown",
   "metadata": {},
   "source": [
    "# Joining Data in Pandas"
   ]
  },
  {
   "cell_type": "markdown",
   "metadata": {},
   "source": [
    "## 1. Data Merging Basics"
   ]
  },
  {
   "cell_type": "markdown",
   "metadata": {},
   "source": [
    "### Your first inner join\n",
    "You have been tasked with figuring out what the most popular types of fuel used in Chicago taxis are. To complete the analysis, you need to merge the taxi_owners and taxi_veh tables together on the vid column. You can then use the merged table along with the .value_counts() method to find the most common fuel_type."
   ]
  },
  {
   "cell_type": "code",
   "execution_count": 2,
   "metadata": {},
   "outputs": [
    {
     "name": "stdout",
     "output_type": "stream",
     "text": [
      "     rid   vid           owner                 address    zip\n",
      "0  T6285  6285  AGEAN TAXI LLC     4536 N. ELSTON AVE.  60630\n",
      "1  T4862  4862    MANGIB CORP.  5717 N. WASHTENAW AVE.  60659\n",
      "2  T1495  1495   FUNRIDE, INC.     3351 W. ADDISON ST.  60618\n",
      "3  T4231  4231    ALQUSH CORP.   6611 N. CAMPBELL AVE.  60645\n",
      "4  T5971  5971  EUNIFFORD INC.     3351 W. ADDISON ST.  60618\n",
      "    vid    make   model  year fuel_type                owner\n",
      "0  2767  TOYOTA   CAMRY  2013    HYBRID       SEYED M. BADRI\n",
      "1  1411  TOYOTA    RAV4  2017    HYBRID          DESZY CORP.\n",
      "2  6500  NISSAN  SENTRA  2019  GASOLINE       AGAPH CAB CORP\n",
      "3  2746  TOYOTA   CAMRY  2013    HYBRID  MIDWEST CAB CO, INC\n",
      "4  5922  TOYOTA   CAMRY  2013    HYBRID       SUMETTI CAB CO\n",
      "Index(['rid', 'vid', 'owner_x', 'address', 'zip', 'make', 'model', 'year',\n",
      "       'fuel_type', 'owner_y'],\n",
      "      dtype='object')\n"
     ]
    }
   ],
   "source": [
    "# import taxi_owners.p and taxi_vehicles.p pickled files\n",
    "#import pandas\n",
    "import pandas as pd\n",
    "\n",
    "#load pickle data files\n",
    "taxi_owners = pd.read_pickle('taxi_owners.p')\n",
    "taxi_veh = pd.read_pickle('taxi_vehicles.p')\n",
    "\n",
    "print(taxi_owners.head())\n",
    "print(taxi_veh.head())\n",
    "\n",
    "# Merge the taxi_owners and taxi_veh tables\n",
    "taxi_own_veh = taxi_owners.merge(taxi_veh, on='vid')\n",
    "\n",
    "# Print the column names of the taxi_own_veh\n",
    "print(taxi_own_veh.columns)"
   ]
  },
  {
   "cell_type": "code",
   "execution_count": 3,
   "metadata": {},
   "outputs": [
    {
     "name": "stdout",
     "output_type": "stream",
     "text": [
      "Index(['rid', 'vid', 'owner_own', 'address', 'zip', 'make', 'model', 'year',\n",
      "       'fuel_type', 'owner_veh'],\n",
      "      dtype='object')\n"
     ]
    }
   ],
   "source": [
    "# Set the left and right table suffixes for overlapping columns of the merge to _own and _veh, respectively.\n",
    "# The suffix is needed only when the merged dataframe has two columns with same name.\n",
    "taxi_own_veh = taxi_owners.merge(taxi_veh, on='vid', suffixes=('_own', '_veh'))\n",
    "\n",
    "# Print the column names of taxi_own_veh\n",
    "print(taxi_own_veh.columns)"
   ]
  },
  {
   "cell_type": "code",
   "execution_count": 4,
   "metadata": {},
   "outputs": [
    {
     "name": "stdout",
     "output_type": "stream",
     "text": [
      "HYBRID                    2792\n",
      "GASOLINE                   611\n",
      "FLEX FUEL                   89\n",
      "COMPRESSED NATURAL GAS      27\n",
      "Name: fuel_type, dtype: int64\n"
     ]
    }
   ],
   "source": [
    "# Merge the taxi_owners and taxi_veh tables setting a suffix\n",
    "taxi_own_veh = taxi_owners.merge(taxi_veh, on='vid', suffixes=('_own','_veh'))\n",
    "\n",
    "# Print the value_counts to find the most popular fuel_type\n",
    "print(taxi_own_veh['fuel_type'].value_counts())"
   ]
  },
  {
   "cell_type": "markdown",
   "metadata": {},
   "source": [
    "### Inner joins and number of rows returned\n",
    "All of the merges you have studied to this point are called inner joins. It is necessary to understand that inner joins only return the rows with matching values in both tables. You will explore this further by reviewing the merge between the wards and census tables, then comparing it to merges of copies of these tables that are slightly altered, named wards_altered, and census_altered. The first row of the wards column has been changed in the altered tables. You will examine how this affects the merge between them. The tables have been loaded for you.\n",
    "\n",
    "For this exercise, it is important to know that the wards and census tables start with 50 rows."
   ]
  },
  {
   "cell_type": "code",
   "execution_count": 5,
   "metadata": {},
   "outputs": [],
   "source": [
    "#import pickle ward and census data files\n",
    "wards = pd.read_pickle('ward.p')\n",
    "census = pd.read_pickle('census.p')"
   ]
  },
  {
   "cell_type": "code",
   "execution_count": 6,
   "metadata": {},
   "outputs": [
    {
     "name": "stdout",
     "output_type": "stream",
     "text": [
      "  ward            alderman                          address    zip\n",
      "0    1  Proco \"Joe\" Moreno        2058 NORTH WESTERN AVENUE  60647\n",
      "1    2       Brian Hopkins       1400 NORTH  ASHLAND AVENUE  60622\n",
      "2    3          Pat Dowell          5046 SOUTH STATE STREET  60609\n",
      "3    4    William D. Burns  435 EAST 35TH STREET, 1ST FLOOR  60616\n",
      "4    5  Leslie A. Hairston            2325 EAST 71ST STREET  60649\n",
      "(50, 4)\n"
     ]
    }
   ],
   "source": [
    "print(wards.head())\n",
    "print(wards.shape)"
   ]
  },
  {
   "cell_type": "code",
   "execution_count": 7,
   "metadata": {},
   "outputs": [
    {
     "name": "stdout",
     "output_type": "stream",
     "text": [
      "  ward  pop_2000  pop_2010 change                                  address  \\\n",
      "0    1     52951     56149     6%              2765 WEST SAINT MARY STREET   \n",
      "1    2     54361     55805     3%                 WM WASTE MANAGEMENT 1500   \n",
      "2    3     40385     53039    31%                      17 EAST 38TH STREET   \n",
      "3    4     51953     54589     5%  31ST ST HARBOR BUILDING LAKEFRONT TRAIL   \n",
      "4    5     55302     51455    -7%  JACKSON PARK LAGOON SOUTH CORNELL DRIVE   \n",
      "\n",
      "     zip  \n",
      "0  60647  \n",
      "1  60622  \n",
      "2  60653  \n",
      "3  60653  \n",
      "4  60637  \n",
      "(50, 6)\n"
     ]
    }
   ],
   "source": [
    "print(census.head())\n",
    "print(census.shape)"
   ]
  },
  {
   "cell_type": "code",
   "execution_count": 8,
   "metadata": {},
   "outputs": [
    {
     "name": "stdout",
     "output_type": "stream",
     "text": [
      "wards_census table shape: (50, 9)\n"
     ]
    }
   ],
   "source": [
    "# Merge the wards and census tables on the ward column\n",
    "wards_census = wards.merge(census, on = 'ward')\n",
    "\n",
    "# Print the shape of wards_census\n",
    "print('wards_census table shape:', wards_census.shape)"
   ]
  },
  {
   "cell_type": "markdown",
   "metadata": {},
   "source": [
    "### One-to-many classification\n",
    "The hypothetical tables are the following:\n",
    "\n",
    "\n",
    "- A customer table with information about each customer\n",
    "- A cust_tax_info table with customers unique tax IDs\n",
    "- An orders table with information about each order\n",
    "- A products table with details about each unique product sold\n",
    "- An inventory table with information on how much total inventory is available to sell for each product\n",
    "\n",
    "One-to-one:\n",
    "\n",
    "- Realtionwhip between products and inventory\n",
    "- Relationship between customer and cust_tax_info\n",
    "\n",
    "One-to-many:\n",
    "\n",
    "- Relationship between customers and orders\n",
    "- Relationship between products and orders"
   ]
  },
  {
   "cell_type": "markdown",
   "metadata": {},
   "source": [
    "### One-to-many merge\n",
    "A business may have one or multiple owners. In this exercise, you will continue to gain experience with one-to-many merges by merging a table of business owners, called biz_owners, to the licenses table. Recall from the video lesson, with a one-to-many relationship, a row in the left table may be repeated if it is related to multiple rows in the right table. In this lesson, you will explore this further by finding out what is the most common business owner title. (i.e., secretary, CEO, or vice president)"
   ]
  },
  {
   "cell_type": "code",
   "execution_count": 9,
   "metadata": {},
   "outputs": [
    {
     "name": "stdout",
     "output_type": "stream",
     "text": [
      "  account ward  aid                   business               address    zip\n",
      "0  307071    3  743       REGGIE'S BAR & GRILL       2105 S STATE ST  60616\n",
      "1      10   10  829                 HONEYBEERS   13200 S HOUSTON AVE  60633\n",
      "2   10002   14  775                CELINA DELI     5089 S ARCHER AVE  60632\n",
      "3   10005   12  NaN  KRAFT FOODS NORTH AMERICA        2005 W 43RD ST  60609\n",
      "4   10044   44  638  NEYBOUR'S TAVERN & GRILLE  3651 N SOUTHPORT AVE  60613\n",
      "  account first_name  last_name      title\n",
      "0      10      PEARL    SHERMAN  PRESIDENT\n",
      "1      10      PEARL    SHERMAN  SECRETARY\n",
      "2   10002     WALTER     MROZEK    PARTNER\n",
      "3   10002     CELINA     BYRDAK    PARTNER\n",
      "4   10005      IRENE  ROSENFELD  PRESIDENT\n"
     ]
    }
   ],
   "source": [
    "#import licenses and business_owners pickle files to df\n",
    "licenses = pd.read_pickle('licenses.p')\n",
    "biz_owners = pd.read_pickle('business_owners.p')\n",
    "\n",
    "print(licenses.head())\n",
    "print(biz_owners.head())"
   ]
  },
  {
   "cell_type": "code",
   "execution_count": 10,
   "metadata": {},
   "outputs": [
    {
     "name": "stdout",
     "output_type": "stream",
     "text": [
      "                 account\n",
      "title                   \n",
      "PRESIDENT           6259\n",
      "SECRETARY           5205\n",
      "SOLE PROPRIETOR     1658\n",
      "OTHER               1200\n",
      "VICE PRESIDENT       970\n"
     ]
    }
   ],
   "source": [
    "# Starting with the licenses table on the left, merge it to the biz_owners table on the column account, and save the results to a variable named licenses_owners.\n",
    "licenses_owners = licenses.merge(biz_owners, on = 'account')\n",
    "\n",
    "# Group licenses_owners by title and count the number of accounts for each title. Save the result as counted_df\n",
    "counted_df = licenses_owners.groupby('title').agg({'account':'count'})\n",
    "\n",
    "# Sort counted_df by the number of accounts in descending order, and save this as a variable named sorted_df.\n",
    "sorted_df = counted_df.sort_values('account', ascending = False)\n",
    "\n",
    "# Use .head() method to print the first few rows of sorted_df\n",
    "print(sorted_df.head())"
   ]
  },
  {
   "cell_type": "markdown",
   "metadata": {},
   "source": [
    "### Total riders in a month\n",
    "Your goal is to find the total number of rides provided to passengers passing through the Wilson station (station_name == 'Wilson') when riding Chicago's public transportation system on weekdays (day_type == 'Weekday') in July (month == 7). Luckily, Chicago provides this detailed data, but it is in three different tables. You will work on merging these tables together to answer the question. This data is different from the business related data you have seen so far, but all the information you need to answer the question is provided."
   ]
  },
  {
   "cell_type": "code",
   "execution_count": 11,
   "metadata": {},
   "outputs": [
    {
     "data": {
      "text/html": [
       "<img src=\"https://assets.datacamp.com/production/repositories/5486/datasets/56b5ecb2edcdc896c69effdf05ef65e5454ff996/cta_L_diagram.png\"/>"
      ],
      "text/plain": [
       "<IPython.core.display.Image object>"
      ]
     },
     "execution_count": 11,
     "metadata": {},
     "output_type": "execute_result"
    }
   ],
   "source": [
    "from IPython.display import Image\n",
    "Image(url='https://assets.datacamp.com/production/repositories/5486/datasets/56b5ecb2edcdc896c69effdf05ef65e5454ff996/cta_L_diagram.png')"
   ]
  },
  {
   "cell_type": "code",
   "execution_count": 12,
   "metadata": {},
   "outputs": [],
   "source": [
    "#iumport cta_ridership.p, stations.p and cta_calendar.p files\n",
    "ridership = pd.read_pickle('cta_ridership.p')\n",
    "cal = pd.read_pickle('cta_calendar.p')\n",
    "stations = pd.read_pickle('stations.p')"
   ]
  },
  {
   "cell_type": "code",
   "execution_count": 13,
   "metadata": {},
   "outputs": [],
   "source": [
    "# Merge the ridership and cal tables together, starting with the ridership table on the left and save the result to the variable ridership_cal. If you code takes too long to run, your merge conditions might be incorrect.\n",
    "ridership_cal = ridership.merge(cal, on = ['day', 'month', 'year'])"
   ]
  },
  {
   "cell_type": "code",
   "execution_count": 14,
   "metadata": {},
   "outputs": [],
   "source": [
    "# Extend the previous merge to three tables by also merging the stations table.\n",
    "ridership_cal_stations = ridership.merge(cal, on=['year','month','day']) \\\n",
    "            \t\t\t\t.merge(stations, on = 'station_id')"
   ]
  },
  {
   "cell_type": "code",
   "execution_count": 15,
   "metadata": {},
   "outputs": [
    {
     "name": "stdout",
     "output_type": "stream",
     "text": [
      "140005\n"
     ]
    }
   ],
   "source": [
    "# Merge the ridership, cal, and stations tables\n",
    "ridership_cal_stations = ridership.merge(cal, on=['year','month','day']) \\\n",
    "\t\t\t\t\t\t\t.merge(stations, on='station_id')\n",
    "\n",
    "# Create a filter to filter ridership_cal_stations\n",
    "filter_criteria = ((ridership_cal_stations['month'] == 7) \n",
    "                   & (ridership_cal_stations['day_type'] == 'Weekday') \n",
    "                   & (ridership_cal_stations['station_name'] == 'Wilson'))\n",
    "\n",
    "# Use .loc and the filter to select for rides\n",
    "print(ridership_cal_stations.loc[filter_criteria, 'rides'].sum())"
   ]
  },
  {
   "cell_type": "markdown",
   "metadata": {},
   "source": [
    "### Three table merge\n",
    "To solidify the concept of a three DataFrame merge, practice another exercise. A reasonable extension of our review of Chicago business data would include looking at demographics information about the neighborhoods where the businesses are. A table with the median income by zip code has been provided to you. You will merge the licenses and wards tables with this new income-by-zip-code table called zip_demo."
   ]
  },
  {
   "cell_type": "code",
   "execution_count": 16,
   "metadata": {},
   "outputs": [
    {
     "name": "stdout",
     "output_type": "stream",
     "text": [
      "     zip  income\n",
      "0  60630   70122\n",
      "1  60640   50488\n",
      "2  60622   87143\n",
      "3  60614  100116\n",
      "4  60608   41226\n"
     ]
    }
   ],
   "source": [
    "#import zip_demo pickle file\n",
    "zip_demo = pd.read_pickle('zip_demo.p')\n",
    "print(zip_demo.head())"
   ]
  },
  {
   "cell_type": "code",
   "execution_count": 17,
   "metadata": {},
   "outputs": [
    {
     "name": "stdout",
     "output_type": "stream",
     "text": [
      "                           income\n",
      "alderman                         \n",
      "Ameya Pawar                 66246\n",
      "Anthony A. Beale            38206\n",
      "Anthony V. Napolitano       82226\n",
      "Ariel E. Reyboras           41307\n",
      "Brendan Reilly             110215\n",
      "Brian Hopkins               87143\n",
      "Carlos Ramirez-Rosa         66246\n",
      "Carrie M. Austin            38206\n",
      "Chris Taliaferro            55566\n",
      "Daniel \"Danny\" Solis        41226\n",
      "David H. Moore              33304\n",
      "Deborah Mell                66246\n",
      "Debra L. Silverstein        50554\n",
      "Derrick G. Curtis           65770\n",
      "Edward M. Burke             42335\n",
      "Emma M. Mitts               36283\n",
      "George Cardenas             33959\n",
      "Gilbert Villegas            41307\n",
      "Gregory I. Mitchell         24941\n",
      "Harry Osterman              45442\n",
      "Howard B. Brookins, Jr.     33304\n",
      "James Cappleman             79565\n",
      "Jason C. Ervin              41226\n",
      "Joe Moore                   39163\n",
      "John S. Arena               70122\n",
      "Leslie A. Hairston          28024\n",
      "Margaret Laurino            70122\n",
      "Marty Quinn                 67045\n",
      "Matthew J. O'Shea           59488\n",
      "Michael R. Zalewski         42335\n",
      "Michael Scott, Jr.          31445\n",
      "Michelle A. Harris          32558\n",
      "Michelle Smith             100116\n",
      "Milagros \"Milly\" Santiago   41307\n",
      "Nicholas Sposato            62223\n",
      "Pat Dowell                  46340\n",
      "Patrick Daley Thompson      41226\n",
      "Patrick J. O'Connor         50554\n",
      "Proco \"Joe\" Moreno          87143\n",
      "Raymond A. Lopez            33959\n",
      "Ricardo Munoz               31445\n",
      "Roberto Maldonado           68223\n",
      "Roderick T. Sawyer          32558\n",
      "Scott Waguespack            68223\n",
      "Susan Sadlowski Garza       38417\n",
      "Tom Tunney                  88708\n",
      "Toni L. Foulkes             27573\n",
      "Walter Burnett, Jr.         87143\n",
      "William D. Burns           107811\n",
      "Willie B. Cochran           28024\n"
     ]
    }
   ],
   "source": [
    "# Starting with the licenses table, merge to it the zip_demo table on the zip column. \n",
    "#Then merge the resulting table to the wards table on the ward column. Save result of the three merged tables to a variable named licenses_zip_ward.\n",
    "licenses_zip_ward = licenses.merge(zip_demo, on = 'zip') \\\n",
    "            \t\t\t.merge(wards, on = 'ward')\n",
    "\n",
    "# Print the results by alderman and show median income\n",
    "print(licenses_zip_ward.groupby('alderman').agg({'income':'median'}))"
   ]
  },
  {
   "cell_type": "markdown",
   "metadata": {},
   "source": [
    "### One-to-many merge with multiple tables\n",
    "In this exercise, assume that you are looking to start a business in the city of Chicago. Your perfect idea is to start a company that uses goats to mow the lawn for other businesses. However, you have to choose a location in the city to put your goat farm. You need a location with a great deal of space and relatively few businesses and people around to avoid complaints about the smell. You will need to merge three tables to help you choose your location. The land_use table has info on the percentage of vacant land by city ward. The census table has population by ward, and the licenses table lists businesses by ward.\n",
    "\n"
   ]
  },
  {
   "cell_type": "code",
   "execution_count": 18,
   "metadata": {},
   "outputs": [
    {
     "name": "stdout",
     "output_type": "stream",
     "text": [
      "  ward  residential  commercial  industrial  vacant  other\n",
      "0    1           41           9           2       2     46\n",
      "1    2           31          11           6       2     50\n",
      "2    3           20           5           3      13     59\n",
      "3    4           22          13           0       7     58\n",
      "4    5           25           3           1       3     68\n"
     ]
    }
   ],
   "source": [
    "#import land_use.p file load to pandas df\n",
    "land_use = pd.read_pickle('land_use.p')\n",
    "print(land_use.head())"
   ]
  },
  {
   "cell_type": "code",
   "execution_count": 19,
   "metadata": {},
   "outputs": [
    {
     "name": "stdout",
     "output_type": "stream",
     "text": [
      "   ward  pop_2010  vacant  account\n",
      "47    7     51581      19       80\n",
      "12   20     52372      15      123\n",
      "1    10     51535      14      130\n",
      "16   24     54909      13       98\n",
      "7    16     51954      13      156\n"
     ]
    }
   ],
   "source": [
    "# Merge land_use and census on the ward column. \n",
    "#Merge the result of this with licenses on the ward column, using the suffix _cen for the left table and _lic for the right table. Save this to the variable land_cen_lic.\n",
    "\n",
    "land_cen_lic = land_use.merge(census, on = 'ward') \\\n",
    "                .merge(licenses, on = 'ward', suffixes = ['_cen', '_lic'])\n",
    "\n",
    "# Group land_cen_lic by ward, pop_2010 (the population in 2010), and vacant, \n",
    "#then count the number of accounts. Save the results to pop_vac_lic.\n",
    "pop_vac_lic = land_cen_lic.groupby(['ward', 'pop_2010', 'vacant'], \n",
    "                                   as_index=False).agg({'account':'count'})\n",
    "\n",
    "# Sort pop_vac_lic by vacant, account, and pop_2010 in descending, ascending, and ascending order respectively. \n",
    "#Save it as sorted_pop_vac_lic.\n",
    "sorted_pop_vac_lic = pop_vac_lic.sort_values(['vacant', 'account', 'pop_2010'], \n",
    "                                             ascending=[False, True, True])\n",
    "\n",
    "# Print the top few rows of sorted_pop_vac_lic\n",
    "print(sorted_pop_vac_lic.head())"
   ]
  },
  {
   "cell_type": "markdown",
   "metadata": {},
   "source": [
    "## 2. Merging Tables with Different Join Types"
   ]
  },
  {
   "cell_type": "markdown",
   "metadata": {},
   "source": [
    "### Counting missing rows with left join\n",
    "The Movie Database is supported by volunteers going out into the world, collecting data, and entering it into the database. This includes financial data, such as movie budget and revenue. If you wanted to know which movies are still missing data, you could use a left join to identify them. Practice using a left join by merging the movies table and the financials table.\n",
    "\n"
   ]
  },
  {
   "cell_type": "code",
   "execution_count": 20,
   "metadata": {},
   "outputs": [],
   "source": [
    "#import movies and financials pickle files in pandas df\n",
    "movies = pd.read_pickle('movies.p')\n",
    "financials = pd.read_pickle('financials.p')"
   ]
  },
  {
   "cell_type": "code",
   "execution_count": 21,
   "metadata": {},
   "outputs": [
    {
     "name": "stdout",
     "output_type": "stream",
     "text": [
      "      id                 title  popularity release_date\n",
      "0    257          Oliver Twist   20.415572   2005-09-23\n",
      "1  14290  Better Luck Tomorrow    3.877036   2002-01-12\n",
      "2  38365             Grown Ups   38.864027   2010-06-24\n",
      "3   9672              Infamous    3.680896   2006-11-16\n",
      "4  12819       Alpha and Omega   12.300789   2010-09-17\n"
     ]
    }
   ],
   "source": [
    "print(movies.head())"
   ]
  },
  {
   "cell_type": "code",
   "execution_count": 22,
   "metadata": {},
   "outputs": [
    {
     "name": "stdout",
     "output_type": "stream",
     "text": [
      "       id     budget       revenue\n",
      "0   19995  237000000  2.787965e+09\n",
      "1     285  300000000  9.610000e+08\n",
      "2  206647  245000000  8.806746e+08\n",
      "3   49026  250000000  1.084939e+09\n",
      "4   49529  260000000  2.841391e+08\n"
     ]
    }
   ],
   "source": [
    "print(financials.head())"
   ]
  },
  {
   "cell_type": "markdown",
   "metadata": {},
   "source": [
    "What column is likely the best column to merge the two tables on?\n",
    "\n",
    "- id"
   ]
  },
  {
   "cell_type": "code",
   "execution_count": 23,
   "metadata": {},
   "outputs": [],
   "source": [
    "#Merge the movies table, as the left table, with the financials table using a left join, and save the result to movies_financials.\n",
    "movies_financials = movies.merge(financials, on = 'id', how='left')"
   ]
  },
  {
   "cell_type": "code",
   "execution_count": 24,
   "metadata": {},
   "outputs": [
    {
     "name": "stdout",
     "output_type": "stream",
     "text": [
      "1574\n"
     ]
    }
   ],
   "source": [
    "# Count the number of rows in the budget column that are missing\n",
    "number_of_missing_fin = movies_financials['budget'].isnull().sum()\n",
    "\n",
    "# Print the number of movies missing financials\n",
    "print(number_of_missing_fin)"
   ]
  },
  {
   "cell_type": "markdown",
   "metadata": {},
   "source": [
    "### Enriching a dataset\n",
    "Setting how='left' with the .merge()method is a useful technique for enriching or enhancing a dataset with additional information from a different table. In this exercise, you will start off with a sample of movie data from the movie series Toy Story. Your goal is to enrich this data by adding the marketing tag line for each movie. You will compare the results of a left join versus an inner join."
   ]
  },
  {
   "cell_type": "code",
   "execution_count": 25,
   "metadata": {},
   "outputs": [],
   "source": [
    "#create the toy_story df and import taglines\n",
    "toy_story = movies[movies['title'].str.contains('Toy Story')]\n",
    "taglines = pd.read_pickle('taglines.p')"
   ]
  },
  {
   "cell_type": "code",
   "execution_count": 26,
   "metadata": {},
   "outputs": [
    {
     "name": "stdout",
     "output_type": "stream",
     "text": [
      "       id                                         tagline\n",
      "0   19995                     Enter the World of Pandora.\n",
      "1     285  At the end of the world, the adventure begins.\n",
      "2  206647                           A Plan No One Escapes\n",
      "3   49026                                 The Legend Ends\n",
      "4   49529            Lost in our world, found in another.\n"
     ]
    }
   ],
   "source": [
    "print(taglines.head())"
   ]
  },
  {
   "cell_type": "code",
   "execution_count": 27,
   "metadata": {},
   "outputs": [
    {
     "name": "stdout",
     "output_type": "stream",
     "text": [
      "         id        title  popularity release_date\n",
      "103   10193  Toy Story 3   59.995418   2010-06-16\n",
      "2637    863  Toy Story 2   73.575118   1999-10-30\n",
      "3716    862    Toy Story   73.640445   1995-10-30\n"
     ]
    }
   ],
   "source": [
    "print(toy_story.head())"
   ]
  },
  {
   "cell_type": "code",
   "execution_count": 28,
   "metadata": {},
   "outputs": [
    {
     "name": "stdout",
     "output_type": "stream",
     "text": [
      "      id        title  popularity release_date                   tagline\n",
      "0  10193  Toy Story 3   59.995418   2010-06-16  No toy gets left behind.\n",
      "1    863  Toy Story 2   73.575118   1999-10-30        The toys are back!\n",
      "2    862    Toy Story   73.640445   1995-10-30                       NaN\n",
      "(3, 5)\n"
     ]
    }
   ],
   "source": [
    "# Merge the toy_story and taglines tables with a left join\n",
    "toystory_tag = toy_story.merge(taglines, on = 'id', how = 'left')\n",
    "\n",
    "# Print the rows and shape of toystory_tag\n",
    "print(toystory_tag)\n",
    "print(toystory_tag.shape)"
   ]
  },
  {
   "cell_type": "code",
   "execution_count": 29,
   "metadata": {},
   "outputs": [
    {
     "name": "stdout",
     "output_type": "stream",
     "text": [
      "      id        title  popularity release_date                   tagline\n",
      "0  10193  Toy Story 3   59.995418   2010-06-16  No toy gets left behind.\n",
      "1    863  Toy Story 2   73.575118   1999-10-30        The toys are back!\n",
      "(2, 5)\n"
     ]
    }
   ],
   "source": [
    "# Merge the toy_story and taglines tables with a inner join\n",
    "toystory_tag = toy_story.merge(taglines, on='id', how='inner')\n",
    "\n",
    "# Print the rows and shape of toystory_tag\n",
    "print(toystory_tag)\n",
    "print(toystory_tag.shape)\n",
    "#has 2 rows by 5 columns"
   ]
  },
  {
   "cell_type": "markdown",
   "metadata": {},
   "source": [
    "### Right join to find unique movies\n",
    "Most of the recent big-budget science fiction movies can also be classified as action movies. You are given a table of science fiction movies called scifi_movies and another table of action movies called action_movies. Your goal is to find which movies are considered only science fiction movies. Once you have this table, you can merge the movies table in to see the movie names. Since this exercise is related to science fiction movies, use a right join as your superhero power to solve this problem."
   ]
  },
  {
   "cell_type": "code",
   "execution_count": 30,
   "metadata": {},
   "outputs": [
    {
     "name": "stdout",
     "output_type": "stream",
     "text": [
      "   movie_id            genre\n",
      "0         5            Crime\n",
      "1         5           Comedy\n",
      "2        11  Science Fiction\n",
      "3        11           Action\n",
      "4        11        Adventure\n"
     ]
    }
   ],
   "source": [
    "#import movie_to_genres.p\n",
    "movie_to_genres = pd.read_pickle('movie_to_genres.p')\n",
    "print(movie_to_genres.head())"
   ]
  },
  {
   "cell_type": "code",
   "execution_count": 31,
   "metadata": {},
   "outputs": [
    {
     "name": "stdout",
     "output_type": "stream",
     "text": [
      "[     5     11     12 ... 433715 447027 459488]\n",
      "['Crime' 'Comedy' 'Science Fiction' 'Action' 'Adventure' 'Family'\n",
      " 'Animation' 'Romance' 'Drama' 'Music' 'Thriller' 'Fantasy' 'War'\n",
      " 'Western' 'Mystery' 'History' 'Horror' 'Documentary' 'Foreign' 'TV Movie']\n"
     ]
    }
   ],
   "source": [
    "#find unique values in genre column so we know what columns we have\n",
    "for col in movie_to_genres:\n",
    "  print(movie_to_genres[col].unique())"
   ]
  },
  {
   "cell_type": "code",
   "execution_count": 32,
   "metadata": {},
   "outputs": [
    {
     "name": "stdout",
     "output_type": "stream",
     "text": [
      "       movie_id            genre\n",
      "2            11  Science Fiction\n",
      "17           18  Science Fiction\n",
      "20           19  Science Fiction\n",
      "38           38  Science Fiction\n",
      "49           62  Science Fiction\n",
      "...         ...              ...\n",
      "12000    335866  Science Fiction\n",
      "12020    347548  Science Fiction\n",
      "12063    360188  Science Fiction\n",
      "12092    367551  Science Fiction\n",
      "12100    371690  Science Fiction\n",
      "\n",
      "[535 rows x 2 columns]\n"
     ]
    }
   ],
   "source": [
    "#create scifi_movies from movie_to_genres\n",
    "scifi_movies = movie_to_genres[movie_to_genres['genre'].str.contains('Science Fiction')]\n",
    "print(scifi_movies)"
   ]
  },
  {
   "cell_type": "code",
   "execution_count": 33,
   "metadata": {},
   "outputs": [
    {
     "name": "stdout",
     "output_type": "stream",
     "text": [
      "       movie_id   genre\n",
      "3            11  Action\n",
      "14           18  Action\n",
      "25           22  Action\n",
      "26           24  Action\n",
      "42           58  Action\n",
      "...         ...     ...\n",
      "12126    381902  Action\n",
      "12128    385383  Action\n",
      "12136    389425  Action\n",
      "12144    407887  Action\n",
      "12151    417859  Action\n",
      "\n",
      "[1154 rows x 2 columns]\n"
     ]
    }
   ],
   "source": [
    "#create action_movies from movie_to_genres\n",
    "action_movies = movie_to_genres[movie_to_genres['genre'].str.contains('Action')]\n",
    "print(action_movies)"
   ]
  },
  {
   "cell_type": "code",
   "execution_count": 34,
   "metadata": {},
   "outputs": [
    {
     "name": "stdout",
     "output_type": "stream",
     "text": [
      "   movie_id genre_act        genre_sci\n",
      "0        11    Action  Science Fiction\n",
      "1        18    Action  Science Fiction\n",
      "2        19       NaN  Science Fiction\n",
      "3        38       NaN  Science Fiction\n",
      "4        62       NaN  Science Fiction\n"
     ]
    }
   ],
   "source": [
    "# Merge action_movies to scifi_movies with right join\n",
    "# Update the merge to add suffixes, where '_act' and '_sci' are suffixes for the left and right tables, respectively.\n",
    "action_scifi = action_movies.merge(scifi_movies, on='movie_id', how='right',\n",
    "                                   suffixes = ['_act', '_sci'])\n",
    "\n",
    "# Print the first few rows of action_scifi to see the structure\n",
    "print(action_scifi.head())"
   ]
  },
  {
   "cell_type": "code",
   "execution_count": 35,
   "metadata": {},
   "outputs": [
    {
     "name": "stdout",
     "output_type": "stream",
     "text": [
      "     movie_id genre_act        genre_sci\n",
      "2          19       NaN  Science Fiction\n",
      "3          38       NaN  Science Fiction\n",
      "4          62       NaN  Science Fiction\n",
      "5          68       NaN  Science Fiction\n",
      "6          74       NaN  Science Fiction\n",
      "..        ...       ...              ...\n",
      "529    333371       NaN  Science Fiction\n",
      "530    335866       NaN  Science Fiction\n",
      "531    347548       NaN  Science Fiction\n",
      "532    360188       NaN  Science Fiction\n",
      "534    371690       NaN  Science Fiction\n",
      "\n",
      "[258 rows x 3 columns]\n"
     ]
    }
   ],
   "source": [
    "# From action_scifi, select only the rows where the genre_act column is null\n",
    "scifi_only = action_scifi[action_scifi['genre_act'].isnull()]\n",
    "print(scifi_only)"
   ]
  },
  {
   "cell_type": "code",
   "execution_count": 36,
   "metadata": {},
   "outputs": [
    {
     "name": "stdout",
     "output_type": "stream",
     "text": [
      "      id                         title  popularity release_date  movie_id  \\\n",
      "0  18841  The Lost Skeleton of Cadavra    1.680525   2001-09-12     18841   \n",
      "1  26672     The Thief and the Cobbler    2.439184   1993-09-23     26672   \n",
      "2  15301      Twilight Zone: The Movie   12.902975   1983-06-24     15301   \n",
      "3   8452                   The 6th Day   18.447479   2000-11-17      8452   \n",
      "4   1649    Bill & Ted's Bogus Journey   11.349664   1991-07-19      1649   \n",
      "\n",
      "  genre_act        genre_sci  \n",
      "0       NaN  Science Fiction  \n",
      "1       NaN  Science Fiction  \n",
      "2       NaN  Science Fiction  \n",
      "3       NaN  Science Fiction  \n",
      "4       NaN  Science Fiction  \n",
      "(258, 7)\n"
     ]
    }
   ],
   "source": [
    "# Merge action_movies to the scifi_movies with right join\n",
    "action_scifi = action_movies.merge(scifi_movies, on='movie_id', how='right',\n",
    "                                   suffixes=('_act','_sci'))\n",
    "\n",
    "# From action_scifi, select only the rows where the genre_act column is null\n",
    "scifi_only = action_scifi[action_scifi['genre_act'].isnull()]\n",
    "\n",
    "# Merge movies and scifi_only using the id column in the left table and the movie_id column in the right table with an inner join.\n",
    "movies_and_scifi_only = movies.merge(scifi_only, left_on = 'id', right_on = 'movie_id', how='inner')\n",
    "\n",
    "# Print the first few rows and shape of movies_and_scifi_only\n",
    "print(movies_and_scifi_only.head())\n",
    "print(movies_and_scifi_only.shape)"
   ]
  },
  {
   "cell_type": "markdown",
   "metadata": {},
   "source": [
    "### Popular genres with right join\n",
    "What are the genres of the most popular movies? To answer this question, you need to merge data from the movies and movie_to_genres tables. In a table called pop_movies, the top 10 most popular movies in the movies table have been selected. To ensure that you are analyzing all of the popular movies, merge it with the movie_to_genres table using a right join. To complete your analysis, count the number of different genres. Also, the two tables can be merged by the movie ID. However, in pop_movies that column is called id, and in movies_to_genres it's called movie_id.\n",
    "\n"
   ]
  },
  {
   "cell_type": "code",
   "execution_count": 37,
   "metadata": {},
   "outputs": [
    {
     "name": "stdout",
     "output_type": "stream",
     "text": [
      "          id                                              title  popularity  \\\n",
      "4546  211672                                            Minions  875.581305   \n",
      "4343  157336                                       Interstellar  724.247784   \n",
      "1966  293660                                           Deadpool  514.569956   \n",
      "2423  118340                            Guardians of the Galaxy  481.098624   \n",
      "4220   76341                                 Mad Max: Fury Road  434.278564   \n",
      "1867  135397                                     Jurassic World  418.708552   \n",
      "4375      22  Pirates of the Caribbean: The Curse of the Bla...  271.972889   \n",
      "1106  119450                     Dawn of the Planet of the Apes  243.791743   \n",
      "4216  131631              The Hunger Games: Mockingjay - Part 1  206.227151   \n",
      "2614  177572                                         Big Hero 6  203.734590   \n",
      "\n",
      "     release_date  \n",
      "4546   2015-06-17  \n",
      "4343   2014-11-05  \n",
      "1966   2016-02-09  \n",
      "2423   2014-07-30  \n",
      "4220   2015-05-13  \n",
      "1867   2015-06-09  \n",
      "4375   2003-07-09  \n",
      "1106   2014-06-26  \n",
      "4216   2014-11-18  \n",
      "2614   2014-10-24  \n",
      "(10, 4)\n"
     ]
    }
   ],
   "source": [
    "#create a pop_movies from movies given popularity ratings\n",
    "generate_pop = movies.sort_values('popularity', ascending = False)\n",
    "\n",
    "#get top 10 most popualr movies\n",
    "pop_movies = generate_pop.head(10)\n",
    "print(pop_movies)\n",
    "print(pop_movies.shape)"
   ]
  },
  {
   "cell_type": "code",
   "execution_count": 38,
   "metadata": {},
   "outputs": [
    {
     "data": {
      "image/png": "[encoded data removed]",
      "text/plain": [
       "<Figure size 432x288 with 1 Axes>"
      ]
     },
     "metadata": {
      "needs_background": "light"
     },
     "output_type": "display_data"
    }
   ],
   "source": [
    "#iimport matplotlib.pyplot as plt\n",
    "import matplotlib.pyplot as plt\n",
    "\n",
    "# Use right join to merge the movie_to_genres and pop_movies tables\n",
    "genres_movies = movie_to_genres.merge(pop_movies, how='right', \n",
    "                                      left_on = 'movie_id', \n",
    "                                      right_on = 'id')\n",
    "\n",
    "# Count the number of genres\n",
    "genre_count = genres_movies.groupby('genre').agg({'id':'count'})\n",
    "\n",
    "# Plot a bar chart of the genre_count\n",
    "genre_count.plot(kind='bar')\n",
    "plt.show()"
   ]
  },
  {
   "cell_type": "markdown",
   "metadata": {},
   "source": [
    "### Using outer join to select actors\n",
    "One cool aspect of using an outer join is that, because it returns all rows from both merged tables and null where they do not match, you can use it to find rows that do not have a match in the other table. To try for yourself, you have been given two tables with a list of actors from two popular movies: Iron Man 1 and Iron Man 2. Most of the actors played in both movies. Use an outer join to find actors who did not act in both movies.\n",
    "\n",
    "The Iron Man 1 table is called iron_1_actors, and Iron Man 2 table is called iron_2_actors. Both tables have been loaded for you and a few rows printed so you can see the structure.\n",
    "\n"
   ]
  },
  {
   "cell_type": "code",
   "execution_count": 39,
   "metadata": {},
   "outputs": [
    {
     "data": {
      "text/html": [
       "<img src=\"https://assets.datacamp.com/production/repositories/5486/datasets/c5d02ebba511e90ae132f89ff091e6729c040bd2/noJoin.png\"/>"
      ],
      "text/plain": [
       "<IPython.core.display.Image object>"
      ]
     },
     "execution_count": 39,
     "metadata": {},
     "output_type": "execute_result"
    }
   ],
   "source": [
    "Image(url='https://assets.datacamp.com/production/repositories/5486/datasets/c5d02ebba511e90ae132f89ff091e6729c040bd2/noJoin.png')"
   ]
  },
  {
   "cell_type": "code",
   "execution_count": 40,
   "metadata": {},
   "outputs": [
    {
     "name": "stdout",
     "output_type": "stream",
     "text": [
      "    movie_id  cast_id character  gender    id               name\n",
      "7          5       22   Jezebel       1  3122        Sammi Davis\n",
      "8          5       23     Diana       1  3123  Amanda de Cadenet\n",
      "9          5       24    Athena       1  3124     Valeria Golino\n",
      "3          5       25   Elspeth       1  3125            Madonna\n",
      "12         5       26       Eva       1  3126          Ione Skye\n"
     ]
    }
   ],
   "source": [
    "#import casts\n",
    "cast = pd.read_pickle('casts.p')\n",
    "print(cast.head())"
   ]
  },
  {
   "cell_type": "code",
   "execution_count": 41,
   "metadata": {},
   "outputs": [
    {
     "data": {
      "text/html": [
       "<div>\n",
       "<style scoped>\n",
       "    .dataframe tbody tr th:only-of-type {\n",
       "        vertical-align: middle;\n",
       "    }\n",
       "\n",
       "    .dataframe tbody tr th {\n",
       "        vertical-align: top;\n",
       "    }\n",
       "\n",
       "    .dataframe thead th {\n",
       "        text-align: right;\n",
       "    }\n",
       "</style>\n",
       "<table border=\"1\" class=\"dataframe\">\n",
       "  <thead>\n",
       "    <tr style=\"text-align: right;\">\n",
       "      <th></th>\n",
       "      <th>id</th>\n",
       "      <th>title</th>\n",
       "      <th>popularity</th>\n",
       "      <th>release_date</th>\n",
       "    </tr>\n",
       "  </thead>\n",
       "  <tbody>\n",
       "    <tr>\n",
       "      <th>181</th>\n",
       "      <td>10386</td>\n",
       "      <td>The Iron Giant</td>\n",
       "      <td>61.245957</td>\n",
       "      <td>1999-08-06</td>\n",
       "    </tr>\n",
       "    <tr>\n",
       "      <th>2198</th>\n",
       "      <td>1726</td>\n",
       "      <td>Iron Man</td>\n",
       "      <td>120.725053</td>\n",
       "      <td>2008-04-30</td>\n",
       "    </tr>\n",
       "    <tr>\n",
       "      <th>3041</th>\n",
       "      <td>38543</td>\n",
       "      <td>Ironclad</td>\n",
       "      <td>12.317080</td>\n",
       "      <td>2011-03-03</td>\n",
       "    </tr>\n",
       "    <tr>\n",
       "      <th>3271</th>\n",
       "      <td>97430</td>\n",
       "      <td>The Man with the Iron Fists</td>\n",
       "      <td>17.672021</td>\n",
       "      <td>2012-11-02</td>\n",
       "    </tr>\n",
       "    <tr>\n",
       "      <th>3286</th>\n",
       "      <td>68721</td>\n",
       "      <td>Iron Man 3</td>\n",
       "      <td>77.682080</td>\n",
       "      <td>2013-04-18</td>\n",
       "    </tr>\n",
       "    <tr>\n",
       "      <th>3401</th>\n",
       "      <td>10138</td>\n",
       "      <td>Iron Man 2</td>\n",
       "      <td>77.300194</td>\n",
       "      <td>2010-04-28</td>\n",
       "    </tr>\n",
       "    <tr>\n",
       "      <th>3900</th>\n",
       "      <td>9313</td>\n",
       "      <td>The Man in the Iron Mask</td>\n",
       "      <td>28.980270</td>\n",
       "      <td>1998-03-12</td>\n",
       "    </tr>\n",
       "    <tr>\n",
       "      <th>4539</th>\n",
       "      <td>71688</td>\n",
       "      <td>The Iron Lady</td>\n",
       "      <td>23.378400</td>\n",
       "      <td>2011-12-30</td>\n",
       "    </tr>\n",
       "  </tbody>\n",
       "</table>\n",
       "</div>"
      ],
      "text/plain": [
       "         id                        title  popularity release_date\n",
       "181   10386               The Iron Giant   61.245957   1999-08-06\n",
       "2198   1726                     Iron Man  120.725053   2008-04-30\n",
       "3041  38543                     Ironclad   12.317080   2011-03-03\n",
       "3271  97430  The Man with the Iron Fists   17.672021   2012-11-02\n",
       "3286  68721                   Iron Man 3   77.682080   2013-04-18\n",
       "3401  10138                   Iron Man 2   77.300194   2010-04-28\n",
       "3900   9313     The Man in the Iron Mask   28.980270   1998-03-12\n",
       "4539  71688                The Iron Lady   23.378400   2011-12-30"
      ]
     },
     "execution_count": 41,
     "metadata": {},
     "output_type": "execute_result"
    }
   ],
   "source": [
    "#find corresponding id for movies that belong to Iron Man a dn Iron Man 2\n",
    "movies[movies['title'].str.contains(\"Iron\")]\n",
    "# iron man = id 1726\n",
    "# iron man 2 = id 10138"
   ]
  },
  {
   "cell_type": "code",
   "execution_count": 42,
   "metadata": {},
   "outputs": [
    {
     "name": "stdout",
     "output_type": "stream",
     "text": [
      "        id_mov                title  popularity release_date  movie_id  \\\n",
      "0          257         Oliver Twist   20.415572   2005-09-23     257.0   \n",
      "1          257         Oliver Twist   20.415572   2005-09-23     257.0   \n",
      "2          257         Oliver Twist   20.415572   2005-09-23     257.0   \n",
      "3          257         Oliver Twist   20.415572   2005-09-23     257.0   \n",
      "4          257         Oliver Twist   20.415572   2005-09-23     257.0   \n",
      "...        ...                  ...         ...          ...       ...   \n",
      "106295   11622  Blast from the Past    8.737058   1999-02-12   11622.0   \n",
      "106296   11622  Blast from the Past    8.737058   1999-02-12   11622.0   \n",
      "106297   11622  Blast from the Past    8.737058   1999-02-12   11622.0   \n",
      "106298   11622  Blast from the Past    8.737058   1999-02-12   11622.0   \n",
      "106299   11622  Blast from the Past    8.737058   1999-02-12   11622.0   \n",
      "\n",
      "        cast_id          character  gender    id_cast              name  \n",
      "0           1.0       Oliver Twist     2.0     3542.0      Barney Clark  \n",
      "1           2.0              Fagin     2.0     2282.0      Ben Kingsley  \n",
      "2           3.0         Bill Sikes     2.0     3543.0     Jamie Foreman  \n",
      "3           4.0  The Artful Dodger     2.0     3544.0        Harry Eden  \n",
      "4           5.0       Mr. Brownlow     2.0     3545.0  Edward Hardwicke  \n",
      "...         ...                ...     ...        ...               ...  \n",
      "106295     30.0              Jerry     2.0   172734.0         Don Yesso  \n",
      "106296     31.0              Betty     1.0  1178622.0      Cynthia Mace  \n",
      "106297     32.0   Hotel Desk Clerk     2.0   166617.0         Rod Britt  \n",
      "106298     33.0                Bob     2.0  1349629.0   Harry S. Murphy  \n",
      "106299     36.0           Dr. Aron     1.0    15899.0     Jenifer Lewis  \n",
      "\n",
      "[106300 rows x 10 columns]\n"
     ]
    }
   ],
   "source": [
    "# create a dataframe for iron_1_actors and iron_2_actors\n",
    "iron_1_actors_v1 = movies.merge(cast, left_on = 'id', \\\n",
    "                            right_on = 'movie_id',\n",
    "                            how = 'left', \\\n",
    "                               suffixes = ['_mov', '_cast'])\n",
    "print(iron_1_actors_v1)"
   ]
  },
  {
   "cell_type": "code",
   "execution_count": 43,
   "metadata": {},
   "outputs": [
    {
     "name": "stdout",
     "output_type": "stream",
     "text": [
      "       id_mov     title  popularity release_date  movie_id  cast_id  \\\n",
      "48817    1726  Iron Man  120.725053   2008-04-30    1726.0      9.0   \n",
      "48818    1726  Iron Man  120.725053   2008-04-30    1726.0     10.0   \n",
      "48819    1726  Iron Man  120.725053   2008-04-30    1726.0     11.0   \n",
      "48820    1726  Iron Man  120.725053   2008-04-30    1726.0     12.0   \n",
      "48821    1726  Iron Man  120.725053   2008-04-30    1726.0     17.0   \n",
      "...       ...       ...         ...          ...       ...      ...   \n",
      "48899    1726  Iron Man  120.725053   2008-04-30    1726.0    103.0   \n",
      "48900    1726  Iron Man  120.725053   2008-04-30    1726.0    104.0   \n",
      "48901    1726  Iron Man  120.725053   2008-04-30    1726.0    106.0   \n",
      "48902    1726  Iron Man  120.725053   2008-04-30    1726.0    107.0   \n",
      "48903    1726  Iron Man  120.725053   2008-04-30    1726.0    109.0   \n",
      "\n",
      "                                          character  gender    id_cast  \\\n",
      "48817                                        Yinsen     2.0    17857.0   \n",
      "48818                       Virginia \"Pepper\" Potts     1.0    12052.0   \n",
      "48819                   Obadiah Stane / Iron Monger     2.0     1229.0   \n",
      "48820  Lt. Col. James \"Rhodey\" Rhodes / War Machine     2.0    18288.0   \n",
      "48821                            Christine Everhart     1.0    57451.0   \n",
      "...                                             ...     ...        ...   \n",
      "48899                         Reporter (uncredited)     0.0  1209728.0   \n",
      "48900                   News Cameraman (uncredited)     0.0  1209729.0   \n",
      "48901                  Rooftop Fireman (uncredited)     0.0  1209730.0   \n",
      "48902             Whiplash One (voice) (uncredited)     0.0  1209731.0   \n",
      "48903                         Reporter (uncredited)     0.0  1429470.0   \n",
      "\n",
      "                    name  \n",
      "48817         Shaun Toub  \n",
      "48818    Gwyneth Paltrow  \n",
      "48819       Jeff Bridges  \n",
      "48820    Terrence Howard  \n",
      "48821        Leslie Bibb  \n",
      "...                  ...  \n",
      "48899         Chris Reid  \n",
      "48900           Toi Rose  \n",
      "48901   George F. Watson  \n",
      "48902        David Zyler  \n",
      "48903  Nick W. Nicholson  \n",
      "\n",
      "[87 rows x 10 columns]\n"
     ]
    }
   ],
   "source": [
    "#ensure you get Iron Man 1 cast\n",
    "iron_1_actors_v2 = iron_1_actors_v1[iron_1_actors_v1['id_mov']==1726]\n",
    "print(iron_1_actors_v2)"
   ]
  },
  {
   "cell_type": "code",
   "execution_count": 44,
   "metadata": {},
   "outputs": [
    {
     "name": "stdout",
     "output_type": "stream",
     "text": [
      "                                          character       id  \\\n",
      "48817                                        Yinsen    17857   \n",
      "48818                       Virginia \"Pepper\" Potts    12052   \n",
      "48819                   Obadiah Stane / Iron Monger     1229   \n",
      "48820  Lt. Col. James \"Rhodey\" Rhodes / War Machine    18288   \n",
      "48821                            Christine Everhart    57451   \n",
      "...                                             ...      ...   \n",
      "48899                         Reporter (uncredited)  1209728   \n",
      "48900                   News Cameraman (uncredited)  1209729   \n",
      "48901                  Rooftop Fireman (uncredited)  1209730   \n",
      "48902             Whiplash One (voice) (uncredited)  1209731   \n",
      "48903                         Reporter (uncredited)  1429470   \n",
      "\n",
      "                    name  \n",
      "48817         Shaun Toub  \n",
      "48818    Gwyneth Paltrow  \n",
      "48819       Jeff Bridges  \n",
      "48820    Terrence Howard  \n",
      "48821        Leslie Bibb  \n",
      "...                  ...  \n",
      "48899         Chris Reid  \n",
      "48900           Toi Rose  \n",
      "48901   George F. Watson  \n",
      "48902        David Zyler  \n",
      "48903  Nick W. Nicholson  \n",
      "\n",
      "[87 rows x 3 columns]\n"
     ]
    }
   ],
   "source": [
    "# drop un-needed columns\n",
    "iron_1_actors = iron_1_actors_v2.drop(columns=['id_mov', 'title', 'popularity', 'release_date', 'movie_id', \\\n",
    "                                              'gender', 'cast_id'])\n",
    "#rename id_cast to id\n",
    "iron_1_actors = iron_1_actors.rename(columns = {'id_cast' : 'id'})\n",
    "\n",
    "#convert id from float to int values\n",
    "iron_1_actors['id'] = iron_1_actors['id'].astype(int)\n",
    "\n",
    "#print\n",
    "print(iron_1_actors)"
   ]
  },
  {
   "cell_type": "code",
   "execution_count": 45,
   "metadata": {},
   "outputs": [
    {
     "name": "stdout",
     "output_type": "stream",
     "text": [
      "        id_mov                title  popularity release_date  movie_id  \\\n",
      "0          257         Oliver Twist   20.415572   2005-09-23     257.0   \n",
      "1          257         Oliver Twist   20.415572   2005-09-23     257.0   \n",
      "2          257         Oliver Twist   20.415572   2005-09-23     257.0   \n",
      "3          257         Oliver Twist   20.415572   2005-09-23     257.0   \n",
      "4          257         Oliver Twist   20.415572   2005-09-23     257.0   \n",
      "...        ...                  ...         ...          ...       ...   \n",
      "106295   11622  Blast from the Past    8.737058   1999-02-12   11622.0   \n",
      "106296   11622  Blast from the Past    8.737058   1999-02-12   11622.0   \n",
      "106297   11622  Blast from the Past    8.737058   1999-02-12   11622.0   \n",
      "106298   11622  Blast from the Past    8.737058   1999-02-12   11622.0   \n",
      "106299   11622  Blast from the Past    8.737058   1999-02-12   11622.0   \n",
      "\n",
      "        cast_id          character  gender    id_cast              name  \n",
      "0           1.0       Oliver Twist     2.0     3542.0      Barney Clark  \n",
      "1           2.0              Fagin     2.0     2282.0      Ben Kingsley  \n",
      "2           3.0         Bill Sikes     2.0     3543.0     Jamie Foreman  \n",
      "3           4.0  The Artful Dodger     2.0     3544.0        Harry Eden  \n",
      "4           5.0       Mr. Brownlow     2.0     3545.0  Edward Hardwicke  \n",
      "...         ...                ...     ...        ...               ...  \n",
      "106295     30.0              Jerry     2.0   172734.0         Don Yesso  \n",
      "106296     31.0              Betty     1.0  1178622.0      Cynthia Mace  \n",
      "106297     32.0   Hotel Desk Clerk     2.0   166617.0         Rod Britt  \n",
      "106298     33.0                Bob     2.0  1349629.0   Harry S. Murphy  \n",
      "106299     36.0           Dr. Aron     1.0    15899.0     Jenifer Lewis  \n",
      "\n",
      "[106300 rows x 10 columns]\n"
     ]
    }
   ],
   "source": [
    "# do the same for iron_man_2 \n",
    "# create a dataframe for iron_1_actors and iron_2_actors\n",
    "iron_2_actors_v1 = movies.merge(cast, left_on = 'id', \\\n",
    "                            right_on = 'movie_id',\n",
    "                            how = 'left', \\\n",
    "                               suffixes = ['_mov', '_cast'])\n",
    "print(iron_2_actors_v1)"
   ]
  },
  {
   "cell_type": "code",
   "execution_count": 46,
   "metadata": {},
   "outputs": [
    {
     "name": "stdout",
     "output_type": "stream",
     "text": [
      "       id_mov       title  popularity release_date  movie_id  cast_id  \\\n",
      "75182   10138  Iron Man 2   77.300194   2010-04-28   10138.0      3.0   \n",
      "75183   10138  Iron Man 2   77.300194   2010-04-28   10138.0      5.0   \n",
      "75184   10138  Iron Man 2   77.300194   2010-04-28   10138.0      6.0   \n",
      "75185   10138  Iron Man 2   77.300194   2010-04-28   10138.0      7.0   \n",
      "75186   10138  Iron Man 2   77.300194   2010-04-28   10138.0     18.0   \n",
      "...       ...         ...         ...          ...       ...      ...   \n",
      "75292   10138  Iron Man 2   77.300194   2010-04-28   10138.0    134.0   \n",
      "75293   10138  Iron Man 2   77.300194   2010-04-28   10138.0    135.0   \n",
      "75294   10138  Iron Man 2   77.300194   2010-04-28   10138.0    136.0   \n",
      "75295   10138  Iron Man 2   77.300194   2010-04-28   10138.0    137.0   \n",
      "75296   10138  Iron Man 2   77.300194   2010-04-28   10138.0    147.0   \n",
      "\n",
      "                                              character  gender    id_cast  \\\n",
      "75182                             Ivan Vanko / Whiplash     2.0     2295.0   \n",
      "75183  Natalie Rushman / Natasha Romanoff / Black Widow     1.0     1245.0   \n",
      "75184                                     Justin Hammer     2.0     6807.0   \n",
      "75185                                Director Nick Fury     2.0     2231.0   \n",
      "75186                           Virginia \"Pepper\" Potts     1.0    12052.0   \n",
      "...                                                 ...     ...        ...   \n",
      "75292                           US Senator (uncredited)     0.0  1265840.0   \n",
      "75293                           Background (uncredited)     0.0  1265841.0   \n",
      "75294                     Tony Stark Usher (uncredited)     0.0  1122811.0   \n",
      "75295                        Expo Attendee (uncredited)     1.0  1205141.0   \n",
      "75296                  Stark Expo Attendee (uncredited)     0.0  1429470.0   \n",
      "\n",
      "                         name  \n",
      "75182           Mickey Rourke  \n",
      "75183      Scarlett Johansson  \n",
      "75184            Sam Rockwell  \n",
      "75185       Samuel L. Jackson  \n",
      "75186         Gwyneth Paltrow  \n",
      "...                       ...  \n",
      "75292    Michael A. Templeton  \n",
      "75293             Rosa Tyabji  \n",
      "75294  Peter Sebastian Wrobel  \n",
      "75295          Maria Zambrana  \n",
      "75296       Nick W. Nicholson  \n",
      "\n",
      "[115 rows x 10 columns]\n"
     ]
    }
   ],
   "source": [
    "#ensure you get Iron Man 1 cast\n",
    "iron_2_actors_v2 = iron_2_actors_v1[iron_2_actors_v1['id_mov']==10138]\n",
    "print(iron_2_actors_v2)"
   ]
  },
  {
   "cell_type": "code",
   "execution_count": 47,
   "metadata": {},
   "outputs": [
    {
     "name": "stdout",
     "output_type": "stream",
     "text": [
      "                                              character       id  \\\n",
      "75182                             Ivan Vanko / Whiplash     2295   \n",
      "75183  Natalie Rushman / Natasha Romanoff / Black Widow     1245   \n",
      "75184                                     Justin Hammer     6807   \n",
      "75185                                Director Nick Fury     2231   \n",
      "75186                           Virginia \"Pepper\" Potts    12052   \n",
      "...                                                 ...      ...   \n",
      "75292                           US Senator (uncredited)  1265840   \n",
      "75293                           Background (uncredited)  1265841   \n",
      "75294                     Tony Stark Usher (uncredited)  1122811   \n",
      "75295                        Expo Attendee (uncredited)  1205141   \n",
      "75296                  Stark Expo Attendee (uncredited)  1429470   \n",
      "\n",
      "                         name  \n",
      "75182           Mickey Rourke  \n",
      "75183      Scarlett Johansson  \n",
      "75184            Sam Rockwell  \n",
      "75185       Samuel L. Jackson  \n",
      "75186         Gwyneth Paltrow  \n",
      "...                       ...  \n",
      "75292    Michael A. Templeton  \n",
      "75293             Rosa Tyabji  \n",
      "75294  Peter Sebastian Wrobel  \n",
      "75295          Maria Zambrana  \n",
      "75296       Nick W. Nicholson  \n",
      "\n",
      "[115 rows x 3 columns]\n"
     ]
    }
   ],
   "source": [
    "# drop un-needed columns\n",
    "iron_2_actors = iron_2_actors_v2.drop(columns=['id_mov', 'title', 'popularity', 'release_date', 'movie_id', \\\n",
    "                                              'gender', 'cast_id'])\n",
    "#rename id_cast to id\n",
    "iron_2_actors = iron_2_actors.rename(columns = {'id_cast' : 'id'})\n",
    "\n",
    "#convert id from float to int values\n",
    "iron_2_actors['id'] = iron_2_actors['id'].astype(int)\n",
    "\n",
    "#print\n",
    "print(iron_2_actors)"
   ]
  },
  {
   "cell_type": "code",
   "execution_count": 48,
   "metadata": {},
   "outputs": [
    {
     "name": "stdout",
     "output_type": "stream",
     "text": [
      "                                    character_1      id           name_1  \\\n",
      "0                                        Yinsen   17857       Shaun Toub   \n",
      "2                   Obadiah Stane / Iron Monger    1229     Jeff Bridges   \n",
      "3  Lt. Col. James \"Rhodey\" Rhodes / War Machine   18288  Terrence Howard   \n",
      "5                                          Raza   57452      Faran Tahir   \n",
      "8                                    Abu Bakaar  173810    Sayed Badreya   \n",
      "\n",
      "  character_2 name_2  \n",
      "0         NaN    NaN  \n",
      "2         NaN    NaN  \n",
      "3         NaN    NaN  \n",
      "5         NaN    NaN  \n",
      "8         NaN    NaN  \n"
     ]
    }
   ],
   "source": [
    "# Merge iron_1_actors to iron_2_actors on id with outer join using suffixes ('_1','_2')\n",
    "iron_1_and_2 = iron_1_actors.merge(iron_2_actors,\n",
    "                                     on = 'id',\n",
    "                                     how = 'outer',\n",
    "                                     suffixes= ('_1','_2'))\n",
    "\n",
    "# Create an index that returns true if name_1 or name_2 are null\n",
    "m = ((iron_1_and_2['name_1'].isnull()) | \n",
    "     (iron_1_and_2['name_2'].isnull()))\n",
    "\n",
    "# Print the first few rows of iron_1_and_2\n",
    "print(iron_1_and_2[m].head())"
   ]
  },
  {
   "cell_type": "markdown",
   "metadata": {},
   "source": [
    "### Self join\n",
    "Merging a table to itself can be useful when you want to compare values in a column to other values in the same column. In this exercise, you will practice this by creating a table that for each movie will list the movie director and a member of the crew on one row. You have been given a table called crews, which has columns id, job, and name. First, merge the table to itself using the movie ID. This merge will give you a larger table where for each movie, every job is matched against each other. Then select only those rows with a director in the left table, and avoid having a row where the director's job is listed in both the left and right tables. This filtering will remove job combinations that aren't with the director.\n",
    "\n"
   ]
  },
  {
   "cell_type": "code",
   "execution_count": 49,
   "metadata": {},
   "outputs": [
    {
     "name": "stdout",
     "output_type": "stream",
     "text": [
      "      id  department             job               name\n",
      "0  19995     Editing          Editor  Stephen E. Rivkin\n",
      "2  19995       Sound  Sound Designer  Christopher Boyes\n",
      "4  19995  Production         Casting          Mali Finn\n",
      "6  19995   Directing        Director      James Cameron\n",
      "7  19995     Writing          Writer      James Cameron\n"
     ]
    }
   ],
   "source": [
    "#import crews pickle file\n",
    "crews = pd.read_pickle('crews.p')\n",
    "print(crews.head())"
   ]
  },
  {
   "cell_type": "code",
   "execution_count": 50,
   "metadata": {},
   "outputs": [
    {
     "name": "stdout",
     "output_type": "stream",
     "text": [
      "      id department_dir job_dir           name_dir department_crew  \\\n",
      "0  19995        Editing  Editor  Stephen E. Rivkin         Editing   \n",
      "1  19995        Editing  Editor  Stephen E. Rivkin           Sound   \n",
      "2  19995        Editing  Editor  Stephen E. Rivkin      Production   \n",
      "3  19995        Editing  Editor  Stephen E. Rivkin       Directing   \n",
      "4  19995        Editing  Editor  Stephen E. Rivkin         Writing   \n",
      "\n",
      "         job_crew          name_crew  \n",
      "0          Editor  Stephen E. Rivkin  \n",
      "1  Sound Designer  Christopher Boyes  \n",
      "2         Casting          Mali Finn  \n",
      "3        Director      James Cameron  \n",
      "4          Writer      James Cameron  \n"
     ]
    }
   ],
   "source": [
    "# To a variable called crews_self_merged, merge the crews table to itself on the id column using an inner join, setting the suffixes to '_dir' and '_crew' \n",
    "#for the left and right tables respectively.\n",
    "crews_self_merged = crews.merge(crews, on = 'id', how = 'inner', \\\n",
    "                               suffixes = ['_dir', '_crew'])\n",
    "\n",
    "print(crews_self_merged.head())"
   ]
  },
  {
   "cell_type": "code",
   "execution_count": 51,
   "metadata": {},
   "outputs": [
    {
     "name": "stdout",
     "output_type": "stream",
     "text": [
      "        id department_dir   job_dir       name_dir department_crew  \\\n",
      "156  19995      Directing  Director  James Cameron         Editing   \n",
      "157  19995      Directing  Director  James Cameron           Sound   \n",
      "158  19995      Directing  Director  James Cameron      Production   \n",
      "160  19995      Directing  Director  James Cameron         Writing   \n",
      "161  19995      Directing  Director  James Cameron             Art   \n",
      "\n",
      "           job_crew          name_crew  \n",
      "156          Editor  Stephen E. Rivkin  \n",
      "157  Sound Designer  Christopher Boyes  \n",
      "158         Casting          Mali Finn  \n",
      "160          Writer      James Cameron  \n",
      "161    Set Designer    Richard F. Mays  \n"
     ]
    }
   ],
   "source": [
    "# Create a Boolean index, named boolean_filter, that selects rows from the left table with the job of 'Director' and avoids rows with the job of 'Director' in the right table.\n",
    "boolean_filter = ((crews_self_merged['job_dir'] == 'Director') & \n",
    "     (crews_self_merged['job_crew'] != 'Director'))\n",
    "\n",
    "direct_crews = crews_self_merged[boolean_filter]\n",
    "\n",
    "#print\n",
    "print(direct_crews.head())"
   ]
  },
  {
   "cell_type": "markdown",
   "metadata": {},
   "source": [
    "### How does pandas handle self joins?\n",
    "\n",
    "- You can merge a table to itself with a right join.\n",
    "- Merging a table to itself can allow you to compare values in a column to other values in the same column.\n",
    "- Merging a table to itself is like working with two separate tables."
   ]
  },
  {
   "cell_type": "markdown",
   "metadata": {},
   "source": [
    "### Index merge for movie ratings\n",
    "To practice merging on indexes, you will merge movies and a table called ratings that holds info about movie ratings. Make sure your merge returns all of the rows from the movies table and not all the rows of ratings table need to be included in the result.\n"
   ]
  },
  {
   "cell_type": "code",
   "execution_count": 52,
   "metadata": {},
   "outputs": [
    {
     "name": "stdout",
     "output_type": "stream",
     "text": [
      "       id  vote_average  vote_count\n",
      "0   19995           7.2     11800.0\n",
      "1     285           6.9      4500.0\n",
      "2  206647           6.3      4466.0\n",
      "3   49026           7.6      9106.0\n",
      "4   49529           6.1      2124.0\n"
     ]
    }
   ],
   "source": [
    "#import ratings pickle\n",
    "ratings = pd.read_pickle('ratings.p')\n",
    "\n",
    "print(ratings.head())"
   ]
  },
  {
   "cell_type": "code",
   "execution_count": 53,
   "metadata": {},
   "outputs": [
    {
     "name": "stdout",
     "output_type": "stream",
     "text": [
      "      id                 title  popularity release_date\n",
      "0    257          Oliver Twist   20.415572   2005-09-23\n",
      "1  14290  Better Luck Tomorrow    3.877036   2002-01-12\n",
      "2  38365             Grown Ups   38.864027   2010-06-24\n",
      "3   9672              Infamous    3.680896   2006-11-16\n",
      "4  12819       Alpha and Omega   12.300789   2010-09-17\n"
     ]
    }
   ],
   "source": [
    "print(movies.head())"
   ]
  },
  {
   "cell_type": "code",
   "execution_count": 54,
   "metadata": {},
   "outputs": [
    {
     "name": "stdout",
     "output_type": "stream",
     "text": [
      "      id                 title  popularity release_date  vote_average  \\\n",
      "0    257          Oliver Twist   20.415572   2005-09-23           6.7   \n",
      "1  14290  Better Luck Tomorrow    3.877036   2002-01-12           6.5   \n",
      "2  38365             Grown Ups   38.864027   2010-06-24           6.0   \n",
      "3   9672              Infamous    3.680896   2006-11-16           6.4   \n",
      "4  12819       Alpha and Omega   12.300789   2010-09-17           5.3   \n",
      "\n",
      "   vote_count  \n",
      "0       274.0  \n",
      "1        27.0  \n",
      "2      1705.0  \n",
      "3        60.0  \n",
      "4       124.0  \n"
     ]
    }
   ],
   "source": [
    "# Merge to the movies table the ratings table on the index\n",
    "movies_ratings = movies.merge(ratings, on = 'id', how = 'left')\n",
    "\n",
    "# Print the first few rows of movies_ratings\n",
    "print(movies_ratings.head())"
   ]
  },
  {
   "cell_type": "markdown",
   "metadata": {},
   "source": [
    "### Do sequels earn more?\n",
    "It is time to put together many of the aspects that you have learned in this chapter. In this exercise, you'll find out which movie sequels earned the most compared to the original movie. To answer this question, you will merge a modified version of the sequels and financials tables where their index is the movie ID. You will need to choose a merge type that will return all of the rows from the sequels table and not all the rows of financials table need to be included in the result. From there, you will join the resulting table to itself so that you can compare the revenue values of the original movie to the sequel. Next, you will calculate the difference between the two revenues and sort the resulting dataset."
   ]
  },
  {
   "cell_type": "code",
   "execution_count": 55,
   "metadata": {},
   "outputs": [
    {
     "name": "stdout",
     "output_type": "stream",
     "text": [
      "      id         title  sequel\n",
      "0  19995        Avatar    <NA>\n",
      "1    862     Toy Story     863\n",
      "2    863   Toy Story 2   10193\n",
      "3    597       Titanic    <NA>\n",
      "4  24428  The Avengers    <NA>\n"
     ]
    }
   ],
   "source": [
    "# import sequels.pd\n",
    "sequels = pd.read_pickle('sequels.p')\n",
    "print(sequels.head())"
   ]
  },
  {
   "cell_type": "code",
   "execution_count": 56,
   "metadata": {},
   "outputs": [
    {
     "name": "stdout",
     "output_type": "stream",
     "text": [
      "            title_org        title_seq          diff\n",
      "28  Jurassic Park III   Jurassic World  1.144748e+09\n",
      "26      Batman Begins  The Dark Knight  6.303398e+08\n",
      "11         Iron Man 2       Iron Man 3  5.915067e+08\n",
      "1         Toy Story 2      Toy Story 3  5.696028e+08\n",
      "14  Quantum of Solace          Skyfall  5.224703e+08\n"
     ]
    }
   ],
   "source": [
    "# Merge sequels and financials on index id\n",
    "sequels_fin = sequels.merge(financials, on='id', how='left')\n",
    "\n",
    "# Self merge with suffixes as inner join with left on sequel and right on id\n",
    "# suffixes as _ord and_seq - note right_idex = True will not accept! hence we have incorrect index in print\n",
    "# <string>:1: FutureWarning: In a future version, the Index constructor will not infer numeric dtypes when passed object-dtype sequences (matching Series behavior)\n",
    "orig_seq = sequels_fin.merge(sequels_fin, left_on='sequel', \n",
    "                             right_on='id', how='inner', right_index = False,\n",
    "                             suffixes=('_org','_seq'))\n",
    "\n",
    "# Add calculation to subtract revenue_org from revenue_seq \n",
    "orig_seq['diff'] = orig_seq['revenue_seq'] - orig_seq['revenue_org']\n",
    "\n",
    "# Select the title_org, title_seq, and diff \n",
    "titles_diff = orig_seq[['title_org','title_seq','diff']]\n",
    "\n",
    "# Print the first rows of the sorted titles_diff\n",
    "print(titles_diff.sort_values('diff', ascending = False).head())"
   ]
  },
  {
   "cell_type": "markdown",
   "metadata": {},
   "source": [
    "## 3. Advanced Merging and Concatinating"
   ]
  },
  {
   "cell_type": "markdown",
   "metadata": {},
   "source": [
    "### Steps of a semi join\n",
    "\n",
    "- merge left and right tables on key column using inner join\n",
    "- search if the key column in left table is in merged tables using .isin() method creating boolean series\n",
    "- subset rows of left table"
   ]
  },
  {
   "cell_type": "markdown",
   "metadata": {},
   "source": [
    "### Performing an anti join\n",
    "In our music streaming company dataset, each customer is assigned an employee representative to assist them. In this exercise, filter the employee table by a table of top customers, returning only those employees who are not assigned to a customer. The results should resemble the results of an anti join. The company's leadership will assign these employees additional training so that they can work with high valued customers."
   ]
  },
  {
   "cell_type": "code",
   "execution_count": 57,
   "metadata": {},
   "outputs": [
    {
     "name": "stdout",
     "output_type": "stream",
     "text": [
      "   cid  srid      fname        lname           phone            fax  \\\n",
      "0    1     3       Luís    Gonçalves  +123923-555555    +1239235566   \n",
      "1    2     5     Leonie       Köhler   +497112842222            NaN   \n",
      "2    3     3   François     Tremblay  +1-514721-4711            NaN   \n",
      "3    4     4      Bjørn       Hansen     +2244222222            NaN   \n",
      "4    5     4  František  Wichterlová      +241725555  +420241725555   \n",
      "\n",
      "                      email  \n",
      "0      luisg@embraer.com.br  \n",
      "1     leonekohler@surfeu.de  \n",
      "2       ftremblay@gmail.com  \n",
      "3     bjorn.hansen@yahoo.no  \n",
      "4  frantisekw@jetbrains.com  \n"
     ]
    }
   ],
   "source": [
    "#import top customers xlsx file\n",
    "top_cust = pd.read_excel('top_cust.xlsx')\n",
    "print(top_cust.head())"
   ]
  },
  {
   "cell_type": "code",
   "execution_count": 58,
   "metadata": {},
   "outputs": [
    {
     "name": "stdout",
     "output_type": "stream",
     "text": [
      "   srid     lname     fname                title  hire_date  \\\n",
      "0     1     Adams    Andrew     General Manager  2002-08-14   \n",
      "1     2   Edwards     Nancy       Sales Manager  2002-05-01   \n",
      "2     3   Peacock      Jane  Sales Support Agent 2002-04-01   \n",
      "3     4      Park  Margaret  Sales Support Agent 2003-05-03   \n",
      "4     5   Johnson     Steve  Sales Support Agent 2003-10-17   \n",
      "5     6  Mitchell   Michael          IT Manager  2003-10-17   \n",
      "6     7      King    Robert            IT Staff  2004-01-02   \n",
      "7     8  Callahan     Laura            IT Staff  2004-03-04   \n",
      "\n",
      "                      email  \n",
      "0    andrew@chinookcorp.com  \n",
      "1     nancy@chinookcorp.com  \n",
      "2      jane@chinookcorp.com  \n",
      "3  margaret@chinookcorp.com  \n",
      "4     steve@chinookcorp.com  \n",
      "5   michael@chinookcorp.com  \n",
      "6    robert@chinookcorp.com  \n",
      "7     laura@chinookcorp.com  \n"
     ]
    }
   ],
   "source": [
    "#import employees xlsx file\n",
    "employees = pd.read_excel('employees.xlsx')\n",
    "print(employees)"
   ]
  },
  {
   "cell_type": "code",
   "execution_count": 59,
   "metadata": {},
   "outputs": [
    {
     "name": "stdout",
     "output_type": "stream",
     "text": [
      "   srid     lname    fname             title  hire_date  \\\n",
      "0     1     Adams   Andrew  General Manager  2002-08-14   \n",
      "1     2   Edwards    Nancy    Sales Manager  2002-05-01   \n",
      "5     6  Mitchell  Michael       IT Manager  2003-10-17   \n",
      "6     7      King   Robert         IT Staff  2004-01-02   \n",
      "7     8  Callahan    Laura         IT Staff  2004-03-04   \n",
      "\n",
      "                     email  \n",
      "0   andrew@chinookcorp.com  \n",
      "1    nancy@chinookcorp.com  \n",
      "5  michael@chinookcorp.com  \n",
      "6   robert@chinookcorp.com  \n",
      "7    laura@chinookcorp.com  \n"
     ]
    }
   ],
   "source": [
    "# Merge employees and top_cust with a left join, setting indicator argument to True. Save the result to empl_cust.\n",
    "empl_cust = employees.merge(top_cust, on='srid', \n",
    "                            how='left', indicator=True)\n",
    "\n",
    "# Select the srid column of empl_cust and the rows where _merge is 'left_only'. Save the result to srid_list.\n",
    "srid_list = empl_cust.loc[empl_cust['_merge']=='left_only', 'srid']\n",
    "\n",
    "#Subset the employees table and select those rows where the srid is in the variable srid_list and print the results.\n",
    "print(employees[employees['srid'].isin(srid_list)])\n"
   ]
  },
  {
   "cell_type": "markdown",
   "metadata": {},
   "source": [
    "### Performing a semi join\n",
    "Some of the tracks that have generated the most significant amount of revenue are from TV-shows or are other non-musical audio. You have been given a table of invoices that include top revenue-generating items. Additionally, you have a table of non-musical tracks from the streaming service. In this exercise, you'll use a semi join to find the top revenue-generating non-musical tracks..\n",
    "\n"
   ]
  },
  {
   "cell_type": "code",
   "execution_count": 60,
   "metadata": {},
   "outputs": [],
   "source": [
    "# cannot replicate non_mus_tcks table hence commented\n",
    "\n",
    "# # >>> Merge the non_mus_tck and top_invoices tables on tid\n",
    "# tracks_invoices = non_mus_tcks.merge(top_invoices, on='tid', how='inner')\n",
    "# \n",
    "# # >>> Use .isin() to subset non_mus_tcks to rows with tid in tracks_invoices\n",
    "# top_tracks = non_mus_tcks[non_mus_tcks['tid'].isin(tracks_invoices['tid'])]\n",
    "# \n",
    "# # >>> Group the top_tracks by gid and count the tid rows\n",
    "# cnt_by_gid = top_tracks.groupby(['gid'], as_index=False).agg({'tid':'count'})\n",
    "# \n",
    "# # >>> Merge the genres table to cnt_by_gid on gid and print\n",
    "# print(cnt_by_gid.merge(genres, on = 'gid'))"
   ]
  },
  {
   "cell_type": "markdown",
   "metadata": {},
   "source": [
    "### Concatenation basics\n",
    "You have been given a few tables of data with musical track info for different albums from the metal band, Metallica. The track info comes from their Ride The Lightning, Master Of Puppets, and St. Anger albums. Try various features of the .concat() method by concatenating the tables vertically together in different ways.\n",
    "\n"
   ]
  },
  {
   "cell_type": "code",
   "execution_count": 61,
   "metadata": {},
   "outputs": [],
   "source": [
    "#import datasets\n",
    "tracks_master = pd.read_excel('tracks_master.xlsx')\n",
    "tracks_ride = pd.read_excel('tracks_ride.xlsx')\n",
    "tracks_st = pd.read_excel('tracks_st.xlsx')"
   ]
  },
  {
   "cell_type": "code",
   "execution_count": 62,
   "metadata": {},
   "outputs": [
    {
     "name": "stdout",
     "output_type": "stream",
     "text": [
      "   Unnamed: 0  aid             composer  gid  mtid                     name  \\\n",
      "0           0  152  J.Hetfield/L.Ulrich    3     1                  Battery   \n",
      "1           1  152            K.Hammett    3     1        Master Of Puppets   \n",
      "2           4  152  J.Hetfield/L.Ulrich    3     1        Disposable Heroes   \n",
      "0           0  154                  NaN    3     1     Fight Fire With Fire   \n",
      "1           1  154                  NaN    3     1       Ride The Lightning   \n",
      "2           2  154                  NaN    3     1  For Whom the Bell Tolls   \n",
      "3           3  154                  NaN    3     1            Fade To Black   \n",
      "4           4  154                  NaN    3     1        Trapped Under Ice   \n",
      "0           0  155                  NaN    3     1                  Frantic   \n",
      "1           1  155                  NaN    3     1                St. Anger   \n",
      "2           2  155                  NaN    3     1     Some Kind Of Monster   \n",
      "3           3  155                  NaN    3     1             Dirty Window   \n",
      "4           4  155                  NaN    3     1            Invisible Kid   \n",
      "\n",
      "    tid  u_price  \n",
      "0  1853     0.99  \n",
      "1  1854     0.99  \n",
      "2  1857     0.99  \n",
      "0  1874     0.99  \n",
      "1  1875     0.99  \n",
      "2  1876     0.99  \n",
      "3  1877     0.99  \n",
      "4  1878     0.99  \n",
      "0  1882     0.99  \n",
      "1  1883     0.99  \n",
      "2  1884     0.99  \n",
      "3  1885     0.99  \n",
      "4  1886     0.99  \n"
     ]
    }
   ],
   "source": [
    "# Concatenate tracks_master, tracks_ride, and tracks_st, in that order, setting sort to True.\n",
    "tracks_from_albums = pd.concat([tracks_master, tracks_ride, tracks_st],\n",
    "                               sort=True)\n",
    "print(tracks_from_albums)"
   ]
  },
  {
   "cell_type": "code",
   "execution_count": 63,
   "metadata": {},
   "outputs": [
    {
     "name": "stdout",
     "output_type": "stream",
     "text": [
      "    Unnamed: 0  aid             composer  gid  mtid                     name  \\\n",
      "0            0  152  J.Hetfield/L.Ulrich    3     1                  Battery   \n",
      "1            1  152            K.Hammett    3     1        Master Of Puppets   \n",
      "2            4  152  J.Hetfield/L.Ulrich    3     1        Disposable Heroes   \n",
      "3            0  154                  NaN    3     1     Fight Fire With Fire   \n",
      "4            1  154                  NaN    3     1       Ride The Lightning   \n",
      "5            2  154                  NaN    3     1  For Whom the Bell Tolls   \n",
      "6            3  154                  NaN    3     1            Fade To Black   \n",
      "7            4  154                  NaN    3     1        Trapped Under Ice   \n",
      "8            0  155                  NaN    3     1                  Frantic   \n",
      "9            1  155                  NaN    3     1                St. Anger   \n",
      "10           2  155                  NaN    3     1     Some Kind Of Monster   \n",
      "11           3  155                  NaN    3     1             Dirty Window   \n",
      "12           4  155                  NaN    3     1            Invisible Kid   \n",
      "\n",
      "     tid  u_price  \n",
      "0   1853     0.99  \n",
      "1   1854     0.99  \n",
      "2   1857     0.99  \n",
      "3   1874     0.99  \n",
      "4   1875     0.99  \n",
      "5   1876     0.99  \n",
      "6   1877     0.99  \n",
      "7   1878     0.99  \n",
      "8   1882     0.99  \n",
      "9   1883     0.99  \n",
      "10  1884     0.99  \n",
      "11  1885     0.99  \n",
      "12  1886     0.99  \n"
     ]
    }
   ],
   "source": [
    "# Concatenate the tracks so the index goes from 0 to n-1\n",
    "tracks_from_albums = pd.concat([tracks_master, tracks_ride, tracks_st],\n",
    "                               ignore_index=True,\n",
    "                               sort=True)\n",
    "print(tracks_from_albums)"
   ]
  },
  {
   "cell_type": "code",
   "execution_count": 64,
   "metadata": {},
   "outputs": [
    {
     "name": "stdout",
     "output_type": "stream",
     "text": [
      "   Unnamed: 0  aid  gid  mtid                     name   tid  u_price\n",
      "0           0  152    3     1                  Battery  1853     0.99\n",
      "1           1  152    3     1        Master Of Puppets  1854     0.99\n",
      "2           4  152    3     1        Disposable Heroes  1857     0.99\n",
      "0           0  154    3     1     Fight Fire With Fire  1874     0.99\n",
      "1           1  154    3     1       Ride The Lightning  1875     0.99\n",
      "2           2  154    3     1  For Whom the Bell Tolls  1876     0.99\n",
      "3           3  154    3     1            Fade To Black  1877     0.99\n",
      "4           4  154    3     1        Trapped Under Ice  1878     0.99\n",
      "0           0  155    3     1                  Frantic  1882     0.99\n",
      "1           1  155    3     1                St. Anger  1883     0.99\n",
      "2           2  155    3     1     Some Kind Of Monster  1884     0.99\n",
      "3           3  155    3     1             Dirty Window  1885     0.99\n",
      "4           4  155    3     1            Invisible Kid  1886     0.99\n"
     ]
    }
   ],
   "source": [
    "# Concatenate the tracks, show only columns names that are in all tables\n",
    "tracks_from_albums = pd.concat([tracks_master, tracks_ride, tracks_st],\n",
    "                               join = 'inner',\n",
    "                               sort=True)\n",
    "print(tracks_from_albums)"
   ]
  },
  {
   "cell_type": "markdown",
   "metadata": {},
   "source": [
    "### Concatenating with keys\n",
    "The leadership of the music streaming company has come to you and asked you for assistance in analyzing sales for a recent business quarter. They would like to know which month in the quarter saw the highest average invoice total. You have been given three tables with invoice data named inv_jul, inv_aug, and inv_sep. Concatenate these tables into one to create a graph of the average monthly invoice total.\n",
    "\n"
   ]
  },
  {
   "cell_type": "code",
   "execution_count": 65,
   "metadata": {},
   "outputs": [
    {
     "name": "stdout",
     "output_type": "stream",
     "text": [
      "Unnamed: 0\n",
      "iid\n",
      "cid\n",
      "invoice_date\n",
      "total\n",
      "bill_ctry\n"
     ]
    }
   ],
   "source": [
    "#import datasets\n",
    "inv_jul = pd.read_excel('inv_jul.xlsx')\n",
    "inv_aug = pd.read_excel('inv_aug.xlsx')\n",
    "inv_sep = pd.read_excel('inv_sep.xlsx')\n",
    "\n",
    "#check columns of df\n",
    "for cols in inv_jul:\n",
    "    print(cols)"
   ]
  },
  {
   "cell_type": "code",
   "execution_count": 66,
   "metadata": {},
   "outputs": [
    {
     "name": "stdout",
     "output_type": "stream",
     "text": [
      "   Unnamed: 0  iid  cid invoice_date  total       bill_ctry\n",
      "0           0   42   51   2009-07-06   1.98          Sweden\n",
      "1           1   43   53   2009-07-06   1.98              UK\n",
      "2           2   44   55   2009-07-07   3.96       Australia\n",
      "3           3   45   59   2009-07-08   5.94           India\n",
      "4           4   46    6   2009-07-11   8.91  Czech Republic\n"
     ]
    }
   ],
   "source": [
    "print(inv_jul.head())"
   ]
  },
  {
   "cell_type": "code",
   "execution_count": 67,
   "metadata": {},
   "outputs": [
    {
     "data": {
      "image/png": "[encoded data removed]",
      "text/plain": [
       "<Figure size 432x288 with 1 Axes>"
      ]
     },
     "metadata": {
      "needs_background": "light"
     },
     "output_type": "display_data"
    }
   ],
   "source": [
    "# Concatenate the three tables together vertically in order with the oldest month first, adding '7Jul', '8Aug', and '9Sep' as keys for their respective months, and save to variable avg_inv_by_month.\n",
    "inv_jul_thr_sep = pd.concat([inv_jul, inv_aug, inv_sep], \n",
    "                            keys=['7Jul','8Aug','9Sep'])\n",
    "\n",
    "# Group the invoices by the index keys and find avg of the total column\n",
    "avg_inv_by_month = inv_jul_thr_sep.groupby(level=0).agg({'total': 'mean'})\n",
    "\n",
    "# Bar plot of avg_inv_by_month\n",
    "avg_inv_by_month.plot(kind='bar')\n",
    "plt.show()"
   ]
  },
  {
   "cell_type": "markdown",
   "metadata": {},
   "source": [
    "### Validating a merge\n",
    "You have been given 2 tables, artists, and albums. Use the IPython shell to merge them using artists.merge(albums, on='artid').head(). \n",
    "\n",
    "What is True:\n",
    "\n",
    "- You can use one-to-many without error since there is a duplicate key in the right table\n",
    "- You can use many-to-many wihtout error since there is a duplicate key in one of the tables"
   ]
  },
  {
   "cell_type": "markdown",
   "metadata": {},
   "source": [
    "### Concatenate and merge to find common songs\n",
    "The senior leadership of the streaming service is requesting your help again. You are given the historical files for a popular playlist in the classical music genre in 2018 and 2019. Additionally, you are given a similar set of files for the most popular pop music genre playlist on the streaming service in 2018 and 2019. Your goal is to concatenate the respective files to make a large classical playlist table and overall popular music table. Then filter the classical music table using a semi join to return only the most popular classical music tracks.\n"
   ]
  },
  {
   "cell_type": "code",
   "execution_count": 68,
   "metadata": {},
   "outputs": [],
   "source": [
    "#import datasets\n",
    "pop_18 = pd.read_excel('pop_18.xlsx')\n",
    "pop_19 = pd.read_excel('pop_19.xlsx')\n",
    "classic_18 = pd.read_excel('classic_18.xlsx')\n",
    "classic_19 = pd.read_excel('classic_19.xlsx')"
   ]
  },
  {
   "cell_type": "code",
   "execution_count": 69,
   "metadata": {},
   "outputs": [
    {
     "name": "stdout",
     "output_type": "stream",
     "text": [
      "    Unnamed: 0  pid   tid\n",
      "7         8535   12  3491\n",
      "22        8539   12  3495\n",
      "23        8567   12  3449\n",
      "27        8566   12  3448\n",
      "44        8561   12  3443\n",
      "47        8538   12  3494\n",
      "49        8590   12  3420\n"
     ]
    }
   ],
   "source": [
    "# Concatenate the classic tables vertically\n",
    "classic_18_19 = pd.concat([classic_18, classic_19],\n",
    "                         ignore_index=True,\n",
    "                               sort=True)\n",
    "\n",
    "# Concatenate the pop tables vertically\n",
    "pop_18_19 = pd.concat([pop_18, pop_19],\n",
    "                         ignore_index=True,\n",
    "                               sort=True)\n",
    "\n",
    "# With classic_18_19 on the left, merge it with pop_18_19 on tid using an inner join.\n",
    "classic_pop = classic_18_19.merge(pop_18_19, on = 'tid', how='inner')\n",
    "\n",
    "# Using .isin(), filter classic_18_19 rows where tid is in classic_pop\n",
    "popular_classic = classic_18_19[classic_18_19['tid'].isin(classic_pop['tid'])]\n",
    "\n",
    "# Print popular chart\n",
    "print(popular_classic)"
   ]
  },
  {
   "cell_type": "markdown",
   "metadata": {},
   "source": [
    "## 4. Merging Ordered and Time-Series Data\n"
   ]
  },
  {
   "cell_type": "markdown",
   "metadata": {},
   "source": [
    "### Correlation between GDP and S&P500\n",
    "In this exercise, you want to analyze stock returns from the S&P 500. You believe there may be a relationship between the returns of the S&P 500 and the GDP of the US. Merge the different datasets together to compute the correlation."
   ]
  },
  {
   "cell_type": "code",
   "execution_count": 70,
   "metadata": {},
   "outputs": [],
   "source": [
    "#import datasets gdp and sp500\n",
    "sp500 = pd.read_excel('sp500.xlsx')\n",
    "gdp = pd.read_excel('gdp.xlsx')"
   ]
  },
  {
   "cell_type": "code",
   "execution_count": 71,
   "metadata": {},
   "outputs": [
    {
     "name": "stdout",
     "output_type": "stream",
     "text": [
      "  country code  year             gdp    date  returns  date.1  returns.1\n",
      "0          USA  2010  14990000000000  2010.0    12.78    2008     -38.49\n",
      "1          USA  2011  15540000000000  2011.0     0.00    2009      23.45\n",
      "2          USA  2012  16200000000000  2012.0    13.41    2010      12.78\n",
      "3          USA  2012  16200000000000  2012.0    13.41    2011       0.00\n",
      "4          USA  2013  16780000000000  2013.0    29.60    2012      13.41\n"
     ]
    }
   ],
   "source": [
    "print(sp500.head())"
   ]
  },
  {
   "cell_type": "code",
   "execution_count": 72,
   "metadata": {},
   "outputs": [
    {
     "name": "stdout",
     "output_type": "stream",
     "text": [
      "    Unnamed: 0 country code_x  year_x           gdp_x country code_y  year_y  \\\n",
      "0            3            USA    2010  14990000000000            USA  2010.0   \n",
      "1            7            USA    2011  15540000000000            USA  2011.0   \n",
      "2           11            USA    2012  16200000000000            USA  2012.0   \n",
      "3           11            USA    2012  16200000000000            USA  2012.0   \n",
      "4           15            USA    2012  16200000000000            USA  2012.0   \n",
      "5           15            USA    2012  16200000000000            USA  2012.0   \n",
      "6           19            USA    2013  16780000000000            USA  2013.0   \n",
      "7           23            USA    2014  17520000000000            USA  2014.0   \n",
      "8           27            USA    2015  18220000000000            USA  2015.0   \n",
      "9           31            USA    2016  18710000000000            USA  2016.0   \n",
      "10          35            USA    2017  19490000000000            USA  2017.0   \n",
      "11          39            USA    2018  20490000000000            NaN     NaN   \n",
      "\n",
      "           gdp_y    date  returns  date.1  returns.1  \n",
      "0   1.499000e+13  2010.0    12.78  2008.0     -38.49  \n",
      "1   1.554000e+13  2011.0     0.00  2009.0      23.45  \n",
      "2   1.620000e+13  2012.0    13.41  2010.0      12.78  \n",
      "3   1.620000e+13  2012.0    13.41  2011.0       0.00  \n",
      "4   1.620000e+13  2012.0    13.41  2010.0      12.78  \n",
      "5   1.620000e+13  2012.0    13.41  2011.0       0.00  \n",
      "6   1.678000e+13  2013.0    29.60  2012.0      13.41  \n",
      "7   1.752000e+13  2014.0    11.39  2014.0      11.39  \n",
      "8   1.822000e+13  2015.0    -0.73  2015.0      -0.73  \n",
      "9   1.871000e+13  2016.0     9.54  2016.0       9.54  \n",
      "10  1.949000e+13  2017.0    19.42  2017.0      19.42  \n",
      "11           NaN     NaN      NaN     NaN        NaN  \n"
     ]
    }
   ],
   "source": [
    "# Use merge_ordered() to merge gdp and sp500 using a left join on year and date. Save the results as gdp_sp500.\n",
    "gdp_sp500 = pd.merge_ordered(gdp, sp500, left_on='year', right_on='date', \n",
    "                             how='left')\n",
    "\n",
    "# Print gdp_sp500\n",
    "print(gdp_sp500)"
   ]
  },
  {
   "cell_type": "code",
   "execution_count": 73,
   "metadata": {},
   "outputs": [
    {
     "name": "stdout",
     "output_type": "stream",
     "text": [
      "    Unnamed: 0 country code_x  year_x           gdp_x country code_y  year_y  \\\n",
      "0            3            USA    2010  14990000000000            USA    2010   \n",
      "1            7            USA    2011  15540000000000            USA    2011   \n",
      "2           11            USA    2012  16200000000000            USA    2012   \n",
      "3           11            USA    2012  16200000000000            USA    2012   \n",
      "4           15            USA    2012  16200000000000            USA    2012   \n",
      "5           15            USA    2012  16200000000000            USA    2012   \n",
      "6           19            USA    2013  16780000000000            USA    2013   \n",
      "7           23            USA    2014  17520000000000            USA    2014   \n",
      "8           27            USA    2015  18220000000000            USA    2015   \n",
      "9           31            USA    2016  18710000000000            USA    2016   \n",
      "10          35            USA    2017  19490000000000            USA    2017   \n",
      "11          39            USA    2018  20490000000000            USA    2017   \n",
      "\n",
      "             gdp_y    date  returns  date.1  returns.1  \n",
      "0   14990000000000  2010.0    12.78    2008     -38.49  \n",
      "1   15540000000000  2011.0     0.00    2009      23.45  \n",
      "2   16200000000000  2012.0    13.41    2010      12.78  \n",
      "3   16200000000000  2012.0    13.41    2011       0.00  \n",
      "4   16200000000000  2012.0    13.41    2010      12.78  \n",
      "5   16200000000000  2012.0    13.41    2011       0.00  \n",
      "6   16780000000000  2013.0    29.60    2012      13.41  \n",
      "7   17520000000000  2014.0    11.39    2014      11.39  \n",
      "8   18220000000000  2015.0    -0.73    2015      -0.73  \n",
      "9   18710000000000  2016.0     9.54    2016       9.54  \n",
      "10  19490000000000  2017.0    19.42    2017      19.42  \n",
      "11  19490000000000  2017.0    19.42    2017      19.42  \n"
     ]
    }
   ],
   "source": [
    "# Use merge_ordered() to merge gdp and sp500, interpolate missing value\n",
    "gdp_sp500 = pd.merge_ordered(gdp, sp500, left_on='year', right_on='date', \n",
    "                             how='left', fill_method = 'ffill')\n",
    "\n",
    "# Print gdp_sp500\n",
    "print (gdp_sp500)"
   ]
  },
  {
   "cell_type": "code",
   "execution_count": 74,
   "metadata": {},
   "outputs": [
    {
     "name": "stdout",
     "output_type": "stream",
     "text": [
      "            gdp_x   returns\n",
      "gdp_x    1.000000  0.195339\n",
      "returns  0.195339  1.000000\n"
     ]
    }
   ],
   "source": [
    "# Use merge_ordered() to merge gdp and sp500, interpolate missing value\n",
    "gdp_sp500 = pd.merge_ordered(gdp, sp500, left_on='year', right_on='date', \n",
    "                             how='left',  fill_method='ffill')\n",
    "\n",
    "# Subset the gdp and returns columns\n",
    "gdp_returns = gdp_sp500[['gdp_x', 'returns']]\n",
    "\n",
    "# Print gdp_returns correlation i.e. correlation matrix\n",
    "print (gdp_returns.corr())"
   ]
  },
  {
   "cell_type": "markdown",
   "metadata": {},
   "source": [
    "### Phillips curve using merge_ordered()\n",
    "There is an economic theory developed by A. W. Phillips which states that inflation and unemployment have an inverse relationship. The theory claims that with economic growth comes inflation, which in turn should lead to more jobs and less unemployment.\n",
    "\n",
    "You will take two tables of data from the U.S. Bureau of Labor Statistics, containing unemployment and inflation data over different periods, and create a Phillips curve. The tables have different frequencies. One table has a data entry every six months, while the other has a data entry every month. You will need to use the entries where you have data within both tables."
   ]
  },
  {
   "cell_type": "code",
   "execution_count": 75,
   "metadata": {},
   "outputs": [],
   "source": [
    "# import datasets unemployment and inflation\n",
    "unemployment = pd.read_excel('unemployment.xlsx')\n",
    "inflation = pd.read_excel('inflation.xlsx')"
   ]
  },
  {
   "cell_type": "code",
   "execution_count": 76,
   "metadata": {},
   "outputs": [
    {
     "name": "stdout",
     "output_type": "stream",
     "text": [
      "date\n",
      "unemployment_rate\n",
      "date\n",
      "cpi\n",
      "seriesid\n",
      "data_type\n"
     ]
    }
   ],
   "source": [
    "for col in unemployment:\n",
    "    print(col)\n",
    "\n",
    "for col in inflation:\n",
    "    print(col)"
   ]
  },
  {
   "cell_type": "code",
   "execution_count": 77,
   "metadata": {},
   "outputs": [
    {
     "name": "stdout",
     "output_type": "stream",
     "text": [
      "        date      cpi     seriesid                  data_type  \\\n",
      "0 2014-01-01  235.288  CUSR0000SA0  SEASONALLY ADJUSTED INDEX   \n",
      "1 2014-06-01  237.231  CUSR0000SA0  SEASONALLY ADJUSTED INDEX   \n",
      "2 2015-01-01  234.718  CUSR0000SA0  SEASONALLY ADJUSTED INDEX   \n",
      "3 2015-06-01  237.684  CUSR0000SA0  SEASONALLY ADJUSTED INDEX   \n",
      "4 2016-01-01  237.833  CUSR0000SA0  SEASONALLY ADJUSTED INDEX   \n",
      "5 2016-06-01  240.167  CUSR0000SA0  SEASONALLY ADJUSTED INDEX   \n",
      "6 2017-01-01  243.780  CUSR0000SA0  SEASONALLY ADJUSTED INDEX   \n",
      "7 2017-06-01  244.182  CUSR0000SA0  SEASONALLY ADJUSTED INDEX   \n",
      "8 2018-01-01  248.884  CUSR0000SA0  SEASONALLY ADJUSTED INDEX   \n",
      "9 2018-06-01  251.134  CUSR0000SA0  SEASONALLY ADJUSTED INDEX   \n",
      "\n",
      "   unemployment_rate  \n",
      "0                6.7  \n",
      "1                6.1  \n",
      "2                5.6  \n",
      "3                5.3  \n",
      "4                5.0  \n",
      "5                4.9  \n",
      "6                4.7  \n",
      "7                4.3  \n",
      "8                4.1  \n",
      "9                4.0  \n"
     ]
    },
    {
     "data": {
      "image/png": "[encoded data removed]",
      "text/plain": [
       "<Figure size 432x288 with 1 Axes>"
      ]
     },
     "metadata": {
      "needs_background": "light"
     },
     "output_type": "display_data"
    }
   ],
   "source": [
    "# Use merge_ordered() to merge inflation, unemployment with inner join\n",
    "inflation_unemploy = pd.merge_ordered(inflation, unemployment, on = 'date', how = 'inner')\n",
    "\n",
    "# Print inflation_unemploy \n",
    "print(inflation_unemploy)\n",
    "\n",
    "# Plot a scatter plot of unemployment_rate vs cpi of inflation_unemploy\n",
    "# note: CPI = consumer price index which measures inflation\n",
    "inflation_unemploy.plot(kind = 'scatter', x='unemployment_rate', y='cpi')\n",
    "plt.show()"
   ]
  },
  {
   "cell_type": "markdown",
   "metadata": {},
   "source": [
    "### merge_ordered() caution, multiple columns\n",
    "When using merge_ordered() to merge on multiple columns, the order is important when you combine it with the forward fill feature. The function sorts the merge on columns in the order provided. In this exercise, we will merge GDP and population data from the World Bank for the Australia and Sweden, reversing the order of the merge on columns. The frequency of the series are different, the GDP values are quarterly, and the population is yearly. Use the forward fill feature to fill in the missing data. Depending on the order provided, the fill forward will use unintended data to fill in the missing values."
   ]
  },
  {
   "cell_type": "code",
   "execution_count": 78,
   "metadata": {},
   "outputs": [],
   "source": [
    "#import datasets\n",
    "pop = pd.read_excel('pop.xlsx')\n",
    "gdp2 = pd.read_excel('gdp2.xlsx')"
   ]
  },
  {
   "cell_type": "code",
   "execution_count": 79,
   "metadata": {},
   "outputs": [
    {
     "name": "stdout",
     "output_type": "stream",
     "text": [
      "date\n",
      "country\n",
      "pop\n",
      "series_code\n",
      "date\n",
      "country\n",
      "gdp\n",
      "series_code\n"
     ]
    }
   ],
   "source": [
    "for col in pop:\n",
    "    print(col)\n",
    "for col in gdp2:\n",
    "    print(col)"
   ]
  },
  {
   "cell_type": "code",
   "execution_count": 80,
   "metadata": {},
   "outputs": [
    {
     "name": "stdout",
     "output_type": "stream",
     "text": [
      "         date    country         gdp  series_code_x       pop series_code_y\n",
      "0  1990-01-01  Australia  158051.132  NYGDPMKTPSAKD  17065100   SP.POP.TOTL\n",
      "1  1990-01-01     Sweden   79837.846  NYGDPMKTPSAKD   8558835   SP.POP.TOTL\n",
      "2  1990-04-01  Australia  158263.582  NYGDPMKTPSAKD   8558835   SP.POP.TOTL\n",
      "3  1990-04-01     Sweden   80582.286  NYGDPMKTPSAKD   8558835   SP.POP.TOTL\n",
      "4  1990-07-01  Australia  157329.279  NYGDPMKTPSAKD   8558835   SP.POP.TOTL\n",
      "5  1990-07-01     Sweden   79974.360  NYGDPMKTPSAKD   8558835   SP.POP.TOTL\n",
      "6  1990-09-01  Australia  158240.678  NYGDPMKTPSAKD   8558835   SP.POP.TOTL\n",
      "7  1990-09-01     Sweden   80106.497  NYGDPMKTPSAKD   8558835   SP.POP.TOTL\n",
      "8  1991-01-01  Australia  156195.954  NYGDPMKTPSAKD  17284000   SP.POP.TOTL\n",
      "9  1991-01-01     Sweden   79524.242  NYGDPMKTPSAKD   8617375   SP.POP.TOTL\n",
      "10 1991-04-01  Australia  155989.033  NYGDPMKTPSAKD   8617375   SP.POP.TOTL\n",
      "11 1991-04-01     Sweden   79073.059  NYGDPMKTPSAKD   8617375   SP.POP.TOTL\n",
      "12 1991-07-01  Australia  156635.858  NYGDPMKTPSAKD   8617375   SP.POP.TOTL\n",
      "13 1991-07-01     Sweden   79084.770  NYGDPMKTPSAKD   8617375   SP.POP.TOTL\n",
      "14 1991-09-01  Australia  156744.057  NYGDPMKTPSAKD   8617375   SP.POP.TOTL\n",
      "15 1991-09-01     Sweden   79740.606  NYGDPMKTPSAKD   8617375   SP.POP.TOTL\n",
      "16 1992-01-01  Australia  157916.081  NYGDPMKTPSAKD  17495000   SP.POP.TOTL\n",
      "17 1992-01-01     Sweden   79390.922  NYGDPMKTPSAKD   8668067   SP.POP.TOTL\n",
      "18 1992-04-01  Australia  159047.827  NYGDPMKTPSAKD   8668067   SP.POP.TOTL\n",
      "19 1992-04-01     Sweden   79060.283  NYGDPMKTPSAKD   8668067   SP.POP.TOTL\n",
      "20 1992-07-01  Australia  160658.176  NYGDPMKTPSAKD   8668067   SP.POP.TOTL\n",
      "21 1992-07-01     Sweden   78904.605  NYGDPMKTPSAKD   8668067   SP.POP.TOTL\n",
      "22 1992-09-01  Australia  163960.221  NYGDPMKTPSAKD   8668067   SP.POP.TOTL\n",
      "23 1992-09-01     Sweden   76996.837  NYGDPMKTPSAKD   8668067   SP.POP.TOTL\n",
      "24 1993-01-01  Australia  165097.495  NYGDPMKTPSAKD  17667000   SP.POP.TOTL\n",
      "25 1993-01-01     Sweden   75783.588  NYGDPMKTPSAKD   8718561   SP.POP.TOTL\n",
      "26 1993-04-01  Australia  166027.059  NYGDPMKTPSAKD   8718561   SP.POP.TOTL\n",
      "27 1993-04-01     Sweden   76708.548  NYGDPMKTPSAKD   8718561   SP.POP.TOTL\n",
      "28 1993-07-01  Australia  166203.179  NYGDPMKTPSAKD   8718561   SP.POP.TOTL\n",
      "29 1993-07-01     Sweden   77662.018  NYGDPMKTPSAKD   8718561   SP.POP.TOTL\n",
      "30 1993-09-01  Australia  169279.348  NYGDPMKTPSAKD   8718561   SP.POP.TOTL\n",
      "31 1993-09-01     Sweden   77703.304  NYGDPMKTPSAKD   8718561   SP.POP.TOTL\n"
     ]
    }
   ],
   "source": [
    "# Merge gdp and pop on date and country with fill and notice rows 2 and 3\n",
    "ctry_date = pd.merge_ordered(gdp2, pop, on = ['date', 'country'],\n",
    "                             fill_method='ffill')\n",
    "\n",
    "# Print ctry_date\n",
    "print(ctry_date)"
   ]
  },
  {
   "cell_type": "code",
   "execution_count": 81,
   "metadata": {},
   "outputs": [
    {
     "name": "stdout",
     "output_type": "stream",
     "text": [
      "         date    country         gdp  series_code_x       pop series_code_y\n",
      "0  1990-01-01  Australia  158051.132  NYGDPMKTPSAKD  17065100   SP.POP.TOTL\n",
      "1  1990-04-01  Australia  158263.582  NYGDPMKTPSAKD  17065100   SP.POP.TOTL\n",
      "2  1990-07-01  Australia  157329.279  NYGDPMKTPSAKD  17065100   SP.POP.TOTL\n",
      "3  1990-09-01  Australia  158240.678  NYGDPMKTPSAKD  17065100   SP.POP.TOTL\n",
      "4  1991-01-01  Australia  156195.954  NYGDPMKTPSAKD  17284000   SP.POP.TOTL\n",
      "5  1991-04-01  Australia  155989.033  NYGDPMKTPSAKD  17284000   SP.POP.TOTL\n",
      "6  1991-07-01  Australia  156635.858  NYGDPMKTPSAKD  17284000   SP.POP.TOTL\n",
      "7  1991-09-01  Australia  156744.057  NYGDPMKTPSAKD  17284000   SP.POP.TOTL\n",
      "8  1992-01-01  Australia  157916.081  NYGDPMKTPSAKD  17495000   SP.POP.TOTL\n",
      "9  1992-04-01  Australia  159047.827  NYGDPMKTPSAKD  17495000   SP.POP.TOTL\n",
      "10 1992-07-01  Australia  160658.176  NYGDPMKTPSAKD  17495000   SP.POP.TOTL\n",
      "11 1992-09-01  Australia  163960.221  NYGDPMKTPSAKD  17495000   SP.POP.TOTL\n",
      "12 1993-01-01  Australia  165097.495  NYGDPMKTPSAKD  17667000   SP.POP.TOTL\n",
      "13 1993-04-01  Australia  166027.059  NYGDPMKTPSAKD  17667000   SP.POP.TOTL\n",
      "14 1993-07-01  Australia  166203.179  NYGDPMKTPSAKD  17667000   SP.POP.TOTL\n",
      "15 1993-09-01  Australia  169279.348  NYGDPMKTPSAKD  17667000   SP.POP.TOTL\n",
      "16 1990-01-01     Sweden   79837.846  NYGDPMKTPSAKD   8558835   SP.POP.TOTL\n",
      "17 1990-04-01     Sweden   80582.286  NYGDPMKTPSAKD   8558835   SP.POP.TOTL\n",
      "18 1990-07-01     Sweden   79974.360  NYGDPMKTPSAKD   8558835   SP.POP.TOTL\n",
      "19 1990-09-01     Sweden   80106.497  NYGDPMKTPSAKD   8558835   SP.POP.TOTL\n",
      "20 1991-01-01     Sweden   79524.242  NYGDPMKTPSAKD   8617375   SP.POP.TOTL\n",
      "21 1991-04-01     Sweden   79073.059  NYGDPMKTPSAKD   8617375   SP.POP.TOTL\n",
      "22 1991-07-01     Sweden   79084.770  NYGDPMKTPSAKD   8617375   SP.POP.TOTL\n",
      "23 1991-09-01     Sweden   79740.606  NYGDPMKTPSAKD   8617375   SP.POP.TOTL\n",
      "24 1992-01-01     Sweden   79390.922  NYGDPMKTPSAKD   8668067   SP.POP.TOTL\n",
      "25 1992-04-01     Sweden   79060.283  NYGDPMKTPSAKD   8668067   SP.POP.TOTL\n",
      "26 1992-07-01     Sweden   78904.605  NYGDPMKTPSAKD   8668067   SP.POP.TOTL\n",
      "27 1992-09-01     Sweden   76996.837  NYGDPMKTPSAKD   8668067   SP.POP.TOTL\n",
      "28 1993-01-01     Sweden   75783.588  NYGDPMKTPSAKD   8718561   SP.POP.TOTL\n",
      "29 1993-04-01     Sweden   76708.548  NYGDPMKTPSAKD   8718561   SP.POP.TOTL\n",
      "30 1993-07-01     Sweden   77662.018  NYGDPMKTPSAKD   8718561   SP.POP.TOTL\n",
      "31 1993-09-01     Sweden   77703.304  NYGDPMKTPSAKD   8718561   SP.POP.TOTL\n"
     ]
    }
   ],
   "source": [
    "# Perform the same merge of gdp and pop, but join on country and date (reverse of step 1) with the fill feature, saving this as date_ctry.\n",
    "date_ctry = pd.merge_ordered(gdp2, pop, on = ['country', 'date'],\n",
    "                            fill_method = 'ffill')\n",
    "\n",
    "# Print date_ctry\n",
    "print(date_ctry)"
   ]
  },
  {
   "cell_type": "markdown",
   "metadata": {},
   "source": [
    "### Using merge_asof() to study stocks\n",
    "You have a feed of stock market prices that you record. You attempt to track the price every five minutes. Still, due to some network latency, the prices you record are roughly every 5 minutes. You pull your price logs for three banks, JP Morgan (JPM), Wells Fargo (WFC), and Bank Of America (BAC). You want to know how the price change of the two other banks compare to JP Morgan. Therefore, you will need to merge these three logs into one table. Afterward, you will use the pandas .diff() method to compute the price change over time. Finally, plot the price changes so you can review your analysis.\n"
   ]
  },
  {
   "cell_type": "code",
   "execution_count": 82,
   "metadata": {},
   "outputs": [
    {
     "name": "stdout",
     "output_type": "stream",
     "text": [
      "             date_time   close\n",
      "0  11/17/2017 15:35:17  98.120\n",
      "1  11/17/2017 15:40:04  98.180\n",
      "2  11/17/2017 15:45:01  97.731\n",
      "3  11/17/2017 15:50:55  97.740\n",
      "4  11/17/2017 15:55:00  97.815\n"
     ]
    },
    {
     "data": {
      "text/plain": [
       "date_time     object\n",
       "close        float64\n",
       "dtype: object"
      ]
     },
     "execution_count": 82,
     "metadata": {},
     "output_type": "execute_result"
    }
   ],
   "source": [
    "# import datasets\n",
    "wells = pd.read_excel('wells.xlsx') \n",
    "bac = pd.read_excel('bac.xlsx') \n",
    "jpm = pd.read_excel('jpm.xlsx') \n",
    "print(jpm.head())\n",
    "# Python expression is '%d-%m-%Y'. The date formats of '%d/%m/%Y' or '%d.%m.%Y' would fail because the characters between the date placeholders are wrong.\n",
    "wells.dtypes"
   ]
  },
  {
   "cell_type": "code",
   "execution_count": 83,
   "metadata": {},
   "outputs": [],
   "source": [
    "#first convert columns to datetime datatype, then define format\n",
    "wells['date_time'] = pd.to_datetime(wells['date_time'])\n",
    "wells['date_time'] = pd.to_datetime(wells['date_time'], format=\"%m/%d/%Y, %H:%M:%S\")\n",
    "bac['date_time'] = pd.to_datetime(bac['date_time'])\n",
    "bac['date_time'] = pd.to_datetime(bac['date_time'], format=\"%m/%d/%Y, %H:%M:%S\")\n",
    "jpm['date_time'] = pd.to_datetime(jpm['date_time'])\n",
    "jpm['date_time'] = pd.to_datetime(jpm['date_time'], format=\"%m/%d/%Y, %H:%M:%S\")"
   ]
  },
  {
   "cell_type": "code",
   "execution_count": 84,
   "metadata": {},
   "outputs": [
    {
     "data": {
      "image/png": "[encoded data removed]",
      "text/plain": [
       "<Figure size 432x288 with 1 Axes>"
      ]
     },
     "metadata": {
      "needs_background": "light"
     },
     "output_type": "display_data"
    }
   ],
   "source": [
    "# Use merge_asof() to merge jpm (left table) and wells together on the date_time column, \n",
    "#  where the rows with the nearest times are matched, and with suffixes=('', '_wells'). Save to jpm_wells.\n",
    "jpm_wells = pd.merge_asof(jpm, wells, on = 'date_time', suffixes=('', '_wells'), direction = 'nearest')\n",
    "\n",
    "# Use merge_asof() to merge jpm_wells (left table) and bac together on the date_time column, \n",
    "# where the rows with the closest times are matched, and with suffixes=('_jpm', '_bac'). Save to jpm_wells_bac.\n",
    "jpm_wells_bac = pd.merge_asof(jpm_wells, bac, on = 'date_time', suffixes=('_jpm', '_bac'),direction = 'nearest')\n",
    "\n",
    "# Compute price diff\n",
    "price_diffs = jpm_wells_bac.diff()\n",
    "\n",
    "# Plot the price diff of the close of jpm, wells and bac only\n",
    "price_diffs.plot(y=['close_wells', 'close_jpm', 'close_bac'])\n",
    "plt.show()"
   ]
  },
  {
   "cell_type": "markdown",
   "metadata": {},
   "source": [
    "### Using merge_asof() to create dataset\n",
    "The merge_asof() function can be used to create datasets where you have a table of start and stop dates, and you want to use them to create a flag in another table. You have been given gdp, which is a table of quarterly GDP values of the US during the 1980s. Additionally, the table recession has been given to you. It holds the starting date of every US recession since 1980, and the date when the recession was declared to be over. Use merge_asof() to merge the tables and create a status flag if a quarter was during a recession. Finally, to check your work, plot the data in a bar chart."
   ]
  },
  {
   "cell_type": "code",
   "execution_count": 85,
   "metadata": {},
   "outputs": [],
   "source": [
    "#import datasets\n",
    "gdp3 = pd.read_excel('gdp3.xlsx')\n",
    "recession = pd.read_excel('recession.xlsx')"
   ]
  },
  {
   "cell_type": "code",
   "execution_count": 87,
   "metadata": {},
   "outputs": [
    {
     "data": {
      "image/png": "[encoded data removed]",
      "text/plain": [
       "<Figure size 432x288 with 1 Axes>"
      ]
     },
     "metadata": {
      "needs_background": "light"
     },
     "output_type": "display_data"
    }
   ],
   "source": [
    "# Using merge_asof(), merge gdp3 and recession on date, with gdp as the left table. Save to the variable gdp_recession.\n",
    "gdp_recession =  pd.merge_asof(gdp3, recession)\n",
    "\n",
    "# Create a list using a list comprehension and a conditional expression, named is_recession, where for each row if the gdp_recession['econ_status'] value is equal to 'recession' then enter 'r' else 'g'.\n",
    "is_recession = ['r' if s=='recession' else 'g' for s in gdp_recession['econ_status']]\n",
    "\n",
    "# Plot a bar chart of gdp_recession\n",
    "gdp_recession.plot(kind='bar', y='gdp', x='date', color=is_recession, rot=90)\n",
    "plt.show()"
   ]
  },
  {
   "cell_type": "markdown",
   "metadata": {},
   "source": [
    "### merge_asof() and merge_ordered() differences\n",
    "\n",
    "merge_asof()\n",
    "\n",
    "- has an arguement that can be set 'forward' to select 1st row in right table whose key column is greater or equal to the left\n",
    "- after matching 2 tables, if there are missing values at top of the table form the right table, this function can fill them in \n",
    "- it can be used to do fuzzy matching of dates between tables\n",
    "\n",
    "merge_ordered()\n",
    "\n",
    "- allows for right join during the merge\n",
    "- if it cannot match the rows exactly, it can use forward fill to interpolate the missing data\n",
    "\n",
    "both()\n",
    "\n",
    "- function can set the suffix for overlapping column names\n",
    "- can be used when working with ordered or time series data"
   ]
  },
  {
   "cell_type": "markdown",
   "metadata": {},
   "source": [
    "### Explore financials with .query()\n",
    "You have been given a table of financial data from some popular social network companies called social_fin. All of the values are in thousands of US dollars.\n",
    "\n",
    "Use the .query() method and the IPython shell to explore social_fin and select the True statement."
   ]
  },
  {
   "cell_type": "code",
   "execution_count": 89,
   "metadata": {},
   "outputs": [
    {
     "name": "stdout",
     "output_type": "stream",
     "text": [
      "            financial  company  year    value\n",
      "0       total_revenue  twitter  2019  3459329\n",
      "1     cost_of_revenue  twitter  2019  1137041\n",
      "2        gross_profit  twitter  2019  2322288\n",
      "3  operating_expenses  twitter  2019  1955915\n",
      "4          net_income  twitter  2019  1465659\n"
     ]
    }
   ],
   "source": [
    "#import dataset\n",
    "social_fin = pd.read_excel('social_fin.xlsx')\n",
    "print(social_fin.head())"
   ]
  },
  {
   "cell_type": "code",
   "execution_count": 90,
   "metadata": {},
   "outputs": [
    {
     "data": {
      "text/html": [
       "<div>\n",
       "<style scoped>\n",
       "    .dataframe tbody tr th:only-of-type {\n",
       "        vertical-align: middle;\n",
       "    }\n",
       "\n",
       "    .dataframe tbody tr th {\n",
       "        vertical-align: top;\n",
       "    }\n",
       "\n",
       "    .dataframe thead th {\n",
       "        text-align: right;\n",
       "    }\n",
       "</style>\n",
       "<table border=\"1\" class=\"dataframe\">\n",
       "  <thead>\n",
       "    <tr style=\"text-align: right;\">\n",
       "      <th></th>\n",
       "      <th>financial</th>\n",
       "      <th>company</th>\n",
       "      <th>year</th>\n",
       "      <th>value</th>\n",
       "    </tr>\n",
       "  </thead>\n",
       "  <tbody>\n",
       "    <tr>\n",
       "      <th>5</th>\n",
       "      <td>total_revenue</td>\n",
       "      <td>facebook</td>\n",
       "      <td>2019</td>\n",
       "      <td>70697000</td>\n",
       "    </tr>\n",
       "    <tr>\n",
       "      <th>7</th>\n",
       "      <td>gross_profit</td>\n",
       "      <td>facebook</td>\n",
       "      <td>2019</td>\n",
       "      <td>57927000</td>\n",
       "    </tr>\n",
       "    <tr>\n",
       "      <th>20</th>\n",
       "      <td>total_revenue</td>\n",
       "      <td>facebook</td>\n",
       "      <td>2018</td>\n",
       "      <td>55838000</td>\n",
       "    </tr>\n",
       "  </tbody>\n",
       "</table>\n",
       "</div>"
      ],
      "text/plain": [
       "        financial   company  year     value\n",
       "5   total_revenue  facebook  2019  70697000\n",
       "7    gross_profit  facebook  2019  57927000\n",
       "20  total_revenue  facebook  2018  55838000"
      ]
     },
     "execution_count": 90,
     "metadata": {},
     "output_type": "execute_result"
    }
   ],
   "source": [
    "# - there are 2 rows where value > $50,000,000 - false\n",
    "social_fin.query('value > 50000000')"
   ]
  },
  {
   "cell_type": "code",
   "execution_count": 96,
   "metadata": {},
   "outputs": [
    {
     "data": {
      "text/html": [
       "<div>\n",
       "<style scoped>\n",
       "    .dataframe tbody tr th:only-of-type {\n",
       "        vertical-align: middle;\n",
       "    }\n",
       "\n",
       "    .dataframe tbody tr th {\n",
       "        vertical-align: top;\n",
       "    }\n",
       "\n",
       "    .dataframe thead th {\n",
       "        text-align: right;\n",
       "    }\n",
       "</style>\n",
       "<table border=\"1\" class=\"dataframe\">\n",
       "  <thead>\n",
       "    <tr style=\"text-align: right;\">\n",
       "      <th></th>\n",
       "      <th>financial</th>\n",
       "      <th>company</th>\n",
       "      <th>year</th>\n",
       "      <th>value</th>\n",
       "    </tr>\n",
       "  </thead>\n",
       "  <tbody>\n",
       "    <tr>\n",
       "      <th>5</th>\n",
       "      <td>total_revenue</td>\n",
       "      <td>facebook</td>\n",
       "      <td>2019</td>\n",
       "      <td>70697000</td>\n",
       "    </tr>\n",
       "    <tr>\n",
       "      <th>20</th>\n",
       "      <td>total_revenue</td>\n",
       "      <td>facebook</td>\n",
       "      <td>2018</td>\n",
       "      <td>55838000</td>\n",
       "    </tr>\n",
       "    <tr>\n",
       "      <th>35</th>\n",
       "      <td>total_revenue</td>\n",
       "      <td>facebook</td>\n",
       "      <td>2017</td>\n",
       "      <td>40653000</td>\n",
       "    </tr>\n",
       "    <tr>\n",
       "      <th>50</th>\n",
       "      <td>total_revenue</td>\n",
       "      <td>facebook</td>\n",
       "      <td>2016</td>\n",
       "      <td>27638000</td>\n",
       "    </tr>\n",
       "  </tbody>\n",
       "</table>\n",
       "</div>"
      ],
      "text/plain": [
       "        financial   company  year     value\n",
       "5   total_revenue  facebook  2019  70697000\n",
       "20  total_revenue  facebook  2018  55838000\n",
       "35  total_revenue  facebook  2017  40653000\n",
       "50  total_revenue  facebook  2016  27638000"
      ]
     },
     "execution_count": 96,
     "metadata": {},
     "output_type": "execute_result"
    }
   ],
   "source": [
    "# there are 3 rows for total revenue of facebook - false\n",
    "social_fin.query('financial == \"total_revenue\" and company == \"facebook\"')"
   ]
  },
  {
   "cell_type": "code",
   "execution_count": 105,
   "metadata": {},
   "outputs": [
    {
     "data": {
      "text/html": [
       "<div>\n",
       "<style scoped>\n",
       "    .dataframe tbody tr th:only-of-type {\n",
       "        vertical-align: middle;\n",
       "    }\n",
       "\n",
       "    .dataframe tbody tr th {\n",
       "        vertical-align: top;\n",
       "    }\n",
       "\n",
       "    .dataframe thead th {\n",
       "        text-align: right;\n",
       "    }\n",
       "</style>\n",
       "<table border=\"1\" class=\"dataframe\">\n",
       "  <thead>\n",
       "    <tr style=\"text-align: right;\">\n",
       "      <th></th>\n",
       "      <th>financial</th>\n",
       "      <th>company</th>\n",
       "      <th>year</th>\n",
       "      <th>value</th>\n",
       "    </tr>\n",
       "  </thead>\n",
       "  <tbody>\n",
       "    <tr>\n",
       "      <th>14</th>\n",
       "      <td>net_income</td>\n",
       "      <td>snap</td>\n",
       "      <td>2019</td>\n",
       "      <td>-1033660</td>\n",
       "    </tr>\n",
       "    <tr>\n",
       "      <th>29</th>\n",
       "      <td>net_income</td>\n",
       "      <td>snap</td>\n",
       "      <td>2018</td>\n",
       "      <td>-1255911</td>\n",
       "    </tr>\n",
       "    <tr>\n",
       "      <th>34</th>\n",
       "      <td>net_income</td>\n",
       "      <td>twitter</td>\n",
       "      <td>2017</td>\n",
       "      <td>-108063</td>\n",
       "    </tr>\n",
       "    <tr>\n",
       "      <th>44</th>\n",
       "      <td>net_income</td>\n",
       "      <td>snap</td>\n",
       "      <td>2017</td>\n",
       "      <td>-3445066</td>\n",
       "    </tr>\n",
       "    <tr>\n",
       "      <th>49</th>\n",
       "      <td>net_income</td>\n",
       "      <td>twitter</td>\n",
       "      <td>2016</td>\n",
       "      <td>-456873</td>\n",
       "    </tr>\n",
       "    <tr>\n",
       "      <th>59</th>\n",
       "      <td>net_income</td>\n",
       "      <td>snap</td>\n",
       "      <td>2016</td>\n",
       "      <td>-514643</td>\n",
       "    </tr>\n",
       "  </tbody>\n",
       "</table>\n",
       "</div>"
      ],
      "text/plain": [
       "     financial  company  year    value\n",
       "14  net_income     snap  2019 -1033660\n",
       "29  net_income     snap  2018 -1255911\n",
       "34  net_income  twitter  2017  -108063\n",
       "44  net_income     snap  2017 -3445066\n",
       "49  net_income  twitter  2016  -456873\n",
       "59  net_income     snap  2016  -514643"
      ]
     },
     "execution_count": 105,
     "metadata": {},
     "output_type": "execute_result"
    }
   ],
   "source": [
    "#there are 6 rows where net income has negative value - true\n",
    "social_fin.query('financial == \"net_income\" and value < 0')"
   ]
  },
  {
   "cell_type": "code",
   "execution_count": 104,
   "metadata": {},
   "outputs": [
    {
     "data": {
      "text/html": [
       "<div>\n",
       "<style scoped>\n",
       "    .dataframe tbody tr th:only-of-type {\n",
       "        vertical-align: middle;\n",
       "    }\n",
       "\n",
       "    .dataframe tbody tr th {\n",
       "        vertical-align: top;\n",
       "    }\n",
       "\n",
       "    .dataframe thead th {\n",
       "        text-align: right;\n",
       "    }\n",
       "</style>\n",
       "<table border=\"1\" class=\"dataframe\">\n",
       "  <thead>\n",
       "    <tr style=\"text-align: right;\">\n",
       "      <th></th>\n",
       "      <th>financial</th>\n",
       "      <th>company</th>\n",
       "      <th>year</th>\n",
       "      <th>value</th>\n",
       "    </tr>\n",
       "  </thead>\n",
       "  <tbody>\n",
       "    <tr>\n",
       "      <th>2</th>\n",
       "      <td>gross_profit</td>\n",
       "      <td>twitter</td>\n",
       "      <td>2019</td>\n",
       "      <td>2322288</td>\n",
       "    </tr>\n",
       "    <tr>\n",
       "      <th>7</th>\n",
       "      <td>gross_profit</td>\n",
       "      <td>facebook</td>\n",
       "      <td>2019</td>\n",
       "      <td>57927000</td>\n",
       "    </tr>\n",
       "    <tr>\n",
       "      <th>12</th>\n",
       "      <td>gross_profit</td>\n",
       "      <td>snap</td>\n",
       "      <td>2019</td>\n",
       "      <td>819696</td>\n",
       "    </tr>\n",
       "    <tr>\n",
       "      <th>17</th>\n",
       "      <td>gross_profit</td>\n",
       "      <td>twitter</td>\n",
       "      <td>2018</td>\n",
       "      <td>2077362</td>\n",
       "    </tr>\n",
       "    <tr>\n",
       "      <th>22</th>\n",
       "      <td>gross_profit</td>\n",
       "      <td>facebook</td>\n",
       "      <td>2018</td>\n",
       "      <td>46483000</td>\n",
       "    </tr>\n",
       "    <tr>\n",
       "      <th>27</th>\n",
       "      <td>gross_profit</td>\n",
       "      <td>snap</td>\n",
       "      <td>2018</td>\n",
       "      <td>381581</td>\n",
       "    </tr>\n",
       "    <tr>\n",
       "      <th>32</th>\n",
       "      <td>gross_profit</td>\n",
       "      <td>twitter</td>\n",
       "      <td>2017</td>\n",
       "      <td>1582057</td>\n",
       "    </tr>\n",
       "    <tr>\n",
       "      <th>37</th>\n",
       "      <td>gross_profit</td>\n",
       "      <td>facebook</td>\n",
       "      <td>2017</td>\n",
       "      <td>35199000</td>\n",
       "    </tr>\n",
       "    <tr>\n",
       "      <th>42</th>\n",
       "      <td>gross_profit</td>\n",
       "      <td>snap</td>\n",
       "      <td>2017</td>\n",
       "      <td>107487</td>\n",
       "    </tr>\n",
       "    <tr>\n",
       "      <th>47</th>\n",
       "      <td>gross_profit</td>\n",
       "      <td>twitter</td>\n",
       "      <td>2016</td>\n",
       "      <td>1597379</td>\n",
       "    </tr>\n",
       "    <tr>\n",
       "      <th>52</th>\n",
       "      <td>gross_profit</td>\n",
       "      <td>facebook</td>\n",
       "      <td>2016</td>\n",
       "      <td>23849000</td>\n",
       "    </tr>\n",
       "  </tbody>\n",
       "</table>\n",
       "</div>"
      ],
      "text/plain": [
       "       financial   company  year     value\n",
       "2   gross_profit   twitter  2019   2322288\n",
       "7   gross_profit  facebook  2019  57927000\n",
       "12  gross_profit      snap  2019    819696\n",
       "17  gross_profit   twitter  2018   2077362\n",
       "22  gross_profit  facebook  2018  46483000\n",
       "27  gross_profit      snap  2018    381581\n",
       "32  gross_profit   twitter  2017   1582057\n",
       "37  gross_profit  facebook  2017  35199000\n",
       "42  gross_profit      snap  2017    107487\n",
       "47  gross_profit   twitter  2016   1597379\n",
       "52  gross_profit  facebook  2016  23849000"
      ]
     },
     "execution_count": 104,
     "metadata": {},
     "output_type": "execute_result"
    }
   ],
   "source": [
    "#there are 45 rows, where gross profit is greater than $100k - false\n",
    "social_fin.query('financial == \"gross_profit\" and value > 100000')"
   ]
  },
  {
   "cell_type": "markdown",
   "metadata": {},
   "source": [
    "### Subsetting rows with .query()\n",
    "In this exercise, you will revisit GDP and population data for Australia and Sweden from the World Bank and expand on it using the .query() method. You'll merge the two tables and compute the GDP per capita. Afterwards, you'll use the .query() method to sub-select the rows and create a plot. Recall that you will need to merge on multiple columns in the proper order."
   ]
  },
  {
   "cell_type": "code",
   "execution_count": 121,
   "metadata": {},
   "outputs": [
    {
     "data": {
      "image/png": "[encoded data removed]",
      "text/plain": [
       "<Figure size 432x288 with 1 Axes>"
      ]
     },
     "metadata": {
      "needs_background": "light"
     },
     "output_type": "display_data"
    }
   ],
   "source": [
    "# Use merge_ordered() on gdp and pop on columns country and date with the fill feature, save to gdp_pop and print.\n",
    "gdp_pop = pd.merge_ordered(gdp2, pop, on = ['country', 'date'], fill_method='ffill')\n",
    "\n",
    "#Add a column named gdp_per_capita to gdp_pop that divides gdp by pop.\n",
    "gdp_pop['gdp_per_capita'] = gdp_pop['gdp'] / gdp_pop['pop'] \n",
    "\n",
    "# Pivot gdp_pop so values='gdp_per_capita', index='date', and columns='country', save as gdp_pivot.\n",
    "gdp_pivot = gdp_pop.pivot_table('gdp_per_capita', index='date', columns= 'country')\n",
    "\n",
    "# Use .query() to select rows from gdp_pivot where date is greater than equal to \"1991-01-01\". Save as recent_gdp_pop.\n",
    "recent_gdp_pop = gdp_pivot.query('date >= \"1991-01-01\"')\n",
    "\n",
    "# Plot recent_gdp_pop\n",
    "recent_gdp_pop.plot(rot=90)\n",
    "plt.show()"
   ]
  },
  {
   "cell_type": "markdown",
   "metadata": {},
   "source": [
    "### Select the right .melt() arguments\n",
    "You are given a table named inflation. Chose the option to get the same output as the table below."
   ]
  },
  {
   "cell_type": "markdown",
   "metadata": {},
   "source": [
    "data:\n",
    "    \n",
    "        country    indicator  year  annual\n",
    "        0   Brazil  Inflation %  2017    3.45\n",
    "        1   Canada  Inflation %  2017    1.60\n",
    "        2   France  Inflation %  2017    1.03\n",
    "        3    India  Inflation %  2017    2.49\n",
    "        4   Brazil  Inflation %  2018    3.66\n",
    "        5   Canada  Inflation %  2018    2.27\n",
    "        6   France  Inflation %  2018    1.85\n",
    "        7    India  Inflation %  2018    4.86\n",
    "        8   Brazil  Inflation %  2019    3.73\n",
    "        9   Canada  Inflation %  2019    1.95\n",
    "        10  France  Inflation %  2019    1.11\n",
    "        11   India  Inflation %  2019    7.66"
   ]
  },
  {
   "cell_type": "code",
   "execution_count": 123,
   "metadata": {},
   "outputs": [
    {
     "name": "stdout",
     "output_type": "stream",
     "text": [
      "  country    indicator  2017  2018  2019\n",
      "0  Brazil  Inflation %  3.45  3.66  3.73\n",
      "1  Canada  Inflation %  1.60  2.27  1.95\n",
      "2  France  Inflation %  1.03  1.85  1.11\n",
      "3   India  Inflation %  2.49  4.86  7.66\n"
     ]
    }
   ],
   "source": [
    "#import dataset\n",
    "inflation2 = pd.read_excel('inflation2.xlsx')\n",
    "print(inflation2)"
   ]
  },
  {
   "cell_type": "code",
   "execution_count": 125,
   "metadata": {},
   "outputs": [
    {
     "name": "stdout",
     "output_type": "stream",
     "text": [
      "   country    indicator  year  annual\n",
      "0   Brazil  Inflation %  2017    3.45\n",
      "1   Canada  Inflation %  2017    1.60\n",
      "2   France  Inflation %  2017    1.03\n",
      "3    India  Inflation %  2017    2.49\n",
      "4   Brazil  Inflation %  2018    3.66\n",
      "5   Canada  Inflation %  2018    2.27\n",
      "6   France  Inflation %  2018    1.85\n",
      "7    India  Inflation %  2018    4.86\n",
      "8   Brazil  Inflation %  2019    3.73\n",
      "9   Canada  Inflation %  2019    1.95\n",
      "10  France  Inflation %  2019    1.11\n",
      "11   India  Inflation %  2019    7.66\n"
     ]
    }
   ],
   "source": [
    "#data is in wide format and we need to reshape to long so we need countries to be stacked and years\n",
    "inflation2_tall = inflation2.melt(id_vars=['country', 'indicator'], var_name = 'year', value_name = 'annual')\n",
    "print(inflation2_tall)"
   ]
  },
  {
   "cell_type": "markdown",
   "metadata": {},
   "source": [
    "### Using .melt() to reshape government data\n",
    "The US Bureau of Labor Statistics (BLS) often provides data series in an easy-to-read format - it has a separate column for each month, and each year is a different row. Unfortunately, this wide format makes it difficult to plot this information over time. In this exercise, you will reshape a table of US unemployment rate data from the BLS into a form you can plot using .melt(). You will need to add a date column to the table and sort by it to plot the data correctly.\n",
    "\n",
    "The unemployment rate data has been loaded for you in a table called ur_wide. You are encouraged to view the table in the IPython shell before beginning the exercise."
   ]
  },
  {
   "cell_type": "code",
   "execution_count": 129,
   "metadata": {},
   "outputs": [
    {
     "name": "stdout",
     "output_type": "stream",
     "text": [
      "   Unnamed: 0  year  jan  feb  mar  apr  may  jun  jul  aug  sep  oct  nov  \\\n",
      "0           0  2010  9.8  9.8  9.9  9.9  9.5  9.0  9.2  9.5  9.5  9.4  9.8   \n",
      "1           1  2011  9.1  9.0  9.0  9.1  8.4  9.0  9.0  9.0  9.0  8.8  8.6   \n",
      "2           2  2012  8.3  8.3  8.2  8.2  8.1  8.0  8.0  8.1  7.8  7.8  7.7   \n",
      "3           3  2013  8.0  7.7  7.5  7.6  7.0  7.7  7.5  7.2  7.2  7.2  6.9   \n",
      "4           4  2014  6.6  6.7  6.7  6.2  6.1  6.3  6.2  6.1  5.9  5.7  5.8   \n",
      "\n",
      "   dec  \n",
      "0  9.3  \n",
      "1  8.5  \n",
      "2  7.9  \n",
      "3  6.7  \n",
      "4  5.6  \n"
     ]
    }
   ],
   "source": [
    "#import ur_wide\n",
    "ur_wide = pd.read_excel('ur_wide.xlsx')\n",
    "print(ur_wide.head())"
   ]
  },
  {
   "cell_type": "code",
   "execution_count": 143,
   "metadata": {},
   "outputs": [
    {
     "data": {
      "image/png": "[encoded data removed]",
      "text/plain": [
       "<Figure size 432x288 with 1 Axes>"
      ]
     },
     "metadata": {
      "needs_background": "light"
     },
     "output_type": "display_data"
    }
   ],
   "source": [
    "# Use .melt() to unpivot all of the columns of ur_wide except year \n",
    "# and ensure that the columns with the months and values are named month and unempl_rate, respectively. Save the result as ur_tall.\n",
    "ur_tall = ur_wide.melt(id_vars = ['year'], \n",
    "                      value_vars = ['jan' , 'feb' , 'mar' , 'apr' , 'may' , 'jun' , 'jul' , 'aug' , 'sep' , 'oct' , 'nov' ,'dec'],\n",
    "                      var_name = ['month'],\n",
    "                      value_name = 'unempl_rate')\n",
    "\n",
    "#Add a column to ur_tall named date which combines the year and month columns as year-month format into a larger string, and converts it to a date data type.\n",
    "ur_tall['date'] = ur_tall['year'].apply(str) + '-' + ur_tall['month'].apply(str)\n",
    "\n",
    "# Sort ur_tall by date in ascending order\n",
    "ur_sorted = ur_tall.sort_values('date', ascending = True)\n",
    "\n",
    "# Plot the unempl_rate by date\n",
    "ur_sorted.plot(x = 'date', y = 'unempl_rate')\n",
    "plt.show()"
   ]
  },
  {
   "cell_type": "code",
   "execution_count": 137,
   "metadata": {},
   "outputs": [
    {
     "name": "stdout",
     "output_type": "stream",
     "text": [
      "     year month  unempl_rate\n",
      "0    2010   jan          9.8\n",
      "1    2011   jan          9.1\n",
      "2    2012   jan          8.3\n",
      "3    2013   jan          8.0\n",
      "4    2014   jan          6.6\n",
      "..    ...   ...          ...\n",
      "127  2016   dec          4.7\n",
      "128  2017   dec          4.1\n",
      "129  2018   dec          3.9\n",
      "130  2019   dec          3.5\n",
      "131  2020   dec          NaN\n",
      "\n",
      "[132 rows x 3 columns]\n"
     ]
    }
   ],
   "source": [
    "ur_tall = ur_wide.melt(id_vars = ['year'], \n",
    "                      value_vars = ['jan' , 'feb' , 'mar' , 'apr' , 'may' , 'jun' , 'jul' , 'aug' , 'sep' , 'oct' , 'nov' ,'dec'],\n",
    "                      var_name = ['month'],\n",
    "                      value_name = 'unempl_rate')\n",
    "print(ur_tall)"
   ]
  },
  {
   "cell_type": "markdown",
   "metadata": {},
   "source": [
    "### Using .melt() for stocks vs bond performance\n",
    "It is widespread knowledge that the price of bonds is inversely related to the price of stocks. In this last exercise, you'll review many of the topics in this chapter to confirm this. You have been given a table of percent change of the US 10-year treasury bond price. It is in a wide format where there is a separate column for each year. You will need to use the .melt() method to reshape this table.\n",
    "\n",
    "Additionally, you will use the .query() method to filter out unneeded data. You will merge this table with a table of the percent change of the Dow Jones Industrial stock index price. Finally, you will plot data."
   ]
  },
  {
   "cell_type": "code",
   "execution_count": 145,
   "metadata": {},
   "outputs": [
    {
     "data": {
      "text/plain": [
       "(159, 2)"
      ]
     },
     "execution_count": 145,
     "metadata": {},
     "output_type": "execute_result"
    }
   ],
   "source": [
    "#import datasets\n",
    "ten_yr = pd.read_excel('ten_yr.xlsx')\n",
    "dji = pd.read_excel('dji.xlsx')"
   ]
  },
  {
   "cell_type": "code",
   "execution_count": 148,
   "metadata": {},
   "outputs": [
    {
     "name": "stdout",
     "output_type": "stream",
     "text": [
      "  metric  2007-02-01 00:00:00  2007-03-01 00:00:00  2007-04-01 00:00:00  \\\n",
      "0   open                0.033                -0.06                0.025   \n",
      "\n",
      "   2007-05-01 00:00:00  2007-06-01 00:00:00  2007-07-01 00:00:00  \\\n",
      "0               -0.004               -0.008              -0.0106   \n",
      "\n",
      "   2007-08-01 00:00:00  2007-09-01 00:00:00  2007-10-01 00:00:00  ...  \\\n",
      "0              -0.0132              -0.0158              -0.0184  ...   \n",
      "\n",
      "   2009-03-01 00:00:00  2009-04-01 00:00:00  2009-05-01 00:00:00  \\\n",
      "0              -0.0626              -0.0652              -0.0678   \n",
      "\n",
      "   2009-06-01 00:00:00  2009-07-01 00:00:00  2009-08-01 00:00:00  \\\n",
      "0              -0.0704               -0.073               -0.007   \n",
      "\n",
      "   2009-09-01 00:00:00  2009-10-01 00:00:00  2009-11-01 00:00:00  \\\n",
      "0               -0.047               -0.032                0.034   \n",
      "\n",
      "   2009-12-01 00:00:00  \n",
      "0               -0.051  \n",
      "\n",
      "[1 rows x 36 columns]\n"
     ]
    }
   ],
   "source": [
    "print(ten_yr.head(1))"
   ]
  },
  {
   "cell_type": "code",
   "execution_count": 147,
   "metadata": {},
   "outputs": [
    {
     "name": "stdout",
     "output_type": "stream",
     "text": [
      "        date  close\n",
      "0 2007-02-01  0.005\n",
      "1 2007-03-01 -0.026\n",
      "2 2007-04-01  0.049\n",
      "3 2007-05-01  0.052\n",
      "4 2007-06-01 -0.016\n"
     ]
    }
   ],
   "source": [
    "print(dji.head())"
   ]
  },
  {
   "cell_type": "code",
   "execution_count": 152,
   "metadata": {},
   "outputs": [
    {
     "data": {
      "image/png": "[encoded data removed]",
      "text/plain": [
       "<Figure size 432x288 with 1 Axes>"
      ]
     },
     "metadata": {
      "needs_background": "light"
     },
     "output_type": "display_data"
    }
   ],
   "source": [
    "# Use .melt() on ten_yr to unpivot everything except the metric column, setting var_name='date' and value_name='close'. Save the result to bond_perc.\n",
    "bond_perc = ten_yr.melt(id_vars = ['metric'],\n",
    "                       var_name='date',\n",
    "                       value_name='close')\n",
    "\n",
    "# Using the .query() method, select only those rows were metric equals 'close', and save to bond_perc_close.\n",
    "bond_perc_close = bond_perc.query('metric == \"close\"')\n",
    "\n",
    "# Use merge_ordered() to merge dji (left table) and bond_perc_close on date with an inner join, and set suffixes equal to ('_dow', '_bond'). Save the result to dow_bond.\n",
    "dow_bond = pd.merge_ordered(dji, bond_perc_close, \n",
    "                            on = 'date', \n",
    "                            how = 'inner', \n",
    "                            suffixes = ('_dow', '_bond'))\n",
    "\n",
    "\n",
    "# Plot only the close_dow and close_bond columns\n",
    "dow_bond.plot(y = ['close_dow', 'close_bond'], x='date', rot=90)\n",
    "plt.show()"
   ]
  }
 ],
 "metadata": {
  "kernelspec": {
   "display_name": "Python 3",
   "language": "python",
   "name": "python3"
  },
  "language_info": {
   "codemirror_mode": {
    "name": "ipython",
    "version": 3
   },
   "file_extension": ".py",
   "mimetype": "text/x-python",
   "name": "python",
   "nbconvert_exporter": "python",
   "pygments_lexer": "ipython3",
   "version": "3.8.5"
  }
 },
 "nbformat": 4,
 "nbformat_minor": 4
}
