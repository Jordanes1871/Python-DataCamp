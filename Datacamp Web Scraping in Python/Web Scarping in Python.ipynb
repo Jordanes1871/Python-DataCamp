{
 "cells": [
  {
   "cell_type": "markdown",
   "metadata": {},
   "source": [
    "# Web Scraping in Python"
   ]
  },
  {
   "cell_type": "markdown",
   "metadata": {},
   "source": [
    "Tag Types for HTML and meaning:\n",
    "    \n",
    "Basic - \n",
    "\n",
    "    html = creates HTML doc\n",
    "    head = Sets off the title & other info that isn't displayed\n",
    "    body = Sets off the visible portion of the document\n",
    "    title = Puts name of the document in the title bar\n",
    "    \n",
    "Formatting - \n",
    "\n",
    "    p = Creates a new paragraph\n",
    "    div = defines a division or a section in an HTML documen\n",
    "    span = inline container used to mark up a part of a text, or a part of a document\n",
    "\n",
    "Links - \n",
    "\n",
    "    <a href=\"URL\">clickable text</a> = Creates a hyperlink to a Uniform Resource Locator   \n",
    "\n"
   ]
  },
  {
   "cell_type": "markdown",
   "metadata": {},
   "source": [
    "## 1. Web Scraping Overview"
   ]
  },
  {
   "cell_type": "code",
   "execution_count": 2,
   "metadata": {},
   "outputs": [
    {
     "name": "stdout",
     "output_type": "stream",
     "text": [
      "The Current working directory is: /Users/jordanstevens/Documents/Python/Web Scraping in Python/Web Scraping in Python - Datacamp\n",
      "The Current working directory now is: /Users/jordanstevens/Documents/Python/Web Scraping in Python/Web Scraping in Python - Datacamp\n"
     ]
    }
   ],
   "source": [
    "# Importing the module\n",
    "import os\n",
    "\n",
    "# Printing the current working directory\n",
    "print(\"The Current working directory is: {0}\".format(os.getcwd()))\n",
    "\n",
    "# Changing the current working directory\n",
    "os.chdir('/Users/jordanstevens/Documents/Python/Web Scraping in Python/Web Scraping in Python - Datacamp')\n",
    "\n",
    "# Print the current working directory\n",
    "print(\"The Current working directory now is: {0}\".format(os.getcwd()))"
   ]
  },
  {
   "cell_type": "markdown",
   "metadata": {},
   "source": [
    "Use Cases\n",
    "    \n",
    "    Comparing Prices from competitors\n",
    "    \n",
    "    Customer Satisfaction through online reviews of their products and gather public opinion about the company\n",
    "    \n",
    "    Scrape social media sites to for contacting potential clients"
   ]
  },
  {
   "cell_type": "markdown",
   "metadata": {},
   "source": [
    "HTML tags are nested within others such as the p tag nested in div tag which is nested in body tag which is nested in html tag\n",
    "\n",
    "    Root tag = <html>\n",
    "    Body tag = <body> - this defines the body of the html\n",
    "    Div tag = <div> - defining a section of the body\n",
    "    p tags = <p> - defining paragraphs within the body\n",
    "    "
   ]
  },
  {
   "cell_type": "markdown",
   "metadata": {},
   "source": [
    "### From Tree to HTML"
   ]
  },
  {
   "cell_type": "markdown",
   "metadata": {},
   "source": [
    "Here you are given the chance to create your own bit of HTML code (as a python string). More specifically, below is an HTML tree image and you will finish the missing code within the string html which produces this HTML tree."
   ]
  },
  {
   "cell_type": "code",
   "execution_count": 12,
   "metadata": {},
   "outputs": [
    {
     "data": {
      "text/html": [
       "<img src=\"https://assets.datacamp.com/production/repositories/2560/datasets/7043ab2cf053a078afe4adbda88b669de2a6ab73/html_tree_exercise_resize.png\"/>"
      ],
      "text/plain": [
       "<IPython.core.display.Image object>"
      ]
     },
     "execution_count": 12,
     "metadata": {},
     "output_type": "execute_result"
    }
   ],
   "source": [
    "from IPython.display import Image\n",
    "\n",
    "Image(url='https://assets.datacamp.com/production/repositories/2560/datasets/7043ab2cf053a078afe4adbda88b669de2a6ab73/html_tree_exercise_resize.png')"
   ]
  },
  {
   "cell_type": "code",
   "execution_count": 13,
   "metadata": {},
   "outputs": [],
   "source": [
    "html = '''\n",
    "<html>\n",
    "  <head>\n",
    "    <title>Intro HTML</title>\n",
    "  </head>\n",
    "  <body>\n",
    "  <p> Hello World! </p>\n",
    "  <p> Enjoy DataCamp! </p>\n",
    "  </body>\n",
    "</html>\n",
    "'''"
   ]
  },
  {
   "cell_type": "markdown",
   "metadata": {},
   "source": [
    "### Keep it classy"
   ]
  },
  {
   "cell_type": "markdown",
   "metadata": {},
   "source": [
    "Here you are given the chance to create your own bit of HTML code (as a python string). More specifically, below is an HTML tree image and you will finish the missing code within the string html which produces this HTML tree."
   ]
  },
  {
   "cell_type": "markdown",
   "metadata": {},
   "source": [
    "Given the following HTML\n",
    "\n",
    "    <html>\n",
    "      <head>\n",
    "        <title>Website Title</title>\n",
    "        <link rel=\"stylesheet\" type=\"text/css\" href=\"style.css\">\n",
    "      </head>\n",
    "      <body>\n",
    "        <div class=\"class1\" id=\"div1\">\n",
    "          <p class=\"class2\">\n",
    "            Visit <a href=\"http://datacamp.com/\">DataCamp</a>!\n",
    "          </p>\n",
    "        </div>\n",
    "        <div class=\"class1 class3\" id=\"div2\">\n",
    "          Hello World!\n",
    "        </div>\n",
    "      </body>\n",
    "    </html>\n",
    "Which elements belong to the class class1?\n",
    "\n",
    "Answer = 1st and 2nd div"
   ]
  },
  {
   "cell_type": "markdown",
   "metadata": {},
   "source": [
    "Fill in the blank in the HTML code string html to assign a class attribute to the second div element which has the value \"you-are-classy\"."
   ]
  },
  {
   "cell_type": "code",
   "execution_count": 18,
   "metadata": {},
   "outputs": [],
   "source": [
    "# HTML code string\n",
    "html = '''\n",
    "<html>\n",
    "  <body>\n",
    "    <div class=\"class1\" id=\"div1\">\n",
    "      <p class=\"class2\">Visit DataCamp!</p>\n",
    "    </div>\n",
    "    <div class=\"you-are-classy\">\n",
    "      <p class=\"class2\">Keep up the good work!</p>\n",
    "    </div>\n",
    "  </body>\n",
    "</html>\n",
    "'''"
   ]
  },
  {
   "cell_type": "markdown",
   "metadata": {},
   "source": [
    "### Finding HREF"
   ]
  },
  {
   "cell_type": "markdown",
   "metadata": {},
   "source": [
    "Considering the following HTML:\n",
    "\n",
    "    <html>\n",
    "      <head>\n",
    "        <title>Website Title</title>\n",
    "        <link rel=\"stylesheet\" type=\"text/css\" href=\"style.css\">\n",
    "      </head>\n",
    "      <body>\n",
    "        <div class=\"class1\" id=\"div1\">\n",
    "          <p class=\"class2\">\n",
    "            Visit <a href=\"http://datacamp.com/\">DataCamp</a>!\n",
    "          </p>\n",
    "        </div>\n",
    "        <div class=\"class1 class3\" id=\"div2\">\n",
    "          <p class=\"class2\">\n",
    "            Or search for it on <a href=\"http://www.google.com\">Google</a>!\n",
    "          </p>\n",
    "        </div>\n",
    "      </body>\n",
    "    </html>\n",
    "\n",
    "Which of the following does correctly describe how to get to the URL, http://datacamp.com?\n"
   ]
  },
  {
   "cell_type": "markdown",
   "metadata": {},
   "source": [
    "The URL is the href attribute of the first hyperlink a element.\n",
    "\n",
    "The URL is the href attribute of the first child of the first paragraph p element.\n",
    "\n",
    "The URL is the href attribute of the hyperlink a element which is a grandchild of a div element of id div1"
   ]
  },
  {
   "cell_type": "markdown",
   "metadata": {},
   "source": [
    "### Where am I? - Xpath Introduction"
   ]
  },
  {
   "cell_type": "markdown",
   "metadata": {},
   "source": [
    "Consider the HTML code:\n",
    "\n",
    "    <html>\n",
    "      <body>\n",
    "        <div>\n",
    "          <p>Good Luck!</p>\n",
    "          <p>Not here...</p>\n",
    "        </div>\n",
    "        <div>\n",
    "          <p>Where am I?</p>\n",
    "        </div>\n",
    "      </body>\n",
    "    </html>\n",
    "    \n",
    "Using only single forward-slashes to move between generations, and brackets to select the correct element, assign a string to the variable xpath that directs to the paragraph element containing \"Where am I?\"."
   ]
  },
  {
   "cell_type": "code",
   "execution_count": 22,
   "metadata": {},
   "outputs": [],
   "source": [
    "xpath = '/html/body/div[2]/p' #the div[2] looks t the 2nd element of div tag"
   ]
  },
  {
   "cell_type": "markdown",
   "metadata": {},
   "source": [
    "Using double forward-slash notation, assign to the variable xpath a simple XPath string navigating to all paragraph p elements within any HTML code."
   ]
  },
  {
   "cell_type": "code",
   "execution_count": 23,
   "metadata": {},
   "outputs": [],
   "source": [
    "xpath = '//p'"
   ]
  },
  {
   "cell_type": "markdown",
   "metadata": {},
   "source": [
    "### A classy span"
   ]
  },
  {
   "cell_type": "markdown",
   "metadata": {},
   "source": [
    "Although we haven't yet gone deep into XPath, one thing we can do is select elements by their attributes using an XPath. For example, if we want to direct to the div element within the HTML document whose id attribute is \"uid\", then we could write the XPath string \n",
    "\n",
    "    '//div[@id=\"uid\"]'\n",
    "\n",
    "- The first part of this string, //div, first looks at all div elements in the HTML document.\n",
    "\n",
    "- Then, using the brackets, we specify that we want only the div element with a specific id attribute (in this case uid).\n",
    "\n",
    "- @id=\"uid\" in the brackets would be read as \"attribute id equals uid\".\n",
    "\n",
    "Assign to the variable xpath an XPath string which will select all span elements whose class attribute equals \"span-class\""
   ]
  },
  {
   "cell_type": "code",
   "execution_count": 24,
   "metadata": {},
   "outputs": [],
   "source": [
    "xpath = '//span[@class=\"span-class\"]'"
   ]
  },
  {
   "cell_type": "code",
   "execution_count": 26,
   "metadata": {},
   "outputs": [],
   "source": [
    "# Create an XPath string to direct to children of body element\n",
    "xpath = \"/html/body/*\""
   ]
  },
  {
   "cell_type": "markdown",
   "metadata": {},
   "source": [
    "## 2. XPath navigation"
   ]
  },
  {
   "cell_type": "markdown",
   "metadata": {},
   "source": [
    " Counting Elements in the Wild  \n",
    "(*) is equivalent to element() , selecting elements without regard to name\n",
    "\n",
    "- The number of elements selected with the XPath string xpath = \"/html/body/* is equal to the number of children of the body element; whereas the number of elements selected with the XPath string xpath = \"/html/body//*\" is equal to the total number of descendants of the body element.\n",
    "\n",
    "- The number of elements selected by the XPath string xpath = \"/*\" is equal to the number of root elements within the HTML document, which is typically the 1 html root element.\n",
    "\n",
    "- The number of elements selected by the Xpath string xpath = \"//*\" is equal to the total number of elements in the entire HTML document.\n"
   ]
  },
  {
   "cell_type": "code",
   "execution_count": 27,
   "metadata": {},
   "outputs": [],
   "source": [
    "# Create an XPath string to direct to children of body element\n",
    "xpath = \"/html/body/*\""
   ]
  },
  {
   "cell_type": "markdown",
   "metadata": {},
   "source": [
    "### Using XPATH to access elements in HTML"
   ]
  },
  {
   "cell_type": "markdown",
   "metadata": {},
   "source": [
    "Consider the HTML code:\n",
    "\n",
    "    <html>\n",
    "      <body>\n",
    "        <div>\n",
    "          <p>Good Luck!</p>\n",
    "          <p>Not here...</p>\n",
    "        </div>\n",
    "        <div>\n",
    "          <p>Where am I?</p>\n",
    "        </div>\n",
    "      </body>\n",
    "    </html>\n",
    "\n",
    "Your job will be to create an XPath string using single forward-slashes and brackets which navigates to the paragraph p element which contains the text \"Where am I?\"."
   ]
  },
  {
   "cell_type": "code",
   "execution_count": 3,
   "metadata": {},
   "outputs": [],
   "source": [
    "# Fill in the blank\n",
    "xpath = '/html/body/div[2]/p' #single forward slash '/' to move to 1 generation\n",
    "#sqr brackets '[]' after name tag identifies which of selected siblings to choose"
   ]
  },
  {
   "cell_type": "markdown",
   "metadata": {},
   "source": [
    "In the lecture, we learned how to use double forward-slashes to navigate to all future generations. In this exercise, you will select all paragraph p elements within the HTML."
   ]
  },
  {
   "cell_type": "code",
   "execution_count": 4,
   "metadata": {},
   "outputs": [],
   "source": [
    "# Fill in the blank\n",
    "xpath = '//p' #navigates to all generations with p elements wihtin html"
   ]
  },
  {
   "cell_type": "markdown",
   "metadata": {},
   "source": [
    "if we want to direct to the div element within the HTML document whose id attribute is \"uid\", then we could write the XPath string '//div[@id=\"uid\"]'. The first part of this string, //div, first looks at all div elements in the HTML document. Then, using the brackets, we specify that we want only the div element with a specific id attribute (in this case uid). To note, the phrase @id=\"uid\" in the brackets would be read as \"attribute id equals uid\".\n",
    "\n",
    "In this exercise, you will select all span elements whose class attribute equals \"span-class\". (Note: span is just another possible tag-name)."
   ]
  },
  {
   "cell_type": "code",
   "execution_count": 5,
   "metadata": {},
   "outputs": [],
   "source": [
    "# Fill in the blank\n",
    "xpath = '//span[@class=\"span-class\"]'"
   ]
  },
  {
   "cell_type": "markdown",
   "metadata": {},
   "source": [
    "### Choose DataCamp!\n"
   ]
  },
  {
   "cell_type": "markdown",
   "metadata": {},
   "source": [
    "task is to select the paragraph element containing the text \"Choose DataCamp!\".\n",
    "\n",
    "Consider the following HTML:\n",
    "\n",
    "    <html>\n",
    "      <body>\n",
    "        <div>\n",
    "          <p>Hello World!</p>\n",
    "          <div>\n",
    "            <p>Choose DataCamp!</p>\n",
    "          </div>\n",
    "        </div>\n",
    "        <div>\n",
    "          <p>Thanks for Watching!</p>\n",
    "        </div>\n",
    "      </body>\n",
    "    </html>\n",
    "\n",
    "Assign to the variable xpath an XPath string to direct to the paragraph element containing the phrase: \"Choose DataCamp!\"."
   ]
  },
  {
   "cell_type": "code",
   "execution_count": 30,
   "metadata": {},
   "outputs": [],
   "source": [
    "# Create an XPath string to the desired paragraph element\n",
    "xpath = \"//html/body/div/div/p[1]\""
   ]
  },
  {
   "cell_type": "markdown",
   "metadata": {},
   "source": [
    "### Where it's @"
   ]
  },
  {
   "cell_type": "markdown",
   "metadata": {},
   "source": [
    "begin to write an XPath string using attributes to achieve a certain task; that task is to select the paragraph element containing the text \"Thanks for Watching!\". We've already created most of the XPath string for you.\n",
    "\n",
    "Consider the following HTML:\n",
    "\n",
    "    <html>\n",
    "      <body>\n",
    "        <div id=\"div1\" class=\"class-1\">\n",
    "          <p class=\"class-1 class-2\">Hello World!</p>\n",
    "          <div id=\"div2\">\n",
    "            <p id=\"p2\" class=\"class-2\">Choose DataCamp!</p>\n",
    "          </div>\n",
    "        </div>\n",
    "        <div id=\"div3\" class=\"class-2\">\n",
    "          <p class=\"class-2\">Thanks for Watching!</p>\n",
    "        </div>\n",
    "      </body>\n",
    "    </html>"
   ]
  },
  {
   "cell_type": "code",
   "execution_count": 31,
   "metadata": {},
   "outputs": [],
   "source": [
    "# Fill in XPath string to select the paragraph element containing the phrase: \"Thanks for Watching!\".\n",
    "xpath = '//*[@id=\"div3\"]/p'"
   ]
  },
  {
   "cell_type": "markdown",
   "metadata": {},
   "source": [
    "### Check your Class\n"
   ]
  },
  {
   "cell_type": "markdown",
   "metadata": {},
   "source": [
    "This exercise is to emphasize that when you use an XPath to select an element by its class attribute without using the contains() function, you match the class exactly.\n",
    "\n",
    "    <html>\n",
    "      <body>\n",
    "        <div id=\"div1\" class=\"class-1\">\n",
    "          <p class=\"class-1 class-2\">Hello World!</p>\n",
    "          <div id=\"div2\">\n",
    "            <p id=\"p2\" class=\"class-2\">Choose DataCamp!</p>\n",
    "          </div>\n",
    "        </div>\n",
    "        <div id=\"div3\" class=\"class-2\">\n",
    "          <p class=\"class-2\">Thanks for Watching!</p>\n",
    "        </div>\n",
    "      </body>\n",
    "    </html>\n",
    "\n",
    "Fill in the blanks in the xpath below to select the paragraph element containing the phrase: \"Hello World!\"."
   ]
  },
  {
   "cell_type": "code",
   "execution_count": 32,
   "metadata": {},
   "outputs": [],
   "source": [
    "# Create an XPath string to select p element by class\n",
    "xpath = '//p[@class=\"class-1 class-2\"]'"
   ]
  },
  {
   "cell_type": "markdown",
   "metadata": {},
   "source": [
    "### Hyper(link) Active\n"
   ]
  },
  {
   "cell_type": "markdown",
   "metadata": {},
   "source": [
    "One of the most important attributes to extract for \"web-crawling\" is the hyperlink url (href attribute) within an a tag. \n",
    "\n",
    "    <html>\n",
    "      <body>\n",
    "        <div id=\"div1\" class=\"class-1\">\n",
    "          <p class=\"class-1 class-2\">Hello World!</p>\n",
    "          <div id=\"div2\">\n",
    "            <p id=\"p2\" class=\"class-2\">Choose \n",
    "                <a href=\"http://datacamp.com\">DataCamp!</a>!\n",
    "            </p>\n",
    "          </div>\n",
    "        </div>\n",
    "        <div id=\"div3\" class=\"class-2\">\n",
    "          <p class=\"class-2\">Thanks for Watching!</p>\n",
    "        </div>\n",
    "      </body>\n",
    "    </html>\n",
    "\n",
    "Fill in the blanks to complete the variable xpath below to select the href attribute value from the DataCamp hyperlink."
   ]
  },
  {
   "cell_type": "code",
   "execution_count": 33,
   "metadata": {},
   "outputs": [],
   "source": [
    "# Create an xpath to the href attribute\n",
    "xpath = '//p[@id=\"p2\"]/a/@href' "
   ]
  },
  {
   "cell_type": "markdown",
   "metadata": {},
   "source": [
    "### Secret Links\n"
   ]
  },
  {
   "cell_type": "markdown",
   "metadata": {},
   "source": [
    "ill in the blanks below to assign an XPath string to the variable xpath which directs to all href attribute values of the hyperlink a elements whose class attributes contain the string \"package-snippet\""
   ]
  },
  {
   "cell_type": "code",
   "execution_count": 34,
   "metadata": {},
   "outputs": [],
   "source": [
    "# Create an xpath to the href attributes\n",
    "xpath = '//a[contains(@class,\"package-snippet\")]/@href'"
   ]
  },
  {
   "cell_type": "markdown",
   "metadata": {},
   "source": [
    "### Divvy Up This Exercise\n"
   ]
  },
  {
   "cell_type": "code",
   "execution_count": 5,
   "metadata": {},
   "outputs": [],
   "source": [
    "html = \"\"\"\n",
    "<html>\n",
    "<body>\n",
    "<div>Div 1: <p>paragraph 1</p></div>\n",
    "<div>Div 2: <p>paragraph 2</p> <p>paragraph 3</p> </div>\n",
    "<div>Div 3: <p>paragraph 4</p> <p>paragraph 5</p> <p>paragraph 6</p></div>\n",
    "<div>Div 4: <p>paragraph 7</p></div>\n",
    "<div>Div 5: <p>paragraph 8</p></div>\n",
    "</body>\n",
    "</html>\n",
    "\"\"\""
   ]
  },
  {
   "cell_type": "code",
   "execution_count": 6,
   "metadata": {},
   "outputs": [],
   "source": [
    "from scrapy import Selector\n",
    "\n",
    "# Create a Selector selecting html as the HTML document\n",
    "sel = Selector( text = html )\n",
    "\n",
    "# Create a SelectorList of all div elements in the HTML document\n",
    "divs = sel.xpath( '//div' )"
   ]
  },
  {
   "cell_type": "markdown",
   "metadata": {},
   "source": [
    "Referring to the divs variable you created in the previous exercise, choose the incorrect response. What are the correct answers?\n",
    "\n",
    "    divs[2].xpath('./*') will select all the children of the 3rd div element\n",
    "    \n",
    "    len(divs[2].xpath('./*')) gives total no: of children of 3rd div element in HTML code\n",
    "    \n",
    "    divs[2] is another SelectorList of length 2"
   ]
  },
  {
   "cell_type": "markdown",
   "metadata": {},
   "source": [
    "### Resquesting a Selector"
   ]
  },
  {
   "cell_type": "markdown",
   "metadata": {},
   "source": [
    "We have pre-loaded an HTML into the string variable html. In this two part problem you will use this html variable as the HTML document to set up a Selector object with, and create a SelectorList which selects all div elements; then, you will check your understanding of what happens within the SelectorList."
   ]
  },
  {
   "cell_type": "code",
   "execution_count": 7,
   "metadata": {},
   "outputs": [
    {
     "name": "stdout",
     "output_type": "stream",
     "text": [
      "There are 1020 elements in the HTML document.\n",
      "You have found:  1020\n"
     ]
    }
   ],
   "source": [
    "# Import a scrapy Selector\n",
    "from scrapy import Selector\n",
    "\n",
    "# Import requests\n",
    "import requests\n",
    "\n",
    "#create url variable: url\n",
    "url = 'https://assets.datacamp.com/production/repositories/2560/datasets/19a0a26daa8d9db1d920b5d5607c19d6d8094b3b/all_short'\n",
    "\n",
    "# Create the string html containing the HTML source\n",
    "html = requests.get( url ).content\n",
    "\n",
    "# Create the Selector object sel from html\n",
    "sel = Selector( text = html )\n",
    "\n",
    "# Print out the number of elements in the HTML document\n",
    "print( \"There are 1020 elements in the HTML document.\")\n",
    "print( \"You have found: \", len( sel.xpath('//*') ) )"
   ]
  },
  {
   "cell_type": "markdown",
   "metadata": {},
   "source": [
    "## 3. CSS Locators"
   ]
  },
  {
   "cell_type": "markdown",
   "metadata": {},
   "source": [
    "### XPath to CSS Locators"
   ]
  },
  {
   "cell_type": "markdown",
   "metadata": {},
   "source": [
    "CSS = Cascading style sheets which describes how elements are displayed on the screen. People are often divided on whether XPath of CSS are the best way to go."
   ]
  },
  {
   "cell_type": "markdown",
   "metadata": {},
   "source": [
    "To help get you more comfortable going back and forth between XPath and CSS Locator strings, we give you a chance in this exercise to do some direct \"translation\" between the two."
   ]
  },
  {
   "cell_type": "code",
   "execution_count": 8,
   "metadata": {},
   "outputs": [],
   "source": [
    "#note // in xpath is achieved by including space in css\n",
    "# Create the XPath string equivalent to the CSS Locator \n",
    "xpath = '/html/body//div[2]/p[2]'\n",
    "\n",
    "# Create the CSS Locator string equivalent to the XPath\n",
    "css_locator = 'html > body div > p:nth-of-type(2)'"
   ]
  },
  {
   "cell_type": "code",
   "execution_count": 9,
   "metadata": {},
   "outputs": [],
   "source": [
    "# Create the XPath string equivalent to the CSS Locator \n",
    "xpath = '/html/body/span[1]//a'\n",
    "\n",
    "# Create the CSS Locator string equivalent to the XPath\n",
    "css_locator = 'html > body > span:nth-of-type(1) a'"
   ]
  },
  {
   "cell_type": "code",
   "execution_count": 10,
   "metadata": {},
   "outputs": [],
   "source": [
    "# Create the XPath string equivalent to the CSS Locator \n",
    "xpath = '//div[@id=\"uid\"]/span//h4'\n",
    "\n",
    "# Create the CSS Locator string equivalent to the XPath\n",
    "css_locator = 'div#uid > span h4' #space indicates all levels i.e. // not jsut root level i.e. /"
   ]
  },
  {
   "cell_type": "markdown",
   "metadata": {},
   "source": [
    "### Get an \"a\" in this Course"
   ]
  },
  {
   "cell_type": "markdown",
   "metadata": {},
   "source": [
    "In the second part of this problem, we want you to create a CSS Locator string which will select a certain collection of elements as described here: Select the hyperlink (a element) children of all div elements belonging to the class \"course-block\" (that is, any div element with a class attribute such that \"course-block\" is one of the classes assigned). The number of such elements is 11, so you can check your solution with how_many_elements if you choose."
   ]
  },
  {
   "cell_type": "code",
   "execution_count": 12,
   "metadata": {},
   "outputs": [],
   "source": [
    "from scrapy import Selector\n",
    "\n",
    "# Create a selector from the html (of a secret website)\n",
    "sel = Selector( text = html )\n",
    "\n",
    "# Fill in the blank\n",
    "css_locator = 'div.course-block > a'"
   ]
  },
  {
   "cell_type": "markdown",
   "metadata": {},
   "source": [
    "### The CSS Wildcard"
   ]
  },
  {
   "cell_type": "markdown",
   "metadata": {},
   "source": [
    "You can use the wildcard * in CSS Locators too! In fact, we can use it in a similar way, when we want to ignore the tag type. For example:\n",
    "\n",
    "    The CSS Locator string '*' selects all elements in the HTML document.\n",
    "    \n",
    "    The CSS Locator string '*.class-1' selects all elements which belong to class-1, but this is unnecessary since the string '.class-1' will also do the same job.\n",
    "    \n",
    "    The CSS Locator string '*#uid' selects the element with id attribute equal to uid, but this is unnecessary since the string '#uid' will also do the same job."
   ]
  },
  {
   "cell_type": "code",
   "execution_count": 13,
   "metadata": {},
   "outputs": [],
   "source": [
    "# Create the CSS Locator to all children of the element whose id is uid\n",
    "css_locator = '#uid > *'"
   ]
  },
  {
   "cell_type": "markdown",
   "metadata": {},
   "source": [
    "### You've been hrefed\n"
   ]
  },
  {
   "cell_type": "markdown",
   "metadata": {},
   "source": [
    "In a previous exercise, you created a CSS Locator string to select the hyperlink (a element) children of all div elements belonging to the class \"course-block\". Here we have created a SelectorList called course_as having selected those hyperlink children.\n",
    "\n",
    "Now, we want you to fill in the blank below to extract the href attribute values from these elements. This is another example of chaining, as we've seen in a previous exercise.\n",
    "\n",
    "The point here is that we can chain together calls to the methods css and xpath, and combine them! We help nudge you in the correct direction by giving you the solution if we chain with another call to the css method.\n"
   ]
  },
  {
   "cell_type": "code",
   "execution_count": null,
   "metadata": {},
   "outputs": [],
   "source": [
    "from scrapy import Selector\n",
    "\n",
    "# Create a selector object from a secret website\n",
    "sel = Selector( text = html )\n",
    "\n",
    "# Select all hyperlinks of div elements belonging to class \"course-block\"\n",
    "course_as = sel.css( 'div.course-block > a' )\n",
    "\n",
    "# Selecting all href attributes chaining with css\n",
    "hrefs_from_css = course_as.css( '::attr(href)' )\n",
    "\n",
    "# Selecting all href attributes chaining with xpath\n",
    "hrefs_from_xpath = course_as.xpath( './@href' )"
   ]
  },
  {
   "cell_type": "markdown",
   "metadata": {},
   "source": [
    "### Top Level Text\n"
   ]
  },
  {
   "cell_type": "markdown",
   "metadata": {},
   "source": [
    "This exercise will have you write an XPath and CSS Locator string to direct to the text of a specific paragraph p element. The p element in the HTML is uniquely defined by its id attribute, which is \"p3\". With this small piece of information, you should be able to create the desired strings; however, we have preloaded the variable html with a string containing the HTML in which this link belongs, if you want to peruse it.\n",
    "\n",
    "In this exercise, you will only be selecting the text within the element, which does not include the text in future generations of the element. We have created a function print_results for you to compare which elements your strings direct to."
   ]
  },
  {
   "cell_type": "code",
   "execution_count": 18,
   "metadata": {},
   "outputs": [],
   "source": [
    "#set uo html example\n",
    "html = \"\"\"\n",
    "<html>\n",
    "<body>\n",
    "<div id=\"this-div\">\n",
    "<p id=\"p1\" class=\"class-1\">This is not the element you are looking for</p>\n",
    "<p id=\"p2\" class=\"class-12\">\n",
    "<a href=\"https://www.google.com\">Google</a> is linked to here, but this isn't the link you are looking for. \n",
    "</p>\n",
    "<p id=\"p3\" class=\"class-1 class-12\">\n",
    "Here is the <a href=\"https://www.datacamp.com\" id=\"a-exercise\">DataCamp</a> link you want!\n",
    "</p>\n",
    "</div>\n",
    "</body>\n",
    "</html>\n",
    "\"\"\"\n",
    "\n",
    "# Assign to the variable xpath an XPath string directing to the text within the paragraph p element with id equal to p3, which does not include the text of future generations of this p element.\n",
    "xpath = '//p[@id=\"p3\"]/text()'\n",
    "\n",
    "# Create a CSS Locator string to the desired text.\n",
    "css_locator = 'p#p3-id::text'"
   ]
  },
  {
   "cell_type": "markdown",
   "metadata": {},
   "source": [
    "### All Level Text\n"
   ]
  },
  {
   "cell_type": "markdown",
   "metadata": {},
   "source": [
    "This exercise is similar to the previous, but differs in that you will be selecting text from multiple generations of a given element.\n",
    "\n",
    "You will write an XPath and CSS Locator strings to direct to the text of a specific paragraph p element. The p element in the HTML is uniquely defined by its id attribute, which is \"p3\". "
   ]
  },
  {
   "cell_type": "code",
   "execution_count": 19,
   "metadata": {},
   "outputs": [],
   "source": [
    "# Assign to the variable xpath an XPath string directing to the text within the paragraph p element with id equal to p3, which includes the text of future generations of this p element.\n",
    "# note future generations of p element //text\n",
    "xpath = '//p[@id=\"p3\"]//text()'\n",
    "\n",
    "#done with spacing\n",
    "# Create a CSS Locator string to the desired text.\n",
    "css_locator = 'p#p3-id ::text'"
   ]
  },
  {
   "cell_type": "markdown",
   "metadata": {},
   "source": [
    "### Reveal By Response\n",
    " "
   ]
  },
  {
   "cell_type": "markdown",
   "metadata": {},
   "source": [
    "We have pre-loaded a Response object, named response, with the content from a secret website. Your job is to figure out the URL and the title of the website using the response variable. You learned how to find the URL in the last lesson. To find the website title, what you need to know is:\n",
    "\n",
    "    The title is the text from the title element\n",
    "    The title element is a child of the head element, which is a child of the html root element.\n"
   ]
  },
  {
   "cell_type": "code",
   "execution_count": 28,
   "metadata": {},
   "outputs": [
    {
     "ename": "AttributeError",
     "evalue": "'str' object has no attribute 'url'",
     "output_type": "error",
     "traceback": [
      "\u001b[0;31m---------------------------------------------------------------------------\u001b[0m",
      "\u001b[0;31mAttributeError\u001b[0m                            Traceback (most recent call last)",
      "\u001b[0;32m<ipython-input-28-e6b2188b88b8>\u001b[0m in \u001b[0;36m<module>\u001b[0;34m\u001b[0m\n\u001b[1;32m      4\u001b[0m \u001b[0;34m\u001b[0m\u001b[0m\n\u001b[1;32m      5\u001b[0m \u001b[0;31m# Get the URL to the website loaded in response\u001b[0m\u001b[0;34m\u001b[0m\u001b[0;34m\u001b[0m\u001b[0;34m\u001b[0m\u001b[0m\n\u001b[0;32m----> 6\u001b[0;31m \u001b[0mthis_url\u001b[0m \u001b[0;34m=\u001b[0m \u001b[0mresponse\u001b[0m\u001b[0;34m.\u001b[0m\u001b[0murl\u001b[0m\u001b[0;34m\u001b[0m\u001b[0;34m\u001b[0m\u001b[0m\n\u001b[0m\u001b[1;32m      7\u001b[0m \u001b[0;34m\u001b[0m\u001b[0m\n\u001b[1;32m      8\u001b[0m \u001b[0;31m# Get the title of the website loaded in response\u001b[0m\u001b[0;34m\u001b[0m\u001b[0;34m\u001b[0m\u001b[0;34m\u001b[0m\u001b[0m\n",
      "\u001b[0;31mAttributeError\u001b[0m: 'str' object has no attribute 'url'"
     ]
    }
   ],
   "source": [
    "import requests\n",
    "\n",
    "url = 'https://www.datacamp.com/courses/all>'\n",
    "\n",
    "# Get the URL to the website loaded in response\n",
    "this_url = response.url\n",
    "\n",
    "# Get the title of the website loaded in response\n",
    "this_title = response.xpath('/html/head/title/text()').extract_first()"
   ]
  },
  {
   "cell_type": "code",
   "execution_count": null,
   "metadata": {},
   "outputs": [],
   "source": []
  },
  {
   "cell_type": "code",
   "execution_count": null,
   "metadata": {},
   "outputs": [],
   "source": []
  },
  {
   "cell_type": "code",
   "execution_count": null,
   "metadata": {},
   "outputs": [],
   "source": []
  }
 ],
 "metadata": {
  "kernelspec": {
   "display_name": "Python 3",
   "language": "python",
   "name": "python3"
  },
  "language_info": {
   "codemirror_mode": {
    "name": "ipython",
    "version": 3
   },
   "file_extension": ".py",
   "mimetype": "text/x-python",
   "name": "python",
   "nbconvert_exporter": "python",
   "pygments_lexer": "ipython3",
   "version": "3.8.5"
  }
 },
 "nbformat": 4,
 "nbformat_minor": 4
}
