{
 "cells": [
  {
   "cell_type": "code",
   "execution_count": 3,
   "metadata": {},
   "outputs": [
    {
     "ename": "ModuleNotFoundError",
     "evalue": "No module named 'requests'",
     "output_type": "error",
     "traceback": [
      "\u001b[0;31m---------------------------------------------------------------------------\u001b[0m",
      "\u001b[0;31mModuleNotFoundError\u001b[0m                       Traceback (most recent call last)",
      "\u001b[1;32m/Users/jordanstevens/Documents/Python/Web Scraping in Python/.ipynb_checkpoints/Untitled-checkpoint.ipynb Cell 1\u001b[0m line \u001b[0;36m1\n\u001b[0;32m----> <a href='vscode-notebook-cell:/Users/jordanstevens/Documents/Python/Web%20Scraping%20in%20Python/.ipynb_checkpoints/Untitled-checkpoint.ipynb#W0sZmlsZQ%3D%3D?line=0'>1</a>\u001b[0m \u001b[39mimport\u001b[39;00m \u001b[39mrequests\u001b[39;00m\n\u001b[1;32m      <a href='vscode-notebook-cell:/Users/jordanstevens/Documents/Python/Web%20Scraping%20in%20Python/.ipynb_checkpoints/Untitled-checkpoint.ipynb#W0sZmlsZQ%3D%3D?line=1'>2</a>\u001b[0m \u001b[39mfrom\u001b[39;00m \u001b[39mbs4\u001b[39;00m \u001b[39mimport\u001b[39;00m BeautifulSoup\n\u001b[1;32m      <a href='vscode-notebook-cell:/Users/jordanstevens/Documents/Python/Web%20Scraping%20in%20Python/.ipynb_checkpoints/Untitled-checkpoint.ipynb#W0sZmlsZQ%3D%3D?line=3'>4</a>\u001b[0m \u001b[39mdef\u001b[39;00m \u001b[39mscrape_matchesfashion_sale_items\u001b[39m():\n",
      "\u001b[0;31mModuleNotFoundError\u001b[0m: No module named 'requests'"
     ]
    }
   ],
   "source": [
    "import requests\n",
    "from bs4 import BeautifulSoup\n",
    "\n",
    "def scrape_matchesfashion_sale_items():\n",
    "    base_url = \"https://www.matchesfashion.com\"\n",
    "    sale_url = base_url + \"/intl/mens/sale\"\n",
    "\n",
    "    response = requests.get(sale_url)\n",
    "    if response.status_code == 200:\n",
    "        soup = BeautifulSoup(response.text, \"html.parser\")\n",
    "        items = soup.find_all(\"div\", class_=\"lister__item\")\n",
    "        sale_items = []\n",
    "\n",
    "        for item in items:\n",
    "            name = item.find(\"a\", class_=\"lister__item__title\")\n",
    "            price = item.find(\"span\", class_=\"lister__item__price--discount\")\n",
    "            if name and price:\n",
    "                item_data = {\n",
    "                    \"name\": name.text.strip(),\n",
    "                    \"price\": price.text.strip(),\n",
    "                    \"url\": base_url + name[\"href\"]\n",
    "                }\n",
    "                sale_items.append(item_data)\n",
    "\n",
    "        return sale_items\n",
    "    else:\n",
    "        print(\"Failed to fetch data. Status code:\", response.status_code)\n",
    "        return []\n",
    "\n",
    "if __name__ == \"__main__\":\n",
    "    sale_items = scrape_matchesfashion_sale_items()\n",
    "    if sale_items:\n",
    "        for item in sale_items:\n",
    "            print(\"Name:\", item[\"name\"])\n",
    "            print(\"Price:\", item[\"price\"])\n",
    "            print(\"URL:\", item[\"url\"])\n",
    "            print(\"-\" * 40)\n",
    "    else:\n",
    "        print(\"No sale items found.\")\n"
   ]
  },
  {
   "cell_type": "code",
   "execution_count": null,
   "metadata": {},
   "outputs": [],
   "source": []
  }
 ],
 "metadata": {
  "kernelspec": {
   "display_name": "Python 3",
   "language": "python",
   "name": "python3"
  },
  "language_info": {
   "codemirror_mode": {
    "name": "ipython",
    "version": 3
   },
   "file_extension": ".py",
   "mimetype": "text/x-python",
   "name": "python",
   "nbconvert_exporter": "python",
   "pygments_lexer": "ipython3",
   "version": "3.9.6"
  }
 },
 "nbformat": 4,
 "nbformat_minor": 4
}
