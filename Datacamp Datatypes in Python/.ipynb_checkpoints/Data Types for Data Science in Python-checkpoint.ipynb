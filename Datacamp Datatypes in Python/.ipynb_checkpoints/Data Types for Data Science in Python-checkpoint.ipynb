{
 "cells": [
  {
   "cell_type": "markdown",
   "metadata": {},
   "source": [
    "## Data Types for Data Science in Python\n"
   ]
  },
  {
   "cell_type": "markdown",
   "metadata": {},
   "source": [
    "## 1. Fundamental Sequence Data Types"
   ]
  },
  {
   "cell_type": "markdown",
   "metadata": {},
   "source": [
    "### Manipulating lists for fun and profit\n",
    "You may be familiar with adding individual data elements to a list by using the .append() method. However, if you want to combine a list with another array type (list, set, tuple), you can use the .extend() method on the list.\n",
    "\n",
    "You can also use the .index() method to find the position of an item in a list. You can then use that position to remove the item with the .pop() method."
   ]
  },
  {
   "cell_type": "code",
   "execution_count": 3,
   "metadata": {},
   "outputs": [
    {
     "name": "stdout",
     "output_type": "stream",
     "text": [
      "['Ximena', 'Aliza', 'Ayden', 'Calvin', 'Sandeep']\n"
     ]
    }
   ],
   "source": [
    "# Create a list containing the names: baby_names\n",
    "baby_names = ['Ximena', 'Aliza', 'Ayden', 'Calvin']\n",
    "\n",
    "# Extend baby_names with 'Rowen' and 'Sandeep'\n",
    "baby_names.extend(['Rowen', 'Sandeep'])\n",
    "\n",
    "# Find the position of 'Rowen': position\n",
    "position = baby_names.index('Rowen')\n",
    "\n",
    "# Remove 'Rowen' from baby_names\n",
    "baby_names.pop(position)\n",
    "\n",
    "# Print baby_names\n",
    "print(baby_names)"
   ]
  },
  {
   "cell_type": "markdown",
   "metadata": {},
   "source": [
    "### Looping over lists\n",
    "List comprehensions take the form of [action for item in list] and return a new list.\n",
    "\n",
    "We can use the sorted() function to sort the data in a list from lowest to highest in the case of numbers and alphabetical order if the list contains strings. The sorted() function returns a new list and does not affect the list you passed into the function. You can learn more about sorted() in the Python documentation."
   ]
  },
  {
   "cell_type": "code",
   "execution_count": 4,
   "metadata": {},
   "outputs": [
    {
     "name": "stdout",
     "output_type": "stream",
     "text": [
      "['Abigail', 'Addison', 'Amelia', 'Aubrey', 'Ava', 'Avery', 'Brooklyn', 'Charlotte', 'Chloe', 'Elizabeth', 'Ella', 'Emily', 'Emma', 'Evelyn', 'Grace', 'Harper', 'Isabella', 'Lillian', 'Madison', 'Mia', 'Natalie', 'Olivia', 'Sofia', 'Sophia', 'Victoria', 'Zoey']\n"
     ]
    }
   ],
   "source": [
    "#create records variable containing list\n",
    "records = [['2014', 'F', '20799', 'Emma'], \n",
    "           ['2014', 'F', '19674', 'Olivia'], \n",
    "           ['2014', 'F', '18490', 'Sophia'], \n",
    "           ['2014', 'F', '16950', 'Isabella'], \n",
    "           ['2014', 'F', '15586', 'Ava'], \n",
    "           ['2014', 'F', '13442', 'Mia'], \n",
    "           ['2014', 'F', '12562', 'Emily'], \n",
    "           ['2014', 'F', '11985', 'Abigail'], \n",
    "           ['2014', 'F', '10247', 'Madison'], \n",
    "           ['2014', 'F', '10048', 'Charlotte'], \n",
    "           ['2014', 'F', '9564', 'Harper'], \n",
    "           ['2014', 'F', '9542', 'Sofia'], \n",
    "           ['2014', 'F', '9517', 'Avery'], \n",
    "           ['2014', 'F', '9492', 'Elizabeth'], \n",
    "           ['2014', 'F', '8727', 'Amelia'], \n",
    "           ['2014', 'F', '8692', 'Evelyn'], \n",
    "           ['2014', 'F', '8489', 'Ella'], \n",
    "           ['2014', 'F', '8469', 'Chloe'], \n",
    "           ['2014', 'F', '7955', 'Victoria'], \n",
    "           ['2014', 'F', '7589', 'Aubrey'], \n",
    "           ['2014', 'F', '7554', 'Grace'], \n",
    "           ['2014', 'F', '7358', 'Zoey'], \n",
    "           ['2014', 'F', '7061', 'Natalie'], \n",
    "           ['2014', 'F', '6950', 'Addison'], \n",
    "           ['2014', 'F', '6869', 'Lillian'], \n",
    "           ['2014', 'F', '6767', 'Brooklyn']]\n",
    "\n",
    "# Create the list comprehension: baby_names\n",
    "baby_names = [name[3] for name in records]\n",
    "    \n",
    "# Print the sorted baby names in ascending alphabetical order\n",
    "print(sorted(baby_names))"
   ]
  },
  {
   "cell_type": "markdown",
   "metadata": {},
   "source": [
    "### Data type usage\n",
    "Which data type would you use if you wanted your data to be immutable and ordered?\n",
    "\n",
    "A - Tuple i.e. ((a, b ), (c, d))"
   ]
  },
  {
   "cell_type": "markdown",
   "metadata": {},
   "source": [
    "### Using and unpacking tuples\n",
    "If you have a tuple like ('chocolate chip cookies', 15) and you want to access each part of the data, you can use an index just like a list. However, you can also \"unpack\" the tuple into multiple variables such as type, count = ('chocolate chip cookies', 15) that will set type to 'chocolate chip cookies' and count to 15.\n",
    "\n",
    "Often you'll want to pair up multiple array data types. The zip() function does just that. It will return a list of tuples containing one element from each list passed into zip().\n",
    "\n",
    "When looping over a list, you can also track your position in the list by using the enumerate() function. The function returns the index of the list item you are currently on in the list and the list item itself"
   ]
  },
  {
   "cell_type": "code",
   "execution_count": 5,
   "metadata": {},
   "outputs": [
    {
     "name": "stdout",
     "output_type": "stream",
     "text": [
      "[('Jada', 'Josiah'), ('Emily', 'Ethan'), ('Ava', 'David'), ('Serenity', 'Jayden'), ('Claire', 'Mason'), ('Sophia', 'Ryan'), ('Sarah', 'Christian'), ('Ashley', 'Isaiah'), ('Chaya', 'Jayden'), ('Abigail', 'Michael'), ('Zoe', 'Noah'), ('Leah', 'Samuel'), ('Hailey', 'Sebastian'), ('Ava', 'Noah'), ('Olivia', 'Dylan'), ('Emma', 'Lucas'), ('Chloe', 'Joshua'), ('Sophia', 'Angel'), ('Aaliyah', 'Jacob'), ('Angela', 'Matthew'), ('Camila', 'Josiah'), ('Savannah', 'Jacob'), ('Serenity', 'Muhammad'), ('Chloe', 'Alexander'), ('Fatoumata', 'Jason')]\n"
     ]
    }
   ],
   "source": [
    "#create variables of lists as boy and girl names\n",
    "girl_names = ['Jada', 'Emily', 'Ava', 'Serenity', 'Claire', 'Sophia', 'Sarah', 'Ashley', 'Chaya', 'Abigail', 'Zoe', 'Leah', 'Hailey', 'Ava', 'Olivia', 'Emma', 'Chloe', 'Sophia', 'Aaliyah', 'Angela', 'Camila', 'Savannah', 'Serenity', 'Chloe', 'Fatoumata']\n",
    "boy_names = ['Josiah', 'Ethan', 'David', 'Jayden', 'Mason', 'Ryan', 'Christian', 'Isaiah', 'Jayden', 'Michael', 'Noah', 'Samuel', 'Sebastian', 'Noah', 'Dylan', 'Lucas', 'Joshua', 'Angel', 'Jacob', 'Matthew', 'Josiah', 'Jacob', 'Muhammad', 'Alexander', 'Jason']\n",
    "\n",
    "# Use the zip() function to pair up girl_names and boy_names into a variable called pairs.\n",
    "pairs = list(zip(girl_names, boy_names))\n",
    "print(pairs)"
   ]
  },
  {
   "cell_type": "code",
   "execution_count": 6,
   "metadata": {},
   "outputs": [
    {
     "name": "stdout",
     "output_type": "stream",
     "text": [
      "Rank 1: Jada and Josiah\n",
      "Rank 2: Emily and Ethan\n",
      "Rank 3: Ava and David\n",
      "Rank 4: Serenity and Jayden\n",
      "Rank 5: Claire and Mason\n",
      "Rank 6: Sophia and Ryan\n",
      "Rank 7: Sarah and Christian\n",
      "Rank 8: Ashley and Isaiah\n",
      "Rank 9: Chaya and Jayden\n",
      "Rank 10: Abigail and Michael\n",
      "Rank 11: Zoe and Noah\n",
      "Rank 12: Leah and Samuel\n",
      "Rank 13: Hailey and Sebastian\n",
      "Rank 14: Ava and Noah\n",
      "Rank 15: Olivia and Dylan\n",
      "Rank 16: Emma and Lucas\n",
      "Rank 17: Chloe and Joshua\n",
      "Rank 18: Sophia and Angel\n",
      "Rank 19: Aaliyah and Jacob\n",
      "Rank 20: Angela and Matthew\n",
      "Rank 21: Camila and Josiah\n",
      "Rank 22: Savannah and Jacob\n",
      "Rank 23: Serenity and Muhammad\n",
      "Rank 24: Chloe and Alexander\n",
      "Rank 25: Fatoumata and Jason\n"
     ]
    }
   ],
   "source": [
    "# Use a for loop to loop through pairs, using enumerate() to keep track of your position. \n",
    "# Unpack pairs into the variables rank and pair.\n",
    "for rank, pair in enumerate(pairs):\n",
    "    # Unpack pair: girl_name, boy_name\n",
    "    girl_name, boy_name = pair\n",
    "    # Print the rank and names associated with each rank\n",
    "    print(f'Rank {rank+1}: {girl_name} and {boy_name}')"
   ]
  },
  {
   "cell_type": "markdown",
   "metadata": {},
   "source": [
    "### Making tuples by accident\n",
    "Tuples are very powerful and useful, and it's super easy to make one by accident. All you have to do is create a variable and follow the assignment with a comma. This becomes an error when you try to use the variable later expecting it to be a string or a number.\n",
    "\n",
    "You can verify the data type of a variable with the type() function. In this exercise, you'll see for yourself how easy it is to make a tuple by accident."
   ]
  },
  {
   "cell_type": "code",
   "execution_count": 7,
   "metadata": {},
   "outputs": [
    {
     "name": "stdout",
     "output_type": "stream",
     "text": [
      "<class 'str'>\n",
      "<class 'tuple'>\n"
     ]
    }
   ],
   "source": [
    "# Create a variable named normal and set it equal to 'simple'.\n",
    "normal = 'simple'\n",
    "\n",
    "# Create a variable named error and set it equal to 'trailing comma',\n",
    "error = 'trailing comma',\n",
    "\n",
    "# Print the types of the variables\n",
    "print(type(normal))\n",
    "print(type(error))"
   ]
  },
  {
   "cell_type": "markdown",
   "metadata": {},
   "source": [
    "### Formatted String Literals (\"f\" strings)\n",
    "We've been using plain strings with \"\" or '' in this class so far, but there are several types of strings and blend variables with them. the most recent addition of a string type to Python is the \"f-strings\", which is short for formatted string literals. \"F-strings\" make it easy to mix strings with variables and formatting to help get exactly the output you want and you make them by prefacing the quotes with the letter f like f\"\". If you want to include a variable within a string you can use the {} around the variable in an f-string to insert the variable's value into the string itself. For example if we had a variable count with the number 12 stored it in, we could make an f-string like f\"{count} cookies\", which would output the string \"12 cookies\" when printed. The list top_ten_girl_names contains tuples that correspond to the top_ten_rank and name for each position.\n",
    "\n"
   ]
  },
  {
   "cell_type": "code",
   "execution_count": 8,
   "metadata": {},
   "outputs": [
    {
     "name": "stdout",
     "output_type": "stream",
     "text": [
      "Rank #: 1 - Jada\n",
      "Rank #: 2 - Emily\n",
      "Rank #: 3 - Ava\n",
      "Rank #: 4 - Serenity\n",
      "Rank #: 5 - Claire\n",
      "Rank #: 6 - Sophia\n",
      "Rank #: 7 - Sarah\n",
      "Rank #: 8 - Ashley\n",
      "Rank #: 9 - Chaya\n",
      "Rank #: 10 - Abigail\n"
     ]
    }
   ],
   "source": [
    "#variable of interest\n",
    "top_ten_girl_names = [(1, 'Jada'), (2, 'Emily'), (3, 'Ava'), (4, 'Serenity'), (5, 'Claire'), (6, 'Sophia'), (7, 'Sarah'), (8, 'Ashley'), (9, 'Chaya'), (10, 'Abigail')]\n",
    "\n",
    "# Loop over the top_ten_girl_names list and use tuple unpacking to get the top_ten_rank and name.\n",
    "for top_ten_rank, name in top_ten_girl_names:\n",
    "  \t# Print out each rank and name like this Rank #: 1 - Jada where the number 1 is the rank and Jada is the name.\n",
    "    print(f\"Rank #: {top_ten_rank} - {name}\")"
   ]
  },
  {
   "cell_type": "markdown",
   "metadata": {},
   "source": [
    "### Combining multiple strings\n",
    "F strings work great for a few variables, but what if you want to combine a whole list of variables into a string. You can use the \"\".join() method for just that. You put what you want to join the list items with inside the \"\" and the pass the list into the join() method. For example, if you want to join all the items in a list named cookies with a comma and space it would look like \", \".join(cookies)."
   ]
  },
  {
   "cell_type": "code",
   "execution_count": 9,
   "metadata": {},
   "outputs": [
    {
     "name": "stdout",
     "output_type": "stream",
     "text": [
      "The top ten boy names are: Josiah, Ethan, David, Jayden, Mason, Ryan, Christian, Isaiah, Jayden, and Jason.\n"
     ]
    }
   ],
   "source": [
    "# Make a string that contains: The top ten boy names are: and store it as preamble.\n",
    "preamble = \"The top ten boy names are: \"\n",
    "\n",
    "# Make a string that contains: , and and store it as conjunction.\n",
    "conjunction = ', and'\n",
    "\n",
    "# Make a that combines the first 9 names in boy_names list with a comma and store it as first_nine_names. nd space as first_nine_names\n",
    "first_nine_names = \", \".join(boy_names[0:9])\n",
    "\n",
    "# Make an f-string that contains preamble, first_nine_names, conjunction, the final item in boy_names and a period. on, the final item in boy_names and a period\n",
    "print(f\"{preamble}{first_nine_names}{conjunction} {boy_names[-1]}.\")"
   ]
  },
  {
   "cell_type": "markdown",
   "metadata": {},
   "source": [
    "### Finding strings in other strings\n",
    "Many times when we are working with strings, we care about which characters are in the string. For example, we may want to know how many cookies in a list of cookies have the word Chocolate in them, or how many start with the letter C. We can perform these checks by using the in keyword and the .startswith() method on a string. We can also use conditionals on a list comprehension in the form of \n",
    "\n",
    "    [action for item in list if something is true]. \n",
    "\n",
    "Using our cookies examples, it would be something like \n",
    "    \n",
    "    [cookie_name for cookie_name in cookies \n",
    "    if 'chocolate' in cookie_name.lower()]. \n",
    "\n",
    "Note these checks are case sensitive so we're using the .lower() method on the string. We can also \"chain\" methods together by calling them one after the other."
   ]
  },
  {
   "cell_type": "code",
   "execution_count": 10,
   "metadata": {},
   "outputs": [
    {
     "name": "stdout",
     "output_type": "stream",
     "text": [
      "['Serenity', 'Sophia', 'Sarah', 'Sophia', 'Savannah', 'Serenity']\n",
      "['Angela']\n"
     ]
    }
   ],
   "source": [
    "# Store a list of girl_names that start with s: names_with_s\n",
    "names_with_s = [name for name in girl_names if name.lower().startswith('s')]\n",
    "print(names_with_s)\n",
    "\n",
    "# Store a list of girl_names that contain angel: names_with_angel\n",
    "names_with_angel = [name for name in girl_names if 'angel' in name.lower()]\n",
    "\n",
    "print(names_with_angel)"
   ]
  },
  {
   "cell_type": "markdown",
   "metadata": {},
   "source": [
    "### Creating and looping through dictionaries\n",
    "You start that by creating an empty dictionary and assigning part of your array data as the key and the rest as the value.\n",
    "\n",
    "Previously, you used sorted() to organize your data in a list. Dictionaries can also be sorted. By default, using sorted() on a dictionary will sort by the keys of the dictionary.\n",
    "\n",
    "The goal of this exercise is to get familiar with building dictionaries via looping over some data source, and then looping over the dictionary to use that data."
   ]
  },
  {
   "cell_type": "code",
   "execution_count": 11,
   "metadata": {},
   "outputs": [
    {
     "name": "stdout",
     "output_type": "stream",
     "text": [
      "<class 'list'>\n"
     ]
    }
   ],
   "source": [
    "# create squirrels list variable\n",
    "squirrels = [('Marcus Garvey Park', ('Black', 'Cinnamon', 'Cleaning', None)), \n",
    "             ('Highbridge Park', ('Gray', 'Cinnamon', 'Running, Eating', 'Runs From, watches us in short tree')), \n",
    "             ('Madison Square Park', ('Gray', None, 'Foraging', 'Indifferent')), \n",
    "             ('City Hall Park', ('Gray', 'Cinnamon', 'Eating', 'Approaches')), \n",
    "             ('J. Hood Wright Park', ('Gray', 'White', 'Running', 'Indifferent')), \n",
    "             ('Seward Park', ('Gray', 'Cinnamon', 'Eating', 'Indifferent')), ('Union Square Park', ('Gray', 'Black', 'Climbing', None)), \n",
    "             ('Tompkins Square Park', ('Gray', 'Gray', 'Lounging', 'Approaches'))]\n",
    "\n",
    "print(type(squirrels))"
   ]
  },
  {
   "cell_type": "code",
   "execution_count": 12,
   "metadata": {
    "scrolled": true
   },
   "outputs": [
    {
     "name": "stdout",
     "output_type": "stream",
     "text": [
      "{'Marcus Garvey Park': ('Black', 'Cinnamon', 'Cleaning', None), 'Highbridge Park': ('Gray', 'Cinnamon', 'Running, Eating', 'Runs From, watches us in short tree'), 'Madison Square Park': ('Gray', None, 'Foraging', 'Indifferent'), 'City Hall Park': ('Gray', 'Cinnamon', 'Eating', 'Approaches'), 'J. Hood Wright Park': ('Gray', 'White', 'Running', 'Indifferent'), 'Seward Park': ('Gray', 'Cinnamon', 'Eating', 'Indifferent'), 'Union Square Park': ('Gray', 'Black', 'Climbing', None), 'Tompkins Square Park': ('Gray', 'Gray', 'Lounging', 'Approaches')}\n"
     ]
    }
   ],
   "source": [
    "# Create an empty dictionary: squirrels_by_park\n",
    "squirrels_by_park = {}\n",
    "\n",
    "# Loop over squirrels, unpacking it into the variables park and squirrel_details.\n",
    "for park, squirrel_details in squirrels:\n",
    "    # Add each squirrel_details to the squirrels_by_park dictionary \n",
    "    # note we use the key 'park' to unpack the values i.e. squirrel_details\n",
    "    squirrels_by_park[park] = squirrel_details\n",
    "\n",
    "print(squirrels_by_park)"
   ]
  },
  {
   "cell_type": "code",
   "execution_count": 13,
   "metadata": {},
   "outputs": [
    {
     "name": "stdout",
     "output_type": "stream",
     "text": [
      "City Hall Park: ('Gray', 'Cinnamon', 'Eating', 'Approaches')\n",
      "Highbridge Park: ('Gray', 'Cinnamon', 'Running, Eating', 'Runs From, watches us in short tree')\n",
      "J. Hood Wright Park: ('Gray', 'White', 'Running', 'Indifferent')\n",
      "Madison Square Park: ('Gray', None, 'Foraging', 'Indifferent')\n",
      "Marcus Garvey Park: ('Black', 'Cinnamon', 'Cleaning', None)\n",
      "Seward Park: ('Gray', 'Cinnamon', 'Eating', 'Indifferent')\n",
      "Tompkins Square Park: ('Gray', 'Gray', 'Lounging', 'Approaches')\n",
      "Union Square Park: ('Gray', 'Black', 'Climbing', None)\n"
     ]
    }
   ],
   "source": [
    "# Sort the names_by_rank alphabetically dict by park\n",
    "for park in sorted(squirrels_by_park):\n",
    "    # Print each park and it's value in squirrels_by_park\n",
    "    print(f'{park}: {squirrels_by_park[park]}')"
   ]
  },
  {
   "cell_type": "markdown",
   "metadata": {},
   "source": [
    "### Safely finding by key\n",
    "if you attempt to access a key that isn't present in a dictionary, you'll get a KeyError. One option to handle this type of error is to use a try: except: block. \n",
    "\n",
    "Python provides a faster, more versatile tool to help with this problem in the form of the .get() method. The .get() method allows you to supply the name of a key, and optionally, what you'd like to have returned if the key is not found.\n",
    "\n",
    "You'll be using same squirrels_by_park dictionary, which is keyed by the park name and the value is a tuple with the main color, highlights, action, and reaction to humans, and will gain practice using the .get() method."
   ]
  },
  {
   "cell_type": "code",
   "execution_count": 14,
   "metadata": {},
   "outputs": [
    {
     "name": "stdout",
     "output_type": "stream",
     "text": [
      "('Gray', 'Black', 'Climbing', None)\n",
      "<class 'NoneType'>\n",
      "Not Found\n"
     ]
    }
   ],
   "source": [
    "# Safely print 'Union Square Park' from the squirrels_by_park dictionary\n",
    "print(squirrels_by_park.get('Union Square Park'))\n",
    "\n",
    "# Safely print the type of 'Fort Tryon Park' from the squirrels_by_park dictionary\n",
    "print(type(squirrels_by_park.get('Fort Tryon Park')))\n",
    "\n",
    "# Safely print 'Central Park' from the squirrels_by_park dictionary or 'Not Found'\n",
    "print(squirrels_by_park.get('Central Park', 'Not Found'))"
   ]
  },
  {
   "cell_type": "markdown",
   "metadata": {},
   "source": [
    "### Adding and extending dictionaries\n",
    "If you have a dictionary and you want to add data to it, you can simply create a new key and assign the data you desire to it. It's important to remember that if it's a nested dictionary, then all the keys in the data path must exist, and each key in the path must be assigned individually.\n",
    "\n",
    "You can also use the .update() method to update a dictionary with a list of keys and values from another dictionary, tuples or keyword arguments.\n",
    "\n",
    "The squirrels_by_park dictionary is already loaded for you, which is keyed by the park name and the value is a tuple with the main color, highlights, action, and reaction to humans."
   ]
  },
  {
   "cell_type": "code",
   "execution_count": 15,
   "metadata": {},
   "outputs": [
    {
     "name": "stdout",
     "output_type": "stream",
     "text": [
      "<class 'tuple'>\n"
     ]
    }
   ],
   "source": [
    "# create squirrels_union tuple\n",
    "squirrels_union = ('Union Square Park', [{'primary_fur_color': 'Gray', 'highlights_in_fur_color': None, 'activities': 'Eating, Foraging', 'interactions_with_humans': None}, \n",
    "                                         {'primary_fur_color': 'Gray', 'highlights_in_fur_color': 'Cinnamon', 'activities': 'Climbing, Eating', 'interactions_with_humans': None}, \n",
    "                                         {'primary_fur_color': 'Cinnamon', 'highlights_in_fur_color': None, 'activities': 'Foraging', 'interactions_with_humans': 'Indifferent'}, \n",
    "                                         {'primary_fur_color': 'Gray', 'highlights_in_fur_color': None, 'activities': 'Running, Digging', 'interactions_with_humans': 'Runs From'}, \n",
    "                                         {'primary_fur_color': 'Gray', 'highlights_in_fur_color': None, 'activities': 'Digging', 'interactions_with_humans': 'Indifferent'}, \n",
    "                                         {'primary_fur_color': 'Gray', 'highlights_in_fur_color': 'Black', 'activities': 'Climbing', 'interactions_with_humans': None}, \n",
    "                                         {'primary_fur_color': 'Gray', 'highlights_in_fur_color': None, 'activities': 'Eating, Foraging', 'interactions_with_humans': None}])\n",
    "\n",
    "print(type(squirrels_union))"
   ]
  },
  {
   "cell_type": "markdown",
   "metadata": {},
   "source": [
    "The second line of code updates the 'Union Square Park' key in the squirrels_by_park dictionary with the data in the squirrels_union tuple. This is done using the update method of the dictionary. The update method takes a list of tuples, where each tuple consists of a key-value pair. In this case, the squirrels_union tuple is passed as a list of one tuple to the update method.\n"
   ]
  },
  {
   "cell_type": "code",
   "execution_count": 16,
   "metadata": {
    "scrolled": false
   },
   "outputs": [
    {
     "name": "stdout",
     "output_type": "stream",
     "text": [
      "('Gray', None, 'Foraging', 'Indifferent')\n"
     ]
    }
   ],
   "source": [
    "# Assign squirrels_madison as the value to the 'Madison Square Park' key\n",
    "squirrels_madison = squirrels_by_park['Madison Square Park'] \n",
    "# print squirrels_madison\n",
    "print(squirrels_madison)"
   ]
  },
  {
   "cell_type": "code",
   "execution_count": 17,
   "metadata": {},
   "outputs": [
    {
     "name": "stdout",
     "output_type": "stream",
     "text": [
      "{'Marcus Garvey Park': ('Black', 'Cinnamon', 'Cleaning', None), 'Highbridge Park': ('Gray', 'Cinnamon', 'Running, Eating', 'Runs From, watches us in short tree'), 'Madison Square Park': ('Gray', None, 'Foraging', 'Indifferent'), 'City Hall Park': ('Gray', 'Cinnamon', 'Eating', 'Approaches'), 'J. Hood Wright Park': ('Gray', 'White', 'Running', 'Indifferent'), 'Seward Park': ('Gray', 'Cinnamon', 'Eating', 'Indifferent'), 'Union Square Park': [{'primary_fur_color': 'Gray', 'highlights_in_fur_color': None, 'activities': 'Eating, Foraging', 'interactions_with_humans': None}, {'primary_fur_color': 'Gray', 'highlights_in_fur_color': 'Cinnamon', 'activities': 'Climbing, Eating', 'interactions_with_humans': None}, {'primary_fur_color': 'Cinnamon', 'highlights_in_fur_color': None, 'activities': 'Foraging', 'interactions_with_humans': 'Indifferent'}, {'primary_fur_color': 'Gray', 'highlights_in_fur_color': None, 'activities': 'Running, Digging', 'interactions_with_humans': 'Runs From'}, {'primary_fur_color': 'Gray', 'highlights_in_fur_color': None, 'activities': 'Digging', 'interactions_with_humans': 'Indifferent'}, {'primary_fur_color': 'Gray', 'highlights_in_fur_color': 'Black', 'activities': 'Climbing', 'interactions_with_humans': None}, {'primary_fur_color': 'Gray', 'highlights_in_fur_color': None, 'activities': 'Eating, Foraging', 'interactions_with_humans': None}], 'Tompkins Square Park': ('Gray', 'Gray', 'Lounging', 'Approaches')}\n",
      "None\n"
     ]
    }
   ],
   "source": [
    "# Update the 'Union Square Park' key with the squirrels_union tuple\n",
    "squirrels_by_park.update([squirrels_union])\n",
    "\n",
    "# Can see that Union Square Park key containng the newly added squirrels_union tuple has been added to squirrels_by_park dict\n",
    "print(print(squirrels_by_park))"
   ]
  },
  {
   "cell_type": "markdown",
   "metadata": {},
   "source": [
    "The third part of the code is a loop that iterates over the keys (park names) in the squirrels_by_park dictionary. For each key, it prints the key and a list of all primary_fur_color values for the squirrels in that park. This is done using a list comprehension that iterates over the list of squirrels (which is the value corresponding to the current key in the dictionary) and gets the value of the primary_fur_color key for each squirrel. If a squirrel does not have a primary_fur_color key, the get method returns 'N/A'. The get method is used here to avoid a KeyError if a squirrel does not have a primary_fur_color key."
   ]
  },
  {
   "cell_type": "code",
   "execution_count": 18,
   "metadata": {},
   "outputs": [
    {
     "name": "stdout",
     "output_type": "stream",
     "text": [
      "[{'primary_fur_color': 'Gray', 'highlights_in_fur_color': None, 'activities': 'Eating, Foraging', 'interactions_with_humans': None}, {'primary_fur_color': 'Gray', 'highlights_in_fur_color': 'Cinnamon', 'activities': 'Climbing, Eating', 'interactions_with_humans': None}, {'primary_fur_color': 'Cinnamon', 'highlights_in_fur_color': None, 'activities': 'Foraging', 'interactions_with_humans': 'Indifferent'}, {'primary_fur_color': 'Gray', 'highlights_in_fur_color': None, 'activities': 'Running, Digging', 'interactions_with_humans': 'Runs From'}, {'primary_fur_color': 'Gray', 'highlights_in_fur_color': None, 'activities': 'Digging', 'interactions_with_humans': 'Indifferent'}, {'primary_fur_color': 'Gray', 'highlights_in_fur_color': 'Black', 'activities': 'Climbing', 'interactions_with_humans': None}, {'primary_fur_color': 'Gray', 'highlights_in_fur_color': None, 'activities': 'Eating, Foraging', 'interactions_with_humans': None}]\n"
     ]
    }
   ],
   "source": [
    "print(squirrels_by_park[park])"
   ]
  },
  {
   "cell_type": "code",
   "execution_count": 19,
   "metadata": {},
   "outputs": [
    {
     "name": "stdout",
     "output_type": "stream",
     "text": [
      "{'Marcus Garvey Park': ('Black', 'Cinnamon', 'Cleaning', None), 'Highbridge Park': ('Gray', 'Cinnamon', 'Running, Eating', 'Runs From, watches us in short tree'), 'Madison Square Park': ('Gray', None, 'Foraging', 'Indifferent'), 'City Hall Park': ('Gray', 'Cinnamon', 'Eating', 'Approaches'), 'J. Hood Wright Park': ('Gray', 'White', 'Running', 'Indifferent'), 'Seward Park': ('Gray', 'Cinnamon', 'Eating', 'Indifferent'), 'Union Square Park': [{'primary_fur_color': 'Gray', 'highlights_in_fur_color': None, 'activities': 'Eating, Foraging', 'interactions_with_humans': None}, {'primary_fur_color': 'Gray', 'highlights_in_fur_color': 'Cinnamon', 'activities': 'Climbing, Eating', 'interactions_with_humans': None}, {'primary_fur_color': 'Cinnamon', 'highlights_in_fur_color': None, 'activities': 'Foraging', 'interactions_with_humans': 'Indifferent'}, {'primary_fur_color': 'Gray', 'highlights_in_fur_color': None, 'activities': 'Running, Digging', 'interactions_with_humans': 'Runs From'}, {'primary_fur_color': 'Gray', 'highlights_in_fur_color': None, 'activities': 'Digging', 'interactions_with_humans': 'Indifferent'}, {'primary_fur_color': 'Gray', 'highlights_in_fur_color': 'Black', 'activities': 'Climbing', 'interactions_with_humans': None}, {'primary_fur_color': 'Gray', 'highlights_in_fur_color': None, 'activities': 'Eating, Foraging', 'interactions_with_humans': None}], 'Tompkins Square Park': ('Gray', 'Gray', 'Lounging', 'Approaches')}\n"
     ]
    }
   ],
   "source": [
    "print(squirrels_by_park)"
   ]
  },
  {
   "cell_type": "code",
   "execution_count": 20,
   "metadata": {
    "scrolled": true
   },
   "outputs": [
    {
     "ename": "AttributeError",
     "evalue": "'str' object has no attribute 'get'",
     "output_type": "error",
     "traceback": [
      "\u001b[0;31m---------------------------------------------------------------------------\u001b[0m",
      "\u001b[0;31mAttributeError\u001b[0m                            Traceback (most recent call last)",
      "\u001b[0;32m<ipython-input-20-570b0169a07d>\u001b[0m in \u001b[0;36m<module>\u001b[0;34m\u001b[0m\n\u001b[1;32m      2\u001b[0m \u001b[0;32mfor\u001b[0m \u001b[0mpark_name\u001b[0m \u001b[0;32min\u001b[0m \u001b[0msquirrels_by_park\u001b[0m\u001b[0;34m:\u001b[0m\u001b[0;34m\u001b[0m\u001b[0;34m\u001b[0m\u001b[0m\n\u001b[1;32m      3\u001b[0m     \u001b[0;31m# Safely print a list of all primary_fur_colors for squirrels in the park_name\u001b[0m\u001b[0;34m\u001b[0m\u001b[0;34m\u001b[0m\u001b[0;34m\u001b[0m\u001b[0m\n\u001b[0;32m----> 4\u001b[0;31m     \u001b[0mprint\u001b[0m\u001b[0;34m(\u001b[0m\u001b[0mpark_name\u001b[0m\u001b[0;34m,\u001b[0m \u001b[0;34m[\u001b[0m\u001b[0msquirrel\u001b[0m\u001b[0;34m.\u001b[0m\u001b[0mget\u001b[0m\u001b[0;34m(\u001b[0m\u001b[0;34m'primary_fur_color'\u001b[0m\u001b[0;34m,\u001b[0m \u001b[0;34m'N/A'\u001b[0m\u001b[0;34m)\u001b[0m \u001b[0;32mfor\u001b[0m \u001b[0msquirrel\u001b[0m \u001b[0;32min\u001b[0m \u001b[0msquirrels_by_park\u001b[0m\u001b[0;34m[\u001b[0m\u001b[0mpark_name\u001b[0m\u001b[0;34m]\u001b[0m\u001b[0;34m]\u001b[0m\u001b[0;34m)\u001b[0m\u001b[0;34m\u001b[0m\u001b[0;34m\u001b[0m\u001b[0m\n\u001b[0m\u001b[1;32m      5\u001b[0m \u001b[0;34m\u001b[0m\u001b[0m\n\u001b[1;32m      6\u001b[0m     \u001b[0;31m#output incorrect - correct this\u001b[0m\u001b[0;34m\u001b[0m\u001b[0;34m\u001b[0m\u001b[0;34m\u001b[0m\u001b[0m\n",
      "\u001b[0;32m<ipython-input-20-570b0169a07d>\u001b[0m in \u001b[0;36m<listcomp>\u001b[0;34m(.0)\u001b[0m\n\u001b[1;32m      2\u001b[0m \u001b[0;32mfor\u001b[0m \u001b[0mpark_name\u001b[0m \u001b[0;32min\u001b[0m \u001b[0msquirrels_by_park\u001b[0m\u001b[0;34m:\u001b[0m\u001b[0;34m\u001b[0m\u001b[0;34m\u001b[0m\u001b[0m\n\u001b[1;32m      3\u001b[0m     \u001b[0;31m# Safely print a list of all primary_fur_colors for squirrels in the park_name\u001b[0m\u001b[0;34m\u001b[0m\u001b[0;34m\u001b[0m\u001b[0;34m\u001b[0m\u001b[0m\n\u001b[0;32m----> 4\u001b[0;31m     \u001b[0mprint\u001b[0m\u001b[0;34m(\u001b[0m\u001b[0mpark_name\u001b[0m\u001b[0;34m,\u001b[0m \u001b[0;34m[\u001b[0m\u001b[0msquirrel\u001b[0m\u001b[0;34m.\u001b[0m\u001b[0mget\u001b[0m\u001b[0;34m(\u001b[0m\u001b[0;34m'primary_fur_color'\u001b[0m\u001b[0;34m,\u001b[0m \u001b[0;34m'N/A'\u001b[0m\u001b[0;34m)\u001b[0m \u001b[0;32mfor\u001b[0m \u001b[0msquirrel\u001b[0m \u001b[0;32min\u001b[0m \u001b[0msquirrels_by_park\u001b[0m\u001b[0;34m[\u001b[0m\u001b[0mpark_name\u001b[0m\u001b[0;34m]\u001b[0m\u001b[0;34m]\u001b[0m\u001b[0;34m)\u001b[0m\u001b[0;34m\u001b[0m\u001b[0;34m\u001b[0m\u001b[0m\n\u001b[0m\u001b[1;32m      5\u001b[0m \u001b[0;34m\u001b[0m\u001b[0m\n\u001b[1;32m      6\u001b[0m     \u001b[0;31m#output incorrect - correct this\u001b[0m\u001b[0;34m\u001b[0m\u001b[0;34m\u001b[0m\u001b[0;34m\u001b[0m\u001b[0m\n",
      "\u001b[0;31mAttributeError\u001b[0m: 'str' object has no attribute 'get'"
     ]
    }
   ],
   "source": [
    "# Loop over the park_name in the squirrels_by_park dictionary \n",
    "for park_name in squirrels_by_park:\n",
    "    # Safely print a list of all primary_fur_colors for squirrels in the park_name\n",
    "    print(park_name, [squirrel.get('primary_fur_color', 'N/A') for squirrel in squirrels_by_park[park_name]])\n",
    "    \n",
    "    #output incorrect - correct this"
   ]
  },
  {
   "cell_type": "markdown",
   "metadata": {},
   "source": [
    "### Working with dictionaries more pythonically\n",
    "So far, you've worked a lot with the keys of a dictionary to access data, but in Python, the preferred manner for iterating over items in a dictionary is with the .items() method.\n",
    "\n",
    "This returns each key and value from the dictionary as a tuple, which you can unpack in a for loop. You'll now get practice doing this.\n",
    "\n",
    "We've loaded a squirrels_by_park dictionary, and the Madison Square Park key contains a list of dictionaries."
   ]
  },
  {
   "cell_type": "code",
   "execution_count": 21,
   "metadata": {},
   "outputs": [
    {
     "ename": "AttributeError",
     "evalue": "'str' object has no attribute 'items'",
     "output_type": "error",
     "traceback": [
      "\u001b[0;31m---------------------------------------------------------------------------\u001b[0m",
      "\u001b[0;31mAttributeError\u001b[0m                            Traceback (most recent call last)",
      "\u001b[0;32m<ipython-input-21-0a8b6d7d12f7>\u001b[0m in \u001b[0;36m<module>\u001b[0;34m\u001b[0m\n\u001b[1;32m      1\u001b[0m \u001b[0;31m# Iterate over the first squirrel entry in the Madison Square Park list\u001b[0m\u001b[0;34m\u001b[0m\u001b[0;34m\u001b[0m\u001b[0;34m\u001b[0m\u001b[0m\n\u001b[0;32m----> 2\u001b[0;31m \u001b[0;32mfor\u001b[0m \u001b[0mfield\u001b[0m\u001b[0;34m,\u001b[0m \u001b[0mvalue\u001b[0m \u001b[0;32min\u001b[0m \u001b[0msquirrels_by_park\u001b[0m\u001b[0;34m[\u001b[0m\u001b[0;34m\"Madison Square Park\"\u001b[0m\u001b[0;34m]\u001b[0m\u001b[0;34m[\u001b[0m\u001b[0;36m0\u001b[0m\u001b[0;34m]\u001b[0m\u001b[0;34m.\u001b[0m\u001b[0mitems\u001b[0m\u001b[0;34m(\u001b[0m\u001b[0;34m)\u001b[0m\u001b[0;34m:\u001b[0m\u001b[0;34m\u001b[0m\u001b[0;34m\u001b[0m\u001b[0m\n\u001b[0m\u001b[1;32m      3\u001b[0m    \u001b[0;31m# Print field and value\u001b[0m\u001b[0;34m\u001b[0m\u001b[0;34m\u001b[0m\u001b[0;34m\u001b[0m\u001b[0m\n\u001b[1;32m      4\u001b[0m     \u001b[0mprint\u001b[0m\u001b[0;34m(\u001b[0m\u001b[0mfield\u001b[0m\u001b[0;34m,\u001b[0m \u001b[0mvalue\u001b[0m\u001b[0;34m)\u001b[0m\u001b[0;34m\u001b[0m\u001b[0;34m\u001b[0m\u001b[0m\n\u001b[1;32m      5\u001b[0m \u001b[0;34m\u001b[0m\u001b[0m\n",
      "\u001b[0;31mAttributeError\u001b[0m: 'str' object has no attribute 'items'"
     ]
    }
   ],
   "source": [
    "# Iterate over the first squirrel entry in the Madison Square Park list\n",
    "for field, value in squirrels_by_park[\"Madison Square Park\"][0].items():\n",
    "   # Print field and value\n",
    "    print(field, value)\n",
    "    \n",
    "print('-' * 13)\n",
    "\n",
    "# Iterate over the second squirrel entry in the Union Square Park list\n",
    "for field, value in squirrels_by_park[\"Union Square Park\"][1].items():\n",
    "    # Print field and value\n",
    "    print(field, value)"
   ]
  },
  {
   "cell_type": "markdown",
   "metadata": {},
   "source": [
    "### Popping and deleting from dictionaries\n",
    "Often, you will want to remove keys and value from a dictionary. You can do so using the del Python instruction. It's important to remember that del will throw a KeyError if the key you are trying to delete does not exist. You can not use it with the .get() method to safely delete items; however, it can be used with try: catch:.\n",
    "\n",
    "If you want to save that deleted data into another variable for further processing, the .pop() dictionary method will do just that. You can supply a default value for .pop() much like you did for .get() to safely deal with missing keys. It's also typical to use .pop() instead of del since it is a safe method."
   ]
  },
  {
   "cell_type": "code",
   "execution_count": 22,
   "metadata": {},
   "outputs": [
    {
     "name": "stdout",
     "output_type": "stream",
     "text": [
      "{'Marcus Garvey Park': ('Black', 'Cinnamon', 'Cleaning', None), 'Highbridge Park': ('Gray', 'Cinnamon', 'Running, Eating', 'Runs From, watches us in short tree'), 'J. Hood Wright Park': ('Gray', 'White', 'Running', 'Indifferent'), 'Seward Park': ('Gray', 'Cinnamon', 'Eating', 'Indifferent'), 'Tompkins Square Park': ('Gray', 'Gray', 'Lounging', 'Approaches')}\n"
     ]
    }
   ],
   "source": [
    "# Remove \"Madison Square Park\" from squirrels_by_park and store it as squirrels_madison.\n",
    "squirrels_madison = squirrels_by_park.pop('Madison Square Park')\n",
    "\n",
    "# Safely remove \"City Hall Park\" from squirrels_by_park with a empty dictionary as the default and store it as squirrels_city_hall. To do this, pass in an empty dictionary {} as a second argument to .pop().\n",
    "squirrels_city_hall = squirrels_by_park.pop(\"City Hall Park\", {})\n",
    "\n",
    "# Delete \"Union Square Park\" from squirrels_by_park\n",
    "del squirrels_by_park['Union Square Park']\n",
    "\n",
    "# Print squirrels_by_park\n",
    "print(squirrels_by_park)"
   ]
  },
  {
   "cell_type": "markdown",
   "metadata": {},
   "source": [
    "### Checking dictionaries for data\n",
    "You can check to see if a key exists in a dictionary by using the in expression.\n",
    "\n",
    "For example, you can check to see if 'cookies' is a key in the recipes dictionary by using if 'cookies' in recipes: this allows you to safely react to data being present in the dictionary.\n"
   ]
  },
  {
   "cell_type": "code",
   "execution_count": 23,
   "metadata": {},
   "outputs": [],
   "source": [
    "# load data\n",
    "squirrels_by_park = {'Tompkins Square Park': [{'primary_fur_color': 'Gray', 'highlights_in_fur_color': 'Gray', 'activities': 'Foraging', 'interactions_with_humans': 'Approaches'}, {'primary_fur_color': 'Gray', 'highlights_in_fur_color': 'Gray', 'activities': 'Climbing (down tree)', 'interactions_with_humans': 'Indifferent'}, {'primary_fur_color': 'Gray', 'highlights_in_fur_color': 'Gray', 'activities': 'Foraging', 'interactions_with_humans': 'Indifferent'}, {'primary_fur_color': 'Gray', 'highlights_in_fur_color': 'Gray', 'activities': 'Foraging', 'interactions_with_humans': 'Indifferent'}], 'Union Square Park': [{'primary_fur_color': 'Gray', 'highlights_in_fur_color': None, 'activities': 'Eating, Foraging', 'interactions_with_humans': None}, {'primary_fur_color': 'Cinnamon', 'highlights_in_fur_color': None, 'activities': 'Foraging', 'interactions_with_humans': None}, {'primary_fur_color': 'Gray', 'highlights_in_fur_color': None, 'activities': 'Eating, Foraging', 'interactions_with_humans': None}, {'primary_fur_color': 'Gray', 'highlights_in_fur_color': None, 'activities': 'Digging', 'interactions_with_humans': 'Indifferent'}]}"
   ]
  },
  {
   "cell_type": "code",
   "execution_count": 25,
   "metadata": {},
   "outputs": [],
   "source": [
    "## Check to see if Tompkins Square Park is in squirrels_by_park\n",
    "#if \"____\" ____ ____:\n",
    "#    # Print 'Found Tompkins Square Park'\n",
    "#    print('Found Tompkins Square Park')\n",
    "#    \n",
    "## Check to see if Central Park is in squirrels_by_park\n",
    "#if \"____\" ____ ____:\n",
    "#    # Print 'Found Central Park' if found\n",
    "#    print('Found Central Park')\n",
    "#else:\n",
    "#    # Print 'Central Park missing' if not found\n",
    "#    print('Central Park missing')"
   ]
  },
  {
   "cell_type": "markdown",
   "metadata": {},
   "source": [
    "# Continue with chapter 2 once the error has been fixed via data camp"
   ]
  },
  {
   "cell_type": "markdown",
   "metadata": {},
   "source": [
    "## 3. Numeric Data Types, Booleans and Sets"
   ]
  },
  {
   "cell_type": "markdown",
   "metadata": {},
   "source": [
    "### Choosing when to use integers and floats\n",
    "Both floats and integers can be interchangeably used in a lot of circumstances. Let's categorize a few good patterns around when to use one vs. the other.\n",
    "\n",
    "Integer:\n",
    " - Exceptionally large values\n",
    " - When the result will be an integer\n",
    " \n",
    " Float\n",
    " - When the expected result will be a float\n",
    " - Scientific Notation\n",
    " - When the approximation is good enough (most programs)\n",
    " \n",
    " Decimal\n",
    " - Exacting precision required\n",
    " - Curreny"
   ]
  },
  {
   "cell_type": "markdown",
   "metadata": {},
   "source": [
    "### Printing floats\n",
    "Scientific notation is a powerful tool for representing numbers, but it can be confusing to handle when trying to print float values. However, we can use the f strings we learned about previously to make sure we get them printed properly every time by using a format specifier. For example, if we wanted to format a variable in an f string as a float, we can use the f format specifier, such as: print(f\"{some_variable:f}\"). It also takes an operation precision on the float format specifier, for example, print(f\"{some_variable:.4f}\") would print four decimal places of precision."
   ]
  },
  {
   "cell_type": "code",
   "execution_count": 26,
   "metadata": {},
   "outputs": [],
   "source": [
    "float1 = 0.0001\n",
    "float2 = 1e-05\n",
    "float3 = 1e-07"
   ]
  },
  {
   "cell_type": "code",
   "execution_count": 27,
   "metadata": {},
   "outputs": [
    {
     "name": "stdout",
     "output_type": "stream",
     "text": [
      "0.0001\n",
      "1e-05\n",
      "1e-07\n",
      "0.000100\n",
      "0.000010\n",
      "0.0000001\n"
     ]
    }
   ],
   "source": [
    "# Print floats 1, 2, and 3\n",
    "print(float1)\n",
    "print(float2)\n",
    "print(float3)\n",
    "\n",
    "# Print floats 2 and 3 using the f string formatter\n",
    "print(f\"{float1:f}\")\n",
    "print(f\"{float2:f}\")\n",
    "\n",
    "# Print float 3 with a 7 f string precision\n",
    "print(f\"{float3:.7f}\")"
   ]
  },
  {
   "cell_type": "markdown",
   "metadata": {},
   "source": [
    "### Division with integers and floats\n",
    "Python supports two different division operators: / and //. In Python 3, / will consistently return a float result, and // is floor division and will consistently return an integer result. Floor division is the same as doing math.floor(numerator/divisor), which returns the highest integer less than or equal to the result of the division operation. You can learn more about math.floor in the Python Docs."
   ]
  },
  {
   "cell_type": "code",
   "execution_count": 28,
   "metadata": {},
   "outputs": [],
   "source": [
    "import math"
   ]
  },
  {
   "cell_type": "code",
   "execution_count": 29,
   "metadata": {},
   "outputs": [
    {
     "name": "stdout",
     "output_type": "stream",
     "text": [
      "2.0\n",
      "0.5\n",
      "2\n",
      "0\n",
      "<class 'float'>\n",
      "<class 'int'>\n"
     ]
    }
   ],
   "source": [
    "# Print the result of 2/1 and 1/2\n",
    "print(2/1)\n",
    "print(1/2)\n",
    "\n",
    "# Print the floored division result of 2//1 and 1//2\n",
    "# not can even just do 2//1 without math.floor\n",
    "print(math.floor(2//1))\n",
    "print(math.floor(1//2))\n",
    "\n",
    "# Print the type of 2/1 and 2//1\n",
    "print(type(2/1))\n",
    "print(type(2//1))"
   ]
  },
  {
   "cell_type": "markdown",
   "metadata": {},
   "source": [
    "### More than just true and false\n",
    "Python has two boolean values available for you to use: True and False. Most commonly these boolean values are used to indicate that something is on or off, yes or no, or similar states. Additionally, many python types return \"truthy\" or \"falsey\" values depending on their condition when evaluated using the bool() function."
   ]
  },
  {
   "cell_type": "code",
   "execution_count": 30,
   "metadata": {},
   "outputs": [
    {
     "name": "stdout",
     "output_type": "stream",
     "text": [
      "False\n",
      "True\n"
     ]
    }
   ],
   "source": [
    "# Create an empty list\n",
    "my_list = []\n",
    "\n",
    "# Check the truthiness of my_list\n",
    "print(bool(my_list))\n",
    "\n",
    "# Append the string 'cookies' to my_list\n",
    "my_list.append('cookies')\n",
    "\n",
    "# Check the truthiness of my_list\n",
    "print(bool(my_list))"
   ]
  },
  {
   "cell_type": "markdown",
   "metadata": {},
   "source": [
    "### Comparisons\n",
    "Booleans and their truthiness are most often used in comparisions, and we use comparisions without even thinking about their underlying data type. To perform a comparision, we can use a comparision operator. Python supports the following comparision operators:\n",
    "\n",
    "    == equal to\n",
    "    != not equal to\n",
    "    > greater than\n",
    "    < less than\n",
    "    >= greater than or equal to\n",
    "    <= less than or equal to \n",
    "\n",
    "For this exercise, we'll be using a subset of the Palmer Archipelago (Antarctica) penguin data set, named penguins, as a list of dictionaries with the keys of species, flipper_length, body_mass and sex."
   ]
  },
  {
   "cell_type": "code",
   "execution_count": 31,
   "metadata": {},
   "outputs": [
    {
     "name": "stdout",
     "output_type": "stream",
     "text": [
      "<class 'list'>\n"
     ]
    }
   ],
   "source": [
    "# create penguins which is list of dictionaries\n",
    "penguins = [{'species': 'Adlie', 'flipper_length': 190.0, 'body_mass': 3050.0, 'sex': 'FEMALE'}, \n",
    "            {'species': 'Adlie', 'flipper_length': 184.0, 'body_mass': 3325.0, 'sex': 'FEMALE'}, \n",
    "            {'species': 'Gentoo', 'flipper_length': 209.0, 'body_mass': 4800.0, 'sex': 'FEMALE'}, \n",
    "            {'species': 'Adlie', 'flipper_length': 193.0, 'body_mass': 4200.0, 'sex': 'MALE'}, \n",
    "            {'species': 'Gentoo', 'flipper_length': 210.0, 'body_mass': 4400.0, 'sex': 'FEMALE'}, \n",
    "            {'species': 'Gentoo', 'flipper_length': 213.0, 'body_mass': 4650.0, 'sex': 'FEMALE'}, \n",
    "            {'species': 'Chinstrap', 'flipper_length': 193.0, 'body_mass': 3600.0, 'sex': 'FEMALE'}, \n",
    "            {'species': 'Adlie', 'flipper_length': 193.0, 'body_mass': 3800.0, 'sex': 'MALE'}, \n",
    "            {'species': 'Chinstrap', 'flipper_length': 199.0, 'body_mass': 3900.0, 'sex': 'FEMALE'}, \n",
    "            {'species': 'Chinstrap', 'flipper_length': 195.0, 'body_mass': 3650.0, 'sex': 'FEMALE'}, \n",
    "            {'species': 'Adlie', 'flipper_length': 185.0, 'body_mass': 3700.0, 'sex': 'FEMALE'}, \n",
    "            {'species': 'Gentoo', 'flipper_length': 208.0, 'body_mass': 4575.0, 'sex': 'FEMALE'}, \n",
    "            {'species': 'Adlie', 'flipper_length': 196.0, 'body_mass': 4350.0, 'sex': 'MALE'}, \n",
    "            {'species': 'Adlie', 'flipper_length': 191.0, 'body_mass': 3700.0, 'sex': 'FEMALE'}, \n",
    "            {'species': 'Chinstrap', 'flipper_length': 195.0, 'body_mass': 3300.0, 'sex': 'FEMALE'}, \n",
    "            {'species': 'Adlie', 'flipper_length': 195.0, 'body_mass': 3450.0, 'sex': 'FEMALE'}, \n",
    "            {'species': 'Gentoo', 'flipper_length': 217.0, 'body_mass': 4875.0, 'sex': '.'}, \n",
    "            {'species': 'Gentoo', 'flipper_length': 212.0, 'body_mass': 4875.0, 'sex': 'FEMALE'}, \n",
    "            {'species': 'Adlie', 'flipper_length': 205.0, 'body_mass': 4300.0, 'sex': 'MALE'}, \n",
    "            {'species': 'Gentoo', 'flipper_length': 220.0, 'body_mass': 6000.0, 'sex': 'MALE'}]\n",
    "print(type(penguins))"
   ]
  },
  {
   "cell_type": "code",
   "execution_count": 32,
   "metadata": {},
   "outputs": [
    {
     "name": "stdout",
     "output_type": "stream",
     "text": [
      "Adlie - FEMALE\n",
      "Gentoo - FEMALE\n",
      "Adlie - MALE\n",
      "Gentoo - FEMALE\n",
      "Gentoo - FEMALE\n",
      "Chinstrap - FEMALE\n",
      "Adlie - MALE\n",
      "Chinstrap - FEMALE\n",
      "Chinstrap - FEMALE\n",
      "Adlie - FEMALE\n",
      "Gentoo - FEMALE\n",
      "Adlie - MALE\n",
      "Adlie - FEMALE\n",
      "Adlie - FEMALE\n",
      "Gentoo - .\n",
      "Gentoo - FEMALE\n",
      "Adlie - MALE\n",
      "Gentoo - MALE\n"
     ]
    }
   ],
   "source": [
    "# Use a for loop to iterate over the penguins list\n",
    "for penguin in penguins:\n",
    "  # Check the penguin entry for a body mass of more than 3300 grams\n",
    "  if penguin[\"body_mass\"] > 3300:\n",
    "  \t# Print the species and sex of the penguin if true\n",
    "    print(f\"{penguin['species']} - {penguin['sex']}\")"
   ]
  },
  {
   "cell_type": "markdown",
   "metadata": {},
   "source": [
    "### Truthy, True, Falsey, and False\n",
    "While comparisons check for truthiness, something being truthy is not the same as it being True. The inverse of that statement is also true about falsey values and them not being False. So we need to be vigilent when we are checking is something is True or False vs truthy or falsey. In Python, we have the is operator to check if two things are identical. This time we'll be using a penguin details record dictionary which has the same keys as the prior exercise (species, flipper_length, body_mass, sex) with the tracked key that has a boolean value."
   ]
  },
  {
   "cell_type": "code",
   "execution_count": 33,
   "metadata": {},
   "outputs": [],
   "source": [
    "# create dictionary penguin_305_details\n",
    "penguin_305_details = {'species': 'Adlie', 'flipper_length': 190.0, 'body_mass': 3050.0, 'tracked': True, 'sex': 'FEMALE'}"
   ]
  },
  {
   "cell_type": "code",
   "execution_count": 34,
   "metadata": {},
   "outputs": [
    {
     "name": "stdout",
     "output_type": "stream",
     "text": [
      "FEMALE: False\n",
      "True: True\n"
     ]
    }
   ],
   "source": [
    "# Check the truthiness of penguin_305_details sex key\n",
    "if penguin_305_details[\"sex\"]:\n",
    "\t# If true, check if sex is True and store it as sex_is_true\n",
    "    sex_is_true = penguin_305_details[\"sex\"] is True\n",
    "    # Print the sex key's value and sex_is_true\n",
    "    print(f\"{penguin_305_details['sex']}: {sex_is_true}\")\n",
    "\n",
    "# Check the truthiness of penguin_305_details tracked key\n",
    "if penguin_305_details[\"tracked\"]:\n",
    "\t# If true, check if tracked is True and store it as tracked_is_true\n",
    "    tracked_is_true = penguin_305_details[\"tracked\"] is True\n",
    "    # Print the tracked key value and tracked_is_true\n",
    "    print(f\"{penguin_305_details['tracked']}: {tracked_is_true}\")"
   ]
  },
  {
   "cell_type": "markdown",
   "metadata": {},
   "source": [
    "### Determining set differences\n",
    "Another way of comparing sets is to use the difference() method. It returns all the items found in one set but not another. It's important to remember the set you call the method on will be the one from which the items are returned. Unlike tuples, you can add() items to a set. A set will only add items that do not exist in the set."
   ]
  },
  {
   "cell_type": "code",
   "execution_count": 35,
   "metadata": {},
   "outputs": [
    {
     "name": "stdout",
     "output_type": "stream",
     "text": [
      "<class 'set'>\n",
      "<class 'list'>\n"
     ]
    }
   ],
   "source": [
    "# create male_penguin_species set\n",
    "male_penguin_species = {'Adlie', 'Gentoo'}\n",
    "print(type(male_penguin_species))\n",
    "\n",
    "# create penguins list\n",
    "penguins = [{'species': 'Adlie', 'flipper_length': 190.0, 'body_mass': 3050.0, 'sex': 'FEMALE'}, {'species': 'Adlie', 'flipper_length': 184.0, 'body_mass': 3325.0, 'sex': 'FEMALE'}, {'species': 'Gentoo', 'flipper_length': 209.0, 'body_mass': 4800.0, 'sex': 'FEMALE'}, {'species': 'Adlie', 'flipper_length': 193.0, 'body_mass': 4200.0, 'sex': 'MALE'}, {'species': 'Gentoo', 'flipper_length': 210.0, 'body_mass': 4400.0, 'sex': 'FEMALE'}, {'species': 'Gentoo', 'flipper_length': 213.0, 'body_mass': 4650.0, 'sex': 'FEMALE'}, {'species': 'Chinstrap', 'flipper_length': 193.0, 'body_mass': 3600.0, 'sex': 'FEMALE'}, {'species': 'Adlie', 'flipper_length': 193.0, 'body_mass': 3800.0, 'sex': 'MALE'}, {'species': 'Chinstrap', 'flipper_length': 199.0, 'body_mass': 3900.0, 'sex': 'FEMALE'}, {'species': 'Chinstrap', 'flipper_length': 195.0, 'body_mass': 3650.0, 'sex': 'FEMALE'}, {'species': 'Adlie', 'flipper_length': 185.0, 'body_mass': 3700.0, 'sex': 'FEMALE'}, {'species': 'Gentoo', 'flipper_length': 208.0, 'body_mass': 4575.0, 'sex': 'FEMALE'}, {'species': 'Adlie', 'flipper_length': 196.0, 'body_mass': 4350.0, 'sex': 'MALE'}, {'species': 'Adlie', 'flipper_length': 191.0, 'body_mass': 3700.0, 'sex': 'FEMALE'}, {'species': 'Chinstrap', 'flipper_length': 195.0, 'body_mass': 3300.0, 'sex': 'FEMALE'}, {'species': 'Adlie', 'flipper_length': 195.0, 'body_mass': 3450.0, 'sex': 'FEMALE'}, {'species': 'Gentoo', 'flipper_length': 217.0, 'body_mass': 4875.0, 'sex': '.'}, {'species': 'Gentoo', 'flipper_length': 212.0, 'body_mass': 4875.0, 'sex': 'FEMALE'}, {'species': 'Adlie', 'flipper_length': 205.0, 'body_mass': 4300.0, 'sex': 'MALE'}, {'species': 'Gentoo', 'flipper_length': 220.0, 'body_mass': 6000.0, 'sex': 'MALE'}]\n",
    "print(type(penguins))"
   ]
  },
  {
   "cell_type": "code",
   "execution_count": 40,
   "metadata": {},
   "outputs": [
    {
     "name": "stdout",
     "output_type": "stream",
     "text": [
      "{'Chinstrap'}\n"
     ]
    }
   ],
   "source": [
    "# Use a list comprehension to iterate over each penguin in penguins saved as female_species_list\n",
    "# If the the sex of the penguin is 'FEMALE', return the species value\n",
    "female_species_list = [penguin[\"species\"] for penguin in penguins \n",
    "                       if penguin[\"sex\"] == 'FEMALE']\n",
    "\n",
    "# Create a set using the female_species_list as female_penguin_species\n",
    "female_penguin_species = set(female_species_list)\n",
    "\n",
    "# Find the difference between female_penguin_species and male_penguin_species. Store the result as differences\n",
    "differences = female_penguin_species.difference(male_penguin_species)\n",
    "\n",
    "# Print the differences\n",
    "print(differences)"
   ]
  },
  {
   "cell_type": "markdown",
   "metadata": {},
   "source": [
    "### Finding all the data and the overlapping data between sets\n",
    "Sets have several methods to combine, compare, and study them all based on mathematical set theory. The .union() method returns a set of all the elements found in the set you used the method on plus any sets passed as arguments to the method. You can also look for overlapping data in sets by using the .intersection() method on a set and passing another set as an argument. It will return an empty set if nothing matches.\n",
    "\n",
    "Your job in this exercise is to find the union and intersection in the species from male and female penguins. For this purpose, two sets have been pre-loaded into your workspace: female_penguin_species and male_penguin_species."
   ]
  },
  {
   "cell_type": "code",
   "execution_count": 46,
   "metadata": {},
   "outputs": [
    {
     "name": "stdout",
     "output_type": "stream",
     "text": [
      "3\n",
      "2\n"
     ]
    }
   ],
   "source": [
    "# Combine all the species in female_penguin_species and male_penguin_species by computing their union. Store the result as all_species.\n",
    "all_species = female_penguin_species.union(male_penguin_species)\n",
    "\n",
    "# Print the count of names in all_species\n",
    "print(len(all_species))\n",
    "\n",
    "# Find the intersection: overlapping_species\n",
    "overlapping_species = female_penguin_species.intersection(male_penguin_species)\n",
    "\n",
    "# Print the count of species in overlapping_species\n",
    "print(len(overlapping_species))"
   ]
  },
  {
   "cell_type": "markdown",
   "metadata": {},
   "source": [
    "## 4. Advanced Data Types"
   ]
  },
  {
   "cell_type": "markdown",
   "metadata": {},
   "source": [
    "### Using Counter on lists\n",
    "Counter is a powerful tool for counting, validating, and learning more about the elements within a dataset that is found in the collections module. You pass an iterable (list, set, tuple) or a dictionary to the Counter. You can also use the Counter object similarly to a dictionary with key/value assignment, for example counter[key] = value.\n",
    "\n",
    "A common usage for Counter is checking data for consistency prior to using it, so let's do just that."
   ]
  },
  {
   "cell_type": "code",
   "execution_count": 60,
   "metadata": {},
   "outputs": [
    {
     "name": "stdout",
     "output_type": "stream",
     "text": [
      "<class 'list'>\n",
      "Counter({'MALE': 15, 'FEMALE': 5})\n"
     ]
    }
   ],
   "source": [
    "# penguins list\n",
    "penguins = [{'Species': 'Gentoo', 'Flipper Length (mm)': 230.0, 'Body Mass (g)': 5500.0, 'Sex': 'MALE'}, {'Species': 'Chinstrap', 'Flipper Length (mm)': 201.0, 'Body Mass (g)': 4300.0, 'Sex': 'MALE'}, {'Species': 'Adlie', 'Flipper Length (mm)': 180.0, 'Body Mass (g)': 3800.0, 'Sex': 'MALE'}, {'Species': 'Gentoo', 'Flipper Length (mm)': 229.0, 'Body Mass (g)': 5800.0, 'Sex': 'MALE'}, {'Species': 'Chinstrap', 'Flipper Length (mm)': 210.0, 'Body Mass (g)': 4100.0, 'Sex': 'MALE'}, {'Species': 'Adlie', 'Flipper Length (mm)': 200.0, 'Body Mass (g)': 3975.0, 'Sex': 'MALE'}, {'Species': 'Gentoo', 'Flipper Length (mm)': 225.0, 'Body Mass (g)': 5400.0, 'Sex': 'MALE'}, {'Species': 'Chinstrap', 'Flipper Length (mm)': 210.0, 'Body Mass (g)': 4800.0, 'Sex': 'MALE'}, {'Species': 'Chinstrap', 'Flipper Length (mm)': 193.0, 'Body Mass (g)': 3800.0, 'Sex': 'FEMALE'}, {'Species': 'Adlie', 'Flipper Length (mm)': 176.0, 'Body Mass (g)': 3450.0, 'Sex': 'FEMALE'}, {'Species': 'Chinstrap', 'Flipper Length (mm)': 210.0, 'Body Mass (g)': 3950.0, 'Sex': 'MALE'}, {'Species': 'Gentoo', 'Flipper Length (mm)': 219.0, 'Body Mass (g)': 5250.0, 'Sex': 'MALE'}, {'Species': 'Gentoo', 'Flipper Length (mm)': 210.0, 'Body Mass (g)': 4300.0, 'Sex': 'FEMALE'}, {'Species': 'Gentoo', 'Flipper Length (mm)': 216.0, 'Body Mass (g)': 4925.0, 'Sex': 'MALE'}, {'Species': 'Adlie', 'Flipper Length (mm)': 187.0, 'Body Mass (g)': 3550.0, 'Sex': 'FEMALE'}, {'Species': 'Adlie', 'Flipper Length (mm)': 192.0, 'Body Mass (g)': 3950.0, 'Sex': 'MALE'}, {'Species': 'Chinstrap', 'Flipper Length (mm)': 193.0, 'Body Mass (g)': 3800.0, 'Sex': 'MALE'}, {'Species': 'Chinstrap', 'Flipper Length (mm)': 201.0, 'Body Mass (g)': 4050.0, 'Sex': 'MALE'}, {'Species': 'Adlie', 'Flipper Length (mm)': 190.0, 'Body Mass (g)': 3650.0, 'Sex': 'MALE'}, {'Species': 'Adlie', 'Flipper Length (mm)': 181.0, 'Body Mass (g)': 3175.0, 'Sex': 'FEMALE'}]\n",
    "print(type(penguins))\n",
    "\n",
    "# Import the Counter object\n",
    "from collections import Counter\n",
    "\n",
    "# Create a Counter of the penguins sex using a list comp\n",
    "penguins_sex_counts = Counter(penguin['Sex'] for penguin in penguins \n",
    "                              if penguin['Sex'] in ('FEMALE', 'MALE'))\n",
    "# Print the penguins_sex_counts\n",
    "print(penguins_sex_counts)"
   ]
  },
  {
   "cell_type": "markdown",
   "metadata": {},
   "source": [
    "### Finding most common elements\n",
    "Another powerful usage of Counter is finding the most common elements in a list. This can be done with the .most_common() method."
   ]
  },
  {
   "cell_type": "code",
   "execution_count": 62,
   "metadata": {},
   "outputs": [
    {
     "name": "stdout",
     "output_type": "stream",
     "text": [
      "[('Chinstrap', 7), ('Adlie', 7), ('Gentoo', 6)]\n"
     ]
    }
   ],
   "source": [
    "# Import the Counter object\n",
    "from collections import Counter\n",
    "\n",
    "# Create a Counter of the penguins list called penguins_species_counts; use a list comprehension to return the Species of each penguin to the Counter.\n",
    "penguins_species_counts = Counter(penguin['Species'] for penguin in penguins)\n",
    "\n",
    "# Find the 3 most common species counts\n",
    "print(penguins_species_counts.most_common(3))"
   ]
  },
  {
   "cell_type": "markdown",
   "metadata": {},
   "source": [
    "### Creating dictionaries of an unknown structure\n",
    "Occasionally, you'll need a structure to hold nested data, and you may not be certain that the keys will all actually exist. This can be an issue if you're trying to append items to a list for that key. You might remember the NYC data that we explored in the video. In order to solve the problem with a regular dictionary, you'll need to test that the key exists in the dictionary, and if not, add it with an empty list.\n",
    "\n",
    "You'll be working with a list of entries that contains species, flipper length, body mass, and sex of the female penguins in our study. You're going to solve this same type of problem with a much easier solution in the next exercise."
   ]
  },
  {
   "cell_type": "code",
   "execution_count": 64,
   "metadata": {},
   "outputs": [
    {
     "name": "stdout",
     "output_type": "stream",
     "text": [
      "<class 'list'>\n"
     ]
    }
   ],
   "source": [
    "# weight_log list\n",
    "weight_log = [('Chinstrap', 'FEMALE', 3800.0), \n",
    "              ('Adlie', 'FEMALE', 3450.0), \n",
    "              ('Gentoo', 'FEMALE', 4300.0), \n",
    "              ('Adlie', 'FEMALE', 3550.0), \n",
    "              ('Adlie', 'FEMALE', 3175.0)]"
   ]
  },
  {
   "cell_type": "code",
   "execution_count": 96,
   "metadata": {},
   "outputs": [
    {
     "name": "stdout",
     "output_type": "stream",
     "text": [
      "[['FEMALE', 3450.0], ['FEMALE', 3550.0], ['FEMALE', 3175.0]]\n"
     ]
    }
   ],
   "source": [
    "# Create an empty dictionary: female_penguin_weights\n",
    "female_penguin_weights = {}\n",
    "\n",
    "# Iterate over the weight_log entries\n",
    "for species, sex, body_mass in weight_log:\n",
    "    # Check to see if species is already in the dictionary\n",
    "    if species not in female_penguin_weights:\n",
    "        # Create an empty list for any missing species\n",
    "        female_penguin_weights[species] = []\n",
    "    # Append the sex and body_mass as a tuple to the species keys list\n",
    "    female_penguin_weights[species].append([sex, body_mass])\n",
    "    \n",
    "# Print the weights for 'Adlie'\n",
    "print(female_penguin_weights['Adlie'])"
   ]
  },
  {
   "cell_type": "markdown",
   "metadata": {},
   "source": [
    "### Safely appending to a key's value list\n",
    "Often when working with dictionaries, you will need to initialize a data type before you can use it. A prime example of this is a list, which has to be initialized on each key before you can append to that list.\n",
    "\n",
    "A defaultdict allows you to define what each uninitialized key will contain. When establishing a defaultdict, you pass it the type you want it to be, such as a list, tuple, set, int, string, dictionary or any other valid type object."
   ]
  },
  {
   "cell_type": "code",
   "execution_count": 116,
   "metadata": {},
   "outputs": [
    {
     "name": "stdout",
     "output_type": "stream",
     "text": [
      "defaultdict(<class 'list'>, {'Chinstrap': [3800.0], 'Adlie': [3450.0, 3550.0, 3175.0], 'Gentoo': [4300.0]})\n",
      "----------------------------------------------------------------------------------------------------\n",
      "dict_items([('Chinstrap', [3800.0]), ('Adlie', [3450.0, 3550.0, 3175.0]), ('Gentoo', [4300.0])])\n",
      "----------------------------------------------------------------------------------------------------\n",
      "[('Chinstrap', [3800.0]), ('Adlie', [3450.0, 3550.0, 3175.0])]\n"
     ]
    }
   ],
   "source": [
    "# Import defaultdict\n",
    "from collections import defaultdict\n",
    "\n",
    "# Create a defaultdict with a default type of list: male_penguin_weights\n",
    "male_penguin_weights = defaultdict(list)\n",
    "\n",
    "# Iterate over the weight_log entries\n",
    "for species, sex, body_mass in weight_log:\n",
    "    # Use the species as the key, and append the body_mass to it\n",
    "    male_penguin_weights[species].append(body_mass)\n",
    "    \n",
    "print(male_penguin_weights)\n",
    "print('--'*50)\n",
    "# Print dictionary tiems\n",
    "print(male_penguin_weights.items())\n",
    "print('--'*50)\n",
    "# Print the first 2 items of the male_penguin_weights dictionary\n",
    "# Use the .items() method on male_penguin_weights to access its items, and then convert it into a list using list(). Be sure to use list slicing to select only the first 2 items.\n",
    "print(list(male_penguin_weights.items())[:2])"
   ]
  },
  {
   "cell_type": "markdown",
   "metadata": {},
   "source": [
    "### Creating namedtuples for storing data\n",
    "Often times when working with data, you will use a dictionary just so you can use key names to make reading the code and accessing the data easier to understand. Python has another container called a namedtuple that is a tuple, but has names for each position of the tuple. You create one by passing a name for the tuple type and a list of field names.\n",
    "\n",
    "For example, Cookie = namedtuple(\"Cookie\", ['name', 'quantity']) will create a container, and you can create new ones of the type using Cookie('chocolate chip', 1) where you can access the name using the name attribute, and then get the quantity using the quantity attribute."
   ]
  },
  {
   "cell_type": "code",
   "execution_count": 144,
   "metadata": {},
   "outputs": [
    {
     "name": "stdout",
     "output_type": "stream",
     "text": [
      "[SpeciesDetails(species='Gentoo', sex='MALE', body_mass=5500.0), SpeciesDetails(species='Chinstrap', sex='MALE', body_mass=4300.0), SpeciesDetails(species='Adlie', sex='MALE', body_mass=3800.0), SpeciesDetails(species='Gentoo', sex='MALE', body_mass=5800.0), SpeciesDetails(species='Chinstrap', sex='MALE', body_mass=4100.0)]\n"
     ]
    }
   ],
   "source": [
    "# Import namedtuple from collections\n",
    "from collections import namedtuple\n",
    "\n",
    "# create weight_log\n",
    "weight_log = [('Gentoo', 'MALE', 5500.0), ('Chinstrap', 'MALE', 4300.0), ('Adlie', 'MALE', 3800.0), ('Gentoo', 'MALE', 5800.0), ('Chinstrap', 'MALE', 4100.0), ('Adlie', 'MALE', 3975.0), ('Gentoo', 'MALE', 5400.0), ('Chinstrap', 'MALE', 4800.0), ('Chinstrap', 'FEMALE', 3800.0), ('Adlie', 'FEMALE', 3450.0), ('Chinstrap', 'MALE', 3950.0), ('Gentoo', 'MALE', 5250.0), ('Gentoo', 'FEMALE', 4300.0), ('Gentoo', 'MALE', 4925.0), ('Adlie', 'FEMALE', 3550.0), ('Adlie', 'MALE', 3950.0), ('Chinstrap', 'MALE', 3800.0), ('Chinstrap', 'MALE', 4050.0), ('Adlie', 'MALE', 3650.0), ('Adlie', 'FEMALE', 3175.0)]\n",
    "\n",
    "# Create a namedtuple called SpeciesDetails with a type name of SpeciesDetails and fields of 'species', 'sex', and 'body_mass'.\n",
    "SpeciesDetails = namedtuple('SpeciesDetails', ['species', 'sex', 'body_mass'])\n",
    "\n",
    "# Create the empty list: labeled_entries\n",
    "labeled_entries = []\n",
    "\n",
    "# Iterate over the weight_log list, unpacking it into species, sex, and body_mass, and create a new SpeciesDetails namedtuple instance for each entry and append it to labeled_entries.\n",
    "for species, sex, body_mass in weight_log:\n",
    "    # Append a new SpeciesDetails namedtuple instance for each entry to labeled_entries\n",
    "    labeled_entries.append(SpeciesDetails(species, sex, body_mass))\n",
    "    \n",
    "print(labeled_entries[:5])"
   ]
  },
  {
   "cell_type": "markdown",
   "metadata": {},
   "source": [
    "### Leveraging attributes on namedtuples\n",
    "Once you have a namedtuple, you can write more expressive code that is easier to understand. Remember, you can access the elements in the tuple by their name as an attribute. For example, you can access the species of the namedtuples in the previous exercise using the .species attribute."
   ]
  },
  {
   "cell_type": "code",
   "execution_count": 156,
   "metadata": {},
   "outputs": [
    {
     "name": "stdout",
     "output_type": "stream",
     "text": [
      "MALE:4300.0\n",
      "MALE:4100.0\n",
      "MALE:4800.0\n",
      "FEMALE:3800.0\n",
      "MALE:3950.0\n",
      "MALE:3800.0\n",
      "MALE:4050.0\n"
     ]
    }
   ],
   "source": [
    "# Iterate over the first twenty entries in labeled_entries\n",
    "for entry in labeled_entries[:20]:\n",
    "    # if the entry's species is Chinstrap\n",
    "    if entry.species == 'Chinstrap':\n",
    "      # Print each entry's sex and body_mass seperated by a colon\n",
    "      print(f'{entry.sex}:{entry.body_mass}')"
   ]
  },
  {
   "cell_type": "markdown",
   "metadata": {},
   "source": [
    "### Creating a dataclass\n",
    "Dataclasses can provide even richer ways of storing and working with data. Previously we used a namedtuple on weight log entries to make a nice easy to use data structure. In this code, we're going to use a dataclass to do the same thing, but add a custom property to return the body mass to flipper length ratio. Dataclasses start with a collection of fields and their types. Then you define any properties, which are functions on the dataclass that operate on itself to return additional information about the data. For example, a person dataclass might have a property that calculates someone's current age based on their birthday and the current date."
   ]
  },
  {
   "cell_type": "code",
   "execution_count": 157,
   "metadata": {},
   "outputs": [],
   "source": [
    "# Import dataclass\n",
    "from dataclasses import dataclass\n",
    "\n",
    "@dataclass\n",
    "class WeightEntry:\n",
    "    # Add the species (string), sex (string), body_mass (int), and flipper_length (int) fields to the dataclass.\n",
    "    species: str\n",
    "    flipper_length: int\n",
    "    body_mass: int\n",
    "    sex: str\n",
    "        \n",
    "    # Define a property that returns the body_mass / flipper_length\n",
    "    @property\n",
    "    def mass_to_flipper_length_ratio(self):\n",
    "        return self.body_mass / self.flipper_length"
   ]
  },
  {
   "cell_type": "markdown",
   "metadata": {},
   "source": [
    "### Using dataclasses\n",
    "Let's put our WeightEntry dataclass we created in the prior exercise to use. We'll create an instance of the WeightEntry for each entry in the weightlog and then use the masstoflipperlength_ratio property we added to perform the calculation. Here is a reminder of our WeightEntry dataclass."
   ]
  },
  {
   "cell_type": "code",
   "execution_count": 163,
   "metadata": {},
   "outputs": [
    {
     "ename": "ValueError",
     "evalue": "not enough values to unpack (expected 4, got 3)",
     "output_type": "error",
     "traceback": [
      "\u001b[0;31m---------------------------------------------------------------------------\u001b[0m",
      "\u001b[0;31mValueError\u001b[0m                                Traceback (most recent call last)",
      "\u001b[0;32m<ipython-input-163-6f4fef2d3835>\u001b[0m in \u001b[0;36m<module>\u001b[0;34m\u001b[0m\n\u001b[1;32m      3\u001b[0m \u001b[0;34m\u001b[0m\u001b[0m\n\u001b[1;32m      4\u001b[0m \u001b[0;31m# Iterate over the weight_log entries\u001b[0m\u001b[0;34m\u001b[0m\u001b[0;34m\u001b[0m\u001b[0;34m\u001b[0m\u001b[0m\n\u001b[0;32m----> 5\u001b[0;31m \u001b[0;32mfor\u001b[0m \u001b[0mspecies\u001b[0m\u001b[0;34m,\u001b[0m \u001b[0mflipper_length\u001b[0m\u001b[0;34m,\u001b[0m \u001b[0mbody_mass\u001b[0m\u001b[0;34m,\u001b[0m \u001b[0msex\u001b[0m \u001b[0;32min\u001b[0m \u001b[0mweight_log\u001b[0m\u001b[0;34m:\u001b[0m\u001b[0;34m\u001b[0m\u001b[0;34m\u001b[0m\u001b[0m\n\u001b[0m\u001b[1;32m      6\u001b[0m     \u001b[0;31m# Append a new WeightEntry instance to labeled_entries\u001b[0m\u001b[0;34m\u001b[0m\u001b[0;34m\u001b[0m\u001b[0;34m\u001b[0m\u001b[0m\n\u001b[1;32m      7\u001b[0m     \u001b[0mlabeled_entries\u001b[0m\u001b[0;34m.\u001b[0m\u001b[0mappend\u001b[0m\u001b[0;34m(\u001b[0m\u001b[0mWeightEntry\u001b[0m\u001b[0;34m(\u001b[0m\u001b[0mspecies\u001b[0m\u001b[0;34m,\u001b[0m \u001b[0msex\u001b[0m\u001b[0;34m,\u001b[0m \u001b[0mbody_mass\u001b[0m\u001b[0;34m,\u001b[0m \u001b[0mflipper_length\u001b[0m\u001b[0;34m)\u001b[0m\u001b[0;34m)\u001b[0m\u001b[0;34m\u001b[0m\u001b[0;34m\u001b[0m\u001b[0m\n",
      "\u001b[0;31mValueError\u001b[0m: not enough values to unpack (expected 4, got 3)"
     ]
    }
   ],
   "source": [
    "# Create the empty list: labeled_entries\n",
    "labeled_entries = []\n",
    "\n",
    "# Iterate over the weight_log entries\n",
    "for species, flipper_length, body_mass, sex in weight_log:\n",
    "    # Append a new WeightEntry instance to labeled_entries\n",
    "    labeled_entries.append(WeightEntry(species, sex, body_mass, flipper_length))\n",
    "    \n",
    "# Print a list of the first 5 mass_to_flipper_length_ratio values\n",
    "print([entry.mass_to_flipper_length_ratio for entry in labeled_entries[:5]])\n",
    "\n",
    "# does not execute ^^"
   ]
  }
 ],
 "metadata": {
  "kernelspec": {
   "display_name": "Python 3",
   "language": "python",
   "name": "python3"
  },
  "language_info": {
   "codemirror_mode": {
    "name": "ipython",
    "version": 3
   },
   "file_extension": ".py",
   "mimetype": "text/x-python",
   "name": "python",
   "nbconvert_exporter": "python",
   "pygments_lexer": "ipython3",
   "version": "3.8.5"
  }
 },
 "nbformat": 4,
 "nbformat_minor": 4
}
